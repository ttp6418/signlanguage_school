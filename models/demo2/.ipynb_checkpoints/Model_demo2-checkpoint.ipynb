{
 "cells": [
  {
   "cell_type": "markdown",
   "id": "fb4139ae",
   "metadata": {},
   "source": [
    "### 수어 형식으로 형태소 변환하기 위한 Class정의"
   ]
  },
  {
   "cell_type": "code",
   "execution_count": 1,
   "id": "36f3dc8d",
   "metadata": {},
   "outputs": [],
   "source": [
    "class Morph:\n",
    "    MORPH = {   # 명사\n",
    "                'NNG': '명사', 'NNP': '명사', 'NNB': '명사','NF': '명사', 'NP': '명사',\n",
    "                # 용언\n",
    "                'VV': '용언', 'VA': '용언', 'VX': '용언', 'VCP': '용언','VCN': '용언', 'NV': '용언', 'XSV': '용언',\n",
    "                # 관형사\n",
    "                'MM': '관형사',\n",
    "                # 부사\n",
    "                'MAG': '부사', 'MAJ': '부사',\n",
    "                # 감탄사\n",
    "                'IC': '감탄사',\n",
    "                # 조사/\n",
    "                'JKS': '조사','JKC': '조사', 'JKG': '조사', 'JKO': '조사', 'JKB': '조사', 'JKV': '조사',\n",
    "                'JKQ': '조사', 'JX': '조사', 'JC': '조사',\n",
    "                # 어미\n",
    "                'EP': '어미','EF': '어미','EC': '어미','ETN': '어미','ETM': '어미',\n",
    "                # 접사\n",
    "                'XPN': '접사','XSN': '접사','XSA': '접사', 'XR': '접사',\n",
    "                # 부호\n",
    "                'SF': '기호','SP': '기호','SS': '기호','SE': '기호','SO': '기호','SW': '기호',\n",
    "                # 숫자, 수사\n",
    "                'SN': '숫자', 'NR': '수사',\n",
    "                # 영어\n",
    "                'SL': '영어',\n",
    "                # 한자 제외\n",
    "                'SH': '없음',\n",
    "                # 분석 불능 범주 제외\n",
    "                'NA': '없음'\n",
    "    }\n",
    "\n",
    "    # 사용하는 관형사\n",
    "    USE_DETER = ['저', '맨', '별', '무슨', '헌', '온', '온갖', '그', '동', '오랜', '모든', '그런', '양', '딴', '각', '어떤', '이런',\n",
    "                 '몹쓸', '약', '옛', '어느', '한', '이러한']\n",
    "\n",
    "    # 사용하는 조사\n",
    "    USE_POST = ['랑', '에서', '서', '더러', '보다', '에게', '의', '로', '이라고', '에', '처럼', '께', '으로', '한테', '라고',  '게', '로서', # 격조사\n",
    "                 '로써', '으로서', '으로써', '만치', '만큼', '보고', '보다', '서부터', '에서부터', '시여', '이시여', '아',# 격조사\n",
    "                '이나', '든지', '부터', '도', '커녕', '마다', '밖에', '뿐', '만', '까지', '라도', '이라도', '라든지', '거나', '나', '나마', # 보조사\n",
    "                '이나마', '는', '다가', '대로', '든가', '들', '따라', '라야', '란', '이란','로부터', '마는', '마저', '밖에', '부터', '뿐', # 보조사\n",
    "                '야말로', '이야말로', '에는', '에다', '에다가', '은',  '이라야', '이야', '조차',# 보조사\n",
    "                '과', '와', '이랑', '고', '이고', '며', '이며',# 접속조사\n",
    "                '이니까', '이다', '야'  # 서술격 조사\n",
    "                ]\n",
    "\n",
    "    # 사용하는 어미\n",
    "    USE_END = ['았', '었', 'ㅂ시다', '면서', '자', '지만', '던', '면', '러', '다오', 'ㅂ니까', '다가', '아라', '자',\n",
    "               '고자', '예요', '고', '을까', '구나', '다면', '으면', '라고', '와', '느라고']\n",
    "\n",
    "    # 수어사전에 없는 명사 있는 명사로 대체\n",
    "    SPECIAL_NOUN = {'꺼': '것', '거': '것', '니': '너', '내': '나'}\n",
    "\n",
    "    # 불규칙 어미\n",
    "    SPECIAL_END = {'았': '끝', '었': '끝', '으면': '면', '다면': '면', '예요': '이다', '을까': 'ㅂ니까', '다면': '면'}\n",
    "\n",
    "    # 서술격 조사 '이다'로 변경\n",
    "    SPECIAL_POST = {'이': '이다'}\n",
    "\n",
    "    # 불규칙 접사\n",
    "    SPECIAL_AFFIX = {'스럽': '스럽다', '하': '하다', '어떠한': '어떤', '이러한': '이런', '그러한': '그런'}\n",
    "\n",
    "    # 수어사전에 없는 부사 있는 부사로 대체\n",
    "    SPECIAL_ADVERB = {'근데': '그런데', '각각': '각'}\n",
    "\n",
    "    # 기호\n",
    "    SPECIAL_MARK = {'?': 'ㅂ니까'}"
   ]
  },
  {
   "cell_type": "code",
   "execution_count": 2,
   "id": "59098aaf",
   "metadata": {},
   "outputs": [],
   "source": [
    "class StopWord:\n",
    "    def __init__(self):\n",
    "        self.mp = Morph()\n",
    "\n",
    "    def process_morph(self, morph, word):\n",
    "        m = self.mp.MORPH[morph]\n",
    "        FUN = {\n",
    "            '명사': self.check_noun,  # 명사(noun)\n",
    "            '용언': self.check_verb,  # 동사(verb)\n",
    "            '관형사': self.default,  # 관형사(determinant)\n",
    "            '부사': self.check_adverb,  # 부사(adverb)\n",
    "            '감탄사': self.default,  # 감탄사(exclamation)\n",
    "            '조사': self.ignore,  # 조사(post)\n",
    "            '어미': self.check_end,  # 어미(end)\n",
    "            '접사': self.check_affix,  #접사(affix)\n",
    "            '숫자': self.check_number,  # 숫자(number),\n",
    "            '수사': self.check_number,\n",
    "            '기호': self.check_mark,  # 기호,\n",
    "            '영어': self.ignore,\n",
    "            '없음': self.ignore  # 무시해도 되는 품사들\n",
    "        }\n",
    "        fun = FUN[m]\n",
    "        return fun(m, word)\n",
    "\n",
    "    # 무조건 출력\n",
    "    def default(self, morph, word):\n",
    "        return 1, word, morph\n",
    "\n",
    "    # 의미있는 명사 추출\n",
    "    def check_noun(self, morph, word):\n",
    "        if word in self.mp.SPECIAL_NOUN.keys():\n",
    "            return 1, self.mp.SPECIAL_NOUN[word], morph\n",
    "        else:\n",
    "            return 1, word, morph\n",
    "\n",
    "    # 의미있는 동사 추출\n",
    "    def check_verb(self, morph, word):\n",
    "        return 1, word+'다', morph\n",
    "\n",
    "    def check_deter(self, morph, word):\n",
    "        if word in self.mp.USE_DETER:\n",
    "            return 1, word, morph\n",
    "        else:\n",
    "            return 0, '', ''\n",
    "\n",
    "    # 의미있는 부사 추출\n",
    "    def check_adverb(self, morph, word):\n",
    "        if word in self.mp.SPECIAL_ADVERB.keys():\n",
    "            return 1, self.mp.SPECIAL_ADVERB[word], morph\n",
    "        else:\n",
    "            return 1, word, morph\n",
    "\n",
    "    # 의미있는 조사 추출\n",
    "    def check_post(self, morph, word):\n",
    "        if word in self.mp.USE_POST:\n",
    "            if word in self.mp.SPECIAL_POST.keys():\n",
    "                return 1, self.mp.SPECIAL_POST[word], morph\n",
    "            else:\n",
    "                return 1, word, morph\n",
    "        else:\n",
    "            return 0, '', ''\n",
    "\n",
    "    # 의미있는 어미 추출\n",
    "    def check_end(self, morph, word):\n",
    "        if word in self.mp.USE_END:\n",
    "            if word in self.mp.SPECIAL_END.keys():\n",
    "                return 1, self.mp.SPECIAL_END[word], morph\n",
    "            else:\n",
    "                return 1, word, morph\n",
    "        else:\n",
    "            return 0, '', ''\n",
    "\n",
    "    # 의미있는 접사 추출\n",
    "    def check_affix(self, morph, word):\n",
    "        if word in self.mp.SPECIAL_AFFIX.keys():\n",
    "            return 1, self.mp.SPECIAL_AFFIX[word], morph\n",
    "        else:\n",
    "            return 1, word, morph\n",
    "\n",
    "    # 숫자 표현(ex. 157 -> 100 50 7)\n",
    "    def check_number(self, morph, word):\n",
    "        if morph == '수사':\n",
    "            return 1, word, morph\n",
    "        else:\n",
    "            number = int(word)\n",
    "            # number의 자릿수\n",
    "            cipher = len(word)\n",
    "            text = ''\n",
    "            for i in range(cipher):\n",
    "                if word[i] == '0': continue\n",
    "                text += str(int(word[i]) * (10 ** (cipher - 1 - i)))\n",
    "                text += ' '\n",
    "            return 1, text, morph\n",
    "\n",
    "    # 기호 처리\n",
    "    def check_mark(self, morph, word):\n",
    "        if word in self.mp.SPECIAL_MARK.keys():\n",
    "            return 1, self.mp.SPECIAL_MARK[word], morph\n",
    "        else:\n",
    "            return 0, '', ''\n",
    "\n",
    "    # 무조건 제거\n",
    "    def ignore(self, morph, word):\n",
    "        return 0, '', ''"
   ]
  },
  {
   "cell_type": "markdown",
   "id": "ca0b2c9b",
   "metadata": {},
   "source": [
    "### komoran 형태소분석기 사용"
   ]
  },
  {
   "cell_type": "code",
   "execution_count": 3,
   "id": "b83d43ef",
   "metadata": {},
   "outputs": [],
   "source": [
    "from konlpy.tag import Komoran\n",
    "komoran = Komoran(userdic='my_dict.txt')   # 내 사전 추가\n",
    "# komoran = Komoran()\n",
    "\n",
    "\n",
    "# 자막파일을 입력받아 수어에 사용되는 형태소를 재배치하는 함수를 가진 객체\n",
    "class NLP:\n",
    "    def __init__(self):\n",
    "        self.komoran = komoran\n",
    "        # self.komoran.set_user_dic(r\"C:/Users/SSAFY/Desktop/ssafy공통PJT/pjt_backup/SSLIS/app/bin/dic.user\")\n",
    "        self.pr = StopWord()\n",
    "        pass\n",
    "\n",
    "    def splitLine(self, line):\n",
    "        for i in range(len(line)):\n",
    "            s = str(line[i])\n",
    "#             print(s)\n",
    "            s = s.replace('(', '')\n",
    "            s = s.replace(')', '')\n",
    "            s = s.replace(\"'\", '')\n",
    "            s = s.replace(\" \", '')\n",
    "#             print(s)\n",
    "            s = s.split(',')\n",
    "#             print(s)\n",
    "            line[i] = s\n",
    "#         print(line)\n",
    "        return line\n",
    "\n",
    "    # 수어에 사용되는 형태소를 재배치하는 함수\n",
    "    def relocateMorpheme(self, subtitle_path):\n",
    "        result=[]\n",
    "        word_list=[]\n",
    "        morph_list=[]\n",
    "\n",
    "        line = self.komoran.pos(subtitle_path)\n",
    "        line = self.splitLine(line)\n",
    "        for w, m in line:\n",
    "            r, word, morph = self.pr.process_morph(m, w)\n",
    "            if r == 1:\n",
    "                if (word == 'ㅂ니까') or (word == '하다') or (word == '끝'):\n",
    "                    if len(result) == 0:\n",
    "                        word_list.append(word)\n",
    "                        morph_list.append(morph)\n",
    "                    elif result[len(result) - 1][0] != word:\n",
    "                        word_list.append(word)\n",
    "                        morph_list.append(morph)\n",
    "                else:\n",
    "                    word_list.append(word)\n",
    "                    morph_list.append(morph)\n",
    "        result.append(word_list)\n",
    "        result.append(morph_list)\n",
    "        return result[0], result[1]\n",
    "\n",
    "\n"
   ]
  },
  {
   "cell_type": "markdown",
   "id": "a49ea259",
   "metadata": {},
   "source": [
    "### STT"
   ]
  },
  {
   "cell_type": "code",
   "execution_count": 4,
   "id": "e1eee8b3",
   "metadata": {},
   "outputs": [
    {
     "name": "stdout",
     "output_type": "stream",
     "text": [
      "[[['안녕하세요'], ['명사'], 0.9], [['왼손', '코딩', '의', '김해', '손', '이다'], ['명사', '명사', '명사', '명사', '명사', '용언'], 1.4999999999999998], [['김', '왼손', '왼손', '코딩', '은', '비전공자', '위하다', '세상', '제일', '쉽다', '코딩', '교육', '목표', '하다', '채널', '이다'], ['명사', '명사', '명사', '명사', '명사', '명사', '용언', '명사', '명사', '용언', '명사', '명사', '명사', '용언', '명사', '용언'], 6.7], [['최근', '몇', '년', '간', '코딩', '되다'], ['명사', '관형사', '명사', '명사', '명사', '용언'], 2.1999999999999993], [['없다', '고', '당분간', '계속', '되다', '것', '같다'], ['용언', '어미', '부사', '명사', '용언', '명사', '용언'], 2.3000000000000007], [['이런', '트렌드', '따르다', '많다', '비전공자', '들', '코딩', '하다', '전하다', '고', '있다'], ['관형사', '명사', '용언', '용언', '명사', '접사', '명사', '용언', '용언', '어미', '용언'], 3.8999999999999986], [['많다', '인터넷', '사이트', '학원', '코딩', '싶다', '공부', '하다'], ['용언', '명사', '명사', '명사', '명사', '용언', '명사', '용언'], 3.3000000000000007], [['하지만', '대부분', '비전공자', '들다', '중간', '톡', '하다'], ['부사', '명사', '명사', '용언', '명사', '부사', '용언'], 3.6000000000000014], [['왜', '이렇다', '다', '들', '포기', '하다', '되다', '걸다'], ['부사', '용언', '명사', '접사', '명사', '용언', '용언', '용언'], 2.3999999999999986], [['저', '컴퓨터공학', '출신', '이다'], ['명사', '명사', '명사', '용언'], 3.0], [['어느', '전공', '되다', '적성', '맞다', '않다', '사람', '들', '있다'], ['관형사', '명사', '용언', '명사', '용언', '용언', '명사', '접사', '용언'], 3.900000000000002], [['제가', '바로', '그렇다', '끝'], ['명사', '부사', '용언', '어미'], 1.7999999999999972], [['세상', '코딩', '제일', '싫어하다', '끝'], ['명사', '명사', '명사', '용언', '어미'], 2.3999999999999986], [['이쪽', '분야', '이런', '사람', '들', '보통', '코딩', '보기', '잘', '하다', '고', '하다', '그래서', '저', '코딩', '어렵다', '포기', '하다', '비전공자', '마음', '잘', '알다', '고', '있다'], ['명사', '명사', '관형사', '명사', '접사', '부사', '명사', '명사', '부사', '용언', '어미', '용언', '부사', '명사', '명사', '용언', '명사', '용언', '명사', '명사', '부사', '용언', '어미', '용언'], 8.900000000000006], [['코딩', '어렵다'], ['명사', '용언'], 2.3999999999999986], [['특히', '코딩', '걸다', '처음', '접하다', '비전공자', '더욱', '어렵다'], ['부사', '명사', '용언', '명사', '용언', '명사', '부사', '용언'], 4.899999999999999], [['지금', '이', '영상', '보다', '여러분', '코', '댕', '어렵다', '면', '잘', '찾아오다', '겁', '니다'], ['부사', '관형사', '명사', '용언', '명사', '명사', '부사', '용언', '어미', '부사', '용언', '명사', '명사'], 4.200000000000003], [['코딩', '교육', '유튜브', '채널', '간지', '벌써', '5 ', '년', '이다', '고', '그동안', '비전공자', '대상', '온라인', '오프라인', '강의', '많이', '하다', '끝'], ['명사', '명사', '명사', '명사', '명사', '부사', '숫자', '명사', '용언', '어미', '명사', '명사', '명사', '명사', '명사', '명사', '부사', '용언', '어미'], 7.5], [['많다', '비', '전공자', '들', '코딩', '가르치다', '면서', '공통', '적', '느끼다', '끝', '던', '것', '들', '있다'], ['용언', '명사', '명사', '접사', '명사', '용언', '어미', '명사', '접사', '용언', '어미', '어미', '명사', '접사', '용언'], 4.8999999999999915], [['이런', '것', '들', '모아모아', '코딩', '시작', '하다', '전', '비전공자', '들', '알다', '두다', '면', '좋다', '것', '들', '정리', '하다', '보다', '끝'], ['관형사', '명사', '접사', '명사', '명사', '명사', '용언', '관형사', '명사', '접사', '용언', '용언', '어미', '용언', '명사', '접사', '명사', '용언', '용언', '어미'], 7.300000000000011], [['코딩', '처음', '시작', '하다', '비전공자', '라면', '꼭', '한', '번', '보다', '고', '가다', '추천', '하다'], ['명사', '명사', '명사', '용언', '명사', '명사', '부사', '관형사', '명사', '용언', '어미', '용언', '명사', '용언'], 4.699999999999989], [['자', '그럼', '시작', '하다', '보다'], ['명사', '부사', '명사', '용언', '용언'], 2.4000000000000057]]\n"
     ]
    }
   ],
   "source": [
    "########2. Google STT API : 타임스탬프포함\n",
    "#f=open('script.txt')   #단어조합\n",
    "f=open('sentence.txt')   #문장조합\n",
    "text = f.read()\n",
    "temp=list(text.split('\\n'))\n",
    "del temp[-1]\n",
    "\n",
    "\n",
    "nlp=NLP()\n",
    "ans=[]    #l을 담을 전체 리스트\n",
    "l=[]   #각 문장의 단어, 형태소, 첫, 끝시간 포함 리스트\n",
    "for data in temp:\n",
    "    word, st, et = data.split(',')\n",
    "    l=list(nlp.relocateMorpheme(word))\n",
    "    l.append(float(et)-float(st))\n",
    "#     l.append(round(float(et)-float(st),1))\n",
    "#     l.append(st)\n",
    "#     l.append(et)\n",
    "    ans.append(l)\n",
    "\n",
    "print(ans)  \n",
    "# print(ans[1])  #[['왼손', '코딩', '의', '김해', '손', '이다'], ['명사', '명사', '명사', '명사', '명사', '용언'], '1.8', '3.3']\n",
    "# print(ans[1][2])   #['왼손', '코딩', '의', '김해', '손', '이다']\n",
    "# print(ans[1][0][0])  #왼손\n",
    "# print(ans[1][0][0][0])  #왼"
   ]
  },
  {
   "cell_type": "code",
   "execution_count": 5,
   "id": "e76ce4ab",
   "metadata": {},
   "outputs": [
    {
     "data": {
      "text/plain": [
       "[['안녕하세요'],\n",
       " ['왼손', '코딩', '의', '김해', '손', '이다'],\n",
       " ['김',\n",
       "  '왼손',\n",
       "  '왼손',\n",
       "  '코딩',\n",
       "  '은',\n",
       "  '비전공자',\n",
       "  '위하다',\n",
       "  '세상',\n",
       "  '제일',\n",
       "  '쉽다',\n",
       "  '코딩',\n",
       "  '교육',\n",
       "  '목표',\n",
       "  '하다',\n",
       "  '채널',\n",
       "  '이다'],\n",
       " ['최근', '몇', '년', '간', '코딩', '되다'],\n",
       " ['없다', '고', '당분간', '계속', '되다', '것', '같다'],\n",
       " ['이런', '트렌드', '따르다', '많다', '비전공자', '들', '코딩', '하다', '전하다', '고', '있다'],\n",
       " ['많다', '인터넷', '사이트', '학원', '코딩', '싶다', '공부', '하다'],\n",
       " ['하지만', '대부분', '비전공자', '들다', '중간', '톡', '하다'],\n",
       " ['왜', '이렇다', '다', '들', '포기', '하다', '되다', '걸다'],\n",
       " ['저', '컴퓨터공학', '출신', '이다'],\n",
       " ['어느', '전공', '되다', '적성', '맞다', '않다', '사람', '들', '있다'],\n",
       " ['제가', '바로', '그렇다', '끝'],\n",
       " ['세상', '코딩', '제일', '싫어하다', '끝'],\n",
       " ['이쪽',\n",
       "  '분야',\n",
       "  '이런',\n",
       "  '사람',\n",
       "  '들',\n",
       "  '보통',\n",
       "  '코딩',\n",
       "  '보기',\n",
       "  '잘',\n",
       "  '하다',\n",
       "  '고',\n",
       "  '하다',\n",
       "  '그래서',\n",
       "  '저',\n",
       "  '코딩',\n",
       "  '어렵다',\n",
       "  '포기',\n",
       "  '하다',\n",
       "  '비전공자',\n",
       "  '마음',\n",
       "  '잘',\n",
       "  '알다',\n",
       "  '고',\n",
       "  '있다'],\n",
       " ['코딩', '어렵다'],\n",
       " ['특히', '코딩', '걸다', '처음', '접하다', '비전공자', '더욱', '어렵다'],\n",
       " ['지금', '이', '영상', '보다', '여러분', '코', '댕', '어렵다', '면', '잘', '찾아오다', '겁', '니다'],\n",
       " ['코딩',\n",
       "  '교육',\n",
       "  '유튜브',\n",
       "  '채널',\n",
       "  '간지',\n",
       "  '벌써',\n",
       "  '5',\n",
       "  '년',\n",
       "  '이다',\n",
       "  '고',\n",
       "  '그동안',\n",
       "  '비전공자',\n",
       "  '대상',\n",
       "  '온라인',\n",
       "  '오프라인',\n",
       "  '강의',\n",
       "  '많이',\n",
       "  '하다',\n",
       "  '끝'],\n",
       " ['많다',\n",
       "  '비',\n",
       "  '전공자',\n",
       "  '들',\n",
       "  '코딩',\n",
       "  '가르치다',\n",
       "  '면서',\n",
       "  '공통',\n",
       "  '적',\n",
       "  '느끼다',\n",
       "  '끝',\n",
       "  '던',\n",
       "  '것',\n",
       "  '들',\n",
       "  '있다'],\n",
       " ['이런',\n",
       "  '것',\n",
       "  '들',\n",
       "  '모아모아',\n",
       "  '코딩',\n",
       "  '시작',\n",
       "  '하다',\n",
       "  '전',\n",
       "  '비전공자',\n",
       "  '들',\n",
       "  '알다',\n",
       "  '두다',\n",
       "  '면',\n",
       "  '좋다',\n",
       "  '것',\n",
       "  '들',\n",
       "  '정리',\n",
       "  '하다',\n",
       "  '보다',\n",
       "  '끝'],\n",
       " ['코딩',\n",
       "  '처음',\n",
       "  '시작',\n",
       "  '하다',\n",
       "  '비전공자',\n",
       "  '라면',\n",
       "  '꼭',\n",
       "  '한',\n",
       "  '번',\n",
       "  '보다',\n",
       "  '고',\n",
       "  '가다',\n",
       "  '추천',\n",
       "  '하다'],\n",
       " ['자', '그럼', '시작', '하다', '보다']]"
      ]
     },
     "execution_count": 5,
     "metadata": {},
     "output_type": "execute_result"
    }
   ],
   "source": [
    "words_list=[]  #단어\n",
    "gram_list=[]  #품사\n",
    "for i in range(len(ans)):\n",
    "    words=[]\n",
    "    for j in ans[i][0]:\n",
    "        aa=j.replace(\" \",\"\")   #'5 '이렇게 띄어쓰기가 존재하여 빈칸을 제거해줌 -> '5' 이렇게 되도록 만듦\n",
    "        words.append(aa)\n",
    "    words_list.append(words)\n",
    "    gram_list.append(ans[i][1])\n",
    "\n",
    "words_list\n"
   ]
  },
  {
   "cell_type": "markdown",
   "id": "8d803eef",
   "metadata": {},
   "source": [
    "### 숫자 처리 >> 완성!\n",
    "- 855 > 8 100 5 10 5"
   ]
  },
  {
   "cell_type": "code",
   "execution_count": 6,
   "id": "ad90ad0c",
   "metadata": {},
   "outputs": [
    {
     "data": {
      "text/plain": [
       "[['안녕하세요'],\n",
       " ['왼손', '코딩', '의', '김해', '손', '이다'],\n",
       " ['김',\n",
       "  '왼손',\n",
       "  '왼손',\n",
       "  '코딩',\n",
       "  '은',\n",
       "  '비전공자',\n",
       "  '위하다',\n",
       "  '세상',\n",
       "  '제일',\n",
       "  '쉽다',\n",
       "  '코딩',\n",
       "  '교육',\n",
       "  '목표',\n",
       "  '하다',\n",
       "  '채널',\n",
       "  '이다'],\n",
       " ['최근', '몇', '년', '간', '코딩', '되다'],\n",
       " ['없다', '고', '당분간', '계속', '되다', '것', '같다'],\n",
       " ['이런', '트렌드', '따르다', '많다', '비전공자', '들', '코딩', '하다', '전하다', '고', '있다'],\n",
       " ['많다', '인터넷', '사이트', '학원', '코딩', '싶다', '공부', '하다'],\n",
       " ['하지만', '대부분', '비전공자', '들다', '중간', '톡', '하다'],\n",
       " ['왜', '이렇다', '다', '들', '포기', '하다', '되다', '걸다'],\n",
       " ['저', '컴퓨터공학', '출신', '이다'],\n",
       " ['어느', '전공', '되다', '적성', '맞다', '않다', '사람', '들', '있다'],\n",
       " ['제가', '바로', '그렇다', '끝'],\n",
       " ['세상', '코딩', '제일', '싫어하다', '끝'],\n",
       " ['이쪽',\n",
       "  '분야',\n",
       "  '이런',\n",
       "  '사람',\n",
       "  '들',\n",
       "  '보통',\n",
       "  '코딩',\n",
       "  '보기',\n",
       "  '잘',\n",
       "  '하다',\n",
       "  '고',\n",
       "  '하다',\n",
       "  '그래서',\n",
       "  '저',\n",
       "  '코딩',\n",
       "  '어렵다',\n",
       "  '포기',\n",
       "  '하다',\n",
       "  '비전공자',\n",
       "  '마음',\n",
       "  '잘',\n",
       "  '알다',\n",
       "  '고',\n",
       "  '있다'],\n",
       " ['코딩', '어렵다'],\n",
       " ['특히', '코딩', '걸다', '처음', '접하다', '비전공자', '더욱', '어렵다'],\n",
       " ['지금', '이', '영상', '보다', '여러분', '코', '댕', '어렵다', '면', '잘', '찾아오다', '겁', '니다'],\n",
       " ['코딩',\n",
       "  '교육',\n",
       "  '유튜브',\n",
       "  '채널',\n",
       "  '간지',\n",
       "  '벌써',\n",
       "  '5',\n",
       "  '년',\n",
       "  '이다',\n",
       "  '고',\n",
       "  '그동안',\n",
       "  '비전공자',\n",
       "  '대상',\n",
       "  '온라인',\n",
       "  '오프라인',\n",
       "  '강의',\n",
       "  '많이',\n",
       "  '하다',\n",
       "  '끝'],\n",
       " ['많다',\n",
       "  '비',\n",
       "  '전공자',\n",
       "  '들',\n",
       "  '코딩',\n",
       "  '가르치다',\n",
       "  '면서',\n",
       "  '공통',\n",
       "  '적',\n",
       "  '느끼다',\n",
       "  '끝',\n",
       "  '던',\n",
       "  '것',\n",
       "  '들',\n",
       "  '있다'],\n",
       " ['이런',\n",
       "  '것',\n",
       "  '들',\n",
       "  '모아모아',\n",
       "  '코딩',\n",
       "  '시작',\n",
       "  '하다',\n",
       "  '전',\n",
       "  '비전공자',\n",
       "  '들',\n",
       "  '알다',\n",
       "  '두다',\n",
       "  '면',\n",
       "  '좋다',\n",
       "  '것',\n",
       "  '들',\n",
       "  '정리',\n",
       "  '하다',\n",
       "  '보다',\n",
       "  '끝'],\n",
       " ['코딩',\n",
       "  '처음',\n",
       "  '시작',\n",
       "  '하다',\n",
       "  '비전공자',\n",
       "  '라면',\n",
       "  '꼭',\n",
       "  '한',\n",
       "  '번',\n",
       "  '보다',\n",
       "  '고',\n",
       "  '가다',\n",
       "  '추천',\n",
       "  '하다'],\n",
       " ['자', '그럼', '시작', '하다', '보다']]"
      ]
     },
     "execution_count": 6,
     "metadata": {},
     "output_type": "execute_result"
    }
   ],
   "source": [
    "words_list   #단어들 \n",
    "# gram_list   #품사들"
   ]
  },
  {
   "cell_type": "code",
   "execution_count": 7,
   "id": "4d76397c",
   "metadata": {},
   "outputs": [
    {
     "data": {
      "text/plain": [
       "[[17, 6]]"
      ]
     },
     "execution_count": 7,
     "metadata": {},
     "output_type": "execute_result"
    }
   ],
   "source": [
    "#'숫자'추출\n",
    "    \n",
    "num_list=[]   #'숫자' index 넣을 공간\n",
    "a=0  #행\n",
    "for i in gram_list:\n",
    "    b=0   #열\n",
    "    for j in i:\n",
    "        if j=='숫자':\n",
    "            num_list.append([a,b])\n",
    "        b+=1\n",
    "    a+=1\n",
    "num_list"
   ]
  },
  {
   "cell_type": "code",
   "execution_count": 8,
   "id": "d8758650",
   "metadata": {},
   "outputs": [
    {
     "data": {
      "text/plain": [
       "'숫자'"
      ]
     },
     "execution_count": 8,
     "metadata": {},
     "output_type": "execute_result"
    }
   ],
   "source": [
    "# 품사가 '숫자'인지 확인\n",
    "gram_list[17][6]"
   ]
  },
  {
   "cell_type": "code",
   "execution_count": 9,
   "id": "752e43be",
   "metadata": {},
   "outputs": [
    {
     "data": {
      "text/plain": [
       "[['안녕하세요'],\n",
       " ['왼손', '코딩', '의', '김해', '손', '이다'],\n",
       " ['김',\n",
       "  '왼손',\n",
       "  '왼손',\n",
       "  '코딩',\n",
       "  '은',\n",
       "  '비전공자',\n",
       "  '위하다',\n",
       "  '세상',\n",
       "  '제일',\n",
       "  '쉽다',\n",
       "  '코딩',\n",
       "  '교육',\n",
       "  '목표',\n",
       "  '하다',\n",
       "  '채널',\n",
       "  '이다'],\n",
       " ['최근', '몇', '년', '간', '코딩', '되다'],\n",
       " ['없다', '고', '당분간', '계속', '되다', '것', '같다'],\n",
       " ['이런', '트렌드', '따르다', '많다', '비전공자', '들', '코딩', '하다', '전하다', '고', '있다'],\n",
       " ['많다', '인터넷', '사이트', '학원', '코딩', '싶다', '공부', '하다'],\n",
       " ['하지만', '대부분', '비전공자', '들다', '중간', '톡', '하다'],\n",
       " ['왜', '이렇다', '다', '들', '포기', '하다', '되다', '걸다'],\n",
       " ['저', '컴퓨터공학', '출신', '이다'],\n",
       " ['어느', '전공', '되다', '적성', '맞다', '않다', '사람', '들', '있다'],\n",
       " ['제가', '바로', '그렇다', '끝'],\n",
       " ['세상', '코딩', '제일', '싫어하다', '끝'],\n",
       " ['이쪽',\n",
       "  '분야',\n",
       "  '이런',\n",
       "  '사람',\n",
       "  '들',\n",
       "  '보통',\n",
       "  '코딩',\n",
       "  '보기',\n",
       "  '잘',\n",
       "  '하다',\n",
       "  '고',\n",
       "  '하다',\n",
       "  '그래서',\n",
       "  '저',\n",
       "  '코딩',\n",
       "  '어렵다',\n",
       "  '포기',\n",
       "  '하다',\n",
       "  '비전공자',\n",
       "  '마음',\n",
       "  '잘',\n",
       "  '알다',\n",
       "  '고',\n",
       "  '있다'],\n",
       " ['코딩', '어렵다'],\n",
       " ['특히', '코딩', '걸다', '처음', '접하다', '비전공자', '더욱', '어렵다'],\n",
       " ['지금', '이', '영상', '보다', '여러분', '코', '댕', '어렵다', '면', '잘', '찾아오다', '겁', '니다'],\n",
       " ['코딩',\n",
       "  '교육',\n",
       "  '유튜브',\n",
       "  '채널',\n",
       "  '간지',\n",
       "  '벌써',\n",
       "  '5',\n",
       "  '년',\n",
       "  '이다',\n",
       "  '고',\n",
       "  '그동안',\n",
       "  '비전공자',\n",
       "  '대상',\n",
       "  '온라인',\n",
       "  '오프라인',\n",
       "  '강의',\n",
       "  '많이',\n",
       "  '하다',\n",
       "  '끝'],\n",
       " ['많다',\n",
       "  '비',\n",
       "  '전공자',\n",
       "  '들',\n",
       "  '코딩',\n",
       "  '가르치다',\n",
       "  '면서',\n",
       "  '공통',\n",
       "  '적',\n",
       "  '느끼다',\n",
       "  '끝',\n",
       "  '던',\n",
       "  '것',\n",
       "  '들',\n",
       "  '있다'],\n",
       " ['이런',\n",
       "  '것',\n",
       "  '들',\n",
       "  '모아모아',\n",
       "  '코딩',\n",
       "  '시작',\n",
       "  '하다',\n",
       "  '전',\n",
       "  '비전공자',\n",
       "  '들',\n",
       "  '알다',\n",
       "  '두다',\n",
       "  '면',\n",
       "  '좋다',\n",
       "  '것',\n",
       "  '들',\n",
       "  '정리',\n",
       "  '하다',\n",
       "  '보다',\n",
       "  '끝'],\n",
       " ['코딩',\n",
       "  '처음',\n",
       "  '시작',\n",
       "  '하다',\n",
       "  '비전공자',\n",
       "  '라면',\n",
       "  '꼭',\n",
       "  '한',\n",
       "  '번',\n",
       "  '보다',\n",
       "  '고',\n",
       "  '가다',\n",
       "  '추천',\n",
       "  '하다'],\n",
       " ['자', '그럼', '시작', '하다', '보다']]"
      ]
     },
     "execution_count": 9,
     "metadata": {},
     "output_type": "execute_result"
    }
   ],
   "source": [
    "# #숫자처리\n",
    "# words_list=[['125', 'dn', 'k'],['e'],['ww','526']]\n",
    "# num_list=[[0,0],[2,1]]\n",
    "\n",
    "words_list_new=[]\n",
    "for i in range(len(words_list)):\n",
    "    words_new=[]\n",
    "    for j in range(len(words_list[i])):\n",
    "        if [i,j] in num_list:                                       #숫자이면\n",
    "            number = []\n",
    "            number.extend(words_list[i][j])\n",
    "            while number:\n",
    "                num = number.pop(0)\n",
    "                if num=='0':\n",
    "                    continue\n",
    "                elif len(number) == 4:\n",
    "                    words_new.append(num)\n",
    "                    words_new.append('10000')\n",
    "                elif len(number) == 3:\n",
    "                    words_new.append(num)\n",
    "                    words_new.append('1000')\n",
    "                elif len(number) == 2:\n",
    "                    words_new.append(num)\n",
    "                    words_new.append('100')\n",
    "                elif len(number) == 1:\n",
    "                    words_new.append(num)\n",
    "                    words_new.append('10')\n",
    "                elif len(number) == 0:\n",
    "                    words_new.append(num)\n",
    "        else:                                                       #숫자아니면\n",
    "                words_new.append(words_list[i][j])\n",
    "    words_list_new.append(words_new)\n",
    "\n",
    "words_list_new"
   ]
  },
  {
   "cell_type": "markdown",
   "id": "95a35946",
   "metadata": {},
   "source": [
    "### 유사한 단어 찾아 mapping + 지화수어 mapping\n",
    "- 유사한 단어가 없을 경우 지화수어로 대체하도록 코드 짬 >> 완성"
   ]
  },
  {
   "cell_type": "code",
   "execution_count": 10,
   "id": "00a150a3",
   "metadata": {},
   "outputs": [],
   "source": [
    "import pandas as pd\n",
    "# df= pd.read_csv('all_preprocessed_KOR.csv')   #수화영상이 포함된 csv파일\n",
    "# df= pd.read_csv('Preprocessed_crawl.csv', encoding = \"cp949\")   #수화영상이 포함된 csv파일\n",
    "df= pd.read_csv('data_crawl.csv', encoding = \"cp949\")   #수화영상이 포함된 csv파일"
   ]
  },
  {
   "cell_type": "code",
   "execution_count": 11,
   "id": "d7563287",
   "metadata": {},
   "outputs": [
    {
     "data": {
      "text/html": [
       "<div>\n",
       "<style scoped>\n",
       "    .dataframe tbody tr th:only-of-type {\n",
       "        vertical-align: middle;\n",
       "    }\n",
       "\n",
       "    .dataframe tbody tr th {\n",
       "        vertical-align: top;\n",
       "    }\n",
       "\n",
       "    .dataframe thead th {\n",
       "        text-align: right;\n",
       "    }\n",
       "</style>\n",
       "<table border=\"1\" class=\"dataframe\">\n",
       "  <thead>\n",
       "    <tr style=\"text-align: right;\">\n",
       "      <th></th>\n",
       "      <th>Unnamed: 0</th>\n",
       "      <th>kor</th>\n",
       "      <th>no</th>\n",
       "      <th>url</th>\n",
       "      <th>part</th>\n",
       "      <th>video_sec</th>\n",
       "    </tr>\n",
       "  </thead>\n",
       "  <tbody>\n",
       "    <tr>\n",
       "      <th>0</th>\n",
       "      <td>0</td>\n",
       "      <td>0</td>\n",
       "      <td>1214</td>\n",
       "      <td>http://sldict.korean.go.kr/multimedia/multimed...</td>\n",
       "      <td>NaN</td>\n",
       "      <td>2.77</td>\n",
       "    </tr>\n",
       "    <tr>\n",
       "      <th>1</th>\n",
       "      <td>1</td>\n",
       "      <td>1</td>\n",
       "      <td>12573</td>\n",
       "      <td>http://sldict.korean.go.kr/multimedia/multimed...</td>\n",
       "      <td>NaN</td>\n",
       "      <td>2.69</td>\n",
       "    </tr>\n",
       "    <tr>\n",
       "      <th>2</th>\n",
       "      <td>2</td>\n",
       "      <td>10</td>\n",
       "      <td>10919</td>\n",
       "      <td>http://sldict.korean.go.kr/multimedia/multimed...</td>\n",
       "      <td>NaN</td>\n",
       "      <td>3.35</td>\n",
       "    </tr>\n",
       "    <tr>\n",
       "      <th>3</th>\n",
       "      <td>3</td>\n",
       "      <td>100</td>\n",
       "      <td>2939</td>\n",
       "      <td>http://sldict.korean.go.kr/multimedia/multimed...</td>\n",
       "      <td>NaN</td>\n",
       "      <td>3.02</td>\n",
       "    </tr>\n",
       "    <tr>\n",
       "      <th>4</th>\n",
       "      <td>4</td>\n",
       "      <td>1000</td>\n",
       "      <td>11983</td>\n",
       "      <td>http://sldict.korean.go.kr/multimedia/multimed...</td>\n",
       "      <td>NaN</td>\n",
       "      <td>2.69</td>\n",
       "    </tr>\n",
       "    <tr>\n",
       "      <th>...</th>\n",
       "      <td>...</td>\n",
       "      <td>...</td>\n",
       "      <td>...</td>\n",
       "      <td>...</td>\n",
       "      <td>...</td>\n",
       "      <td>...</td>\n",
       "    </tr>\n",
       "    <tr>\n",
       "      <th>26686</th>\n",
       "      <td>26686</td>\n",
       "      <td>힘주다</td>\n",
       "      <td>3971</td>\n",
       "      <td>http://sldict.korean.go.kr/multimedia/multimed...</td>\n",
       "      <td>NaN</td>\n",
       "      <td>11.25</td>\n",
       "    </tr>\n",
       "    <tr>\n",
       "      <th>26687</th>\n",
       "      <td>26687</td>\n",
       "      <td>힘차다</td>\n",
       "      <td>4585</td>\n",
       "      <td>http://sldict.korean.go.kr/multimedia/multimed...</td>\n",
       "      <td>NaN</td>\n",
       "      <td>3.40</td>\n",
       "    </tr>\n",
       "    <tr>\n",
       "      <th>26688</th>\n",
       "      <td>26688</td>\n",
       "      <td>힘차다</td>\n",
       "      <td>4885</td>\n",
       "      <td>http://sldict.korean.go.kr/multimedia/multimed...</td>\n",
       "      <td>NaN</td>\n",
       "      <td>3.40</td>\n",
       "    </tr>\n",
       "    <tr>\n",
       "      <th>26689</th>\n",
       "      <td>26689</td>\n",
       "      <td>힘차다</td>\n",
       "      <td>7465</td>\n",
       "      <td>http://sldict.korean.go.kr/multimedia/multimed...</td>\n",
       "      <td>NaN</td>\n",
       "      <td>3.40</td>\n",
       "    </tr>\n",
       "    <tr>\n",
       "      <th>26690</th>\n",
       "      <td>26690</td>\n",
       "      <td>힘차다</td>\n",
       "      <td>11264</td>\n",
       "      <td>http://sldict.korean.go.kr/multimedia/multimed...</td>\n",
       "      <td>NaN</td>\n",
       "      <td>3.40</td>\n",
       "    </tr>\n",
       "  </tbody>\n",
       "</table>\n",
       "<p>26691 rows × 6 columns</p>\n",
       "</div>"
      ],
      "text/plain": [
       "       Unnamed: 0   kor     no  \\\n",
       "0               0     0   1214   \n",
       "1               1     1  12573   \n",
       "2               2    10  10919   \n",
       "3               3   100   2939   \n",
       "4               4  1000  11983   \n",
       "...           ...   ...    ...   \n",
       "26686       26686   힘주다   3971   \n",
       "26687       26687   힘차다   4585   \n",
       "26688       26688   힘차다   4885   \n",
       "26689       26689   힘차다   7465   \n",
       "26690       26690   힘차다  11264   \n",
       "\n",
       "                                                     url part  video_sec  \n",
       "0      http://sldict.korean.go.kr/multimedia/multimed...  NaN       2.77  \n",
       "1      http://sldict.korean.go.kr/multimedia/multimed...  NaN       2.69  \n",
       "2      http://sldict.korean.go.kr/multimedia/multimed...  NaN       3.35  \n",
       "3      http://sldict.korean.go.kr/multimedia/multimed...  NaN       3.02  \n",
       "4      http://sldict.korean.go.kr/multimedia/multimed...  NaN       2.69  \n",
       "...                                                  ...  ...        ...  \n",
       "26686  http://sldict.korean.go.kr/multimedia/multimed...  NaN      11.25  \n",
       "26687  http://sldict.korean.go.kr/multimedia/multimed...  NaN       3.40  \n",
       "26688  http://sldict.korean.go.kr/multimedia/multimed...  NaN       3.40  \n",
       "26689  http://sldict.korean.go.kr/multimedia/multimed...  NaN       3.40  \n",
       "26690  http://sldict.korean.go.kr/multimedia/multimed...  NaN       3.40  \n",
       "\n",
       "[26691 rows x 6 columns]"
      ]
     },
     "execution_count": 11,
     "metadata": {},
     "output_type": "execute_result"
    }
   ],
   "source": [
    "df"
   ]
  },
  {
   "cell_type": "code",
   "execution_count": 13,
   "id": "8ca904bb",
   "metadata": {},
   "outputs": [
    {
     "name": "stdout",
     "output_type": "stream",
     "text": [
      "['안녕하세요']\n",
      "['왼손잡이']\n",
      "['코딩']\n",
      "['의']\n",
      "['해']\n",
      "['손']\n",
      "['이다']\n",
      "['김']\n",
      "['왼손잡이']\n",
      "['왼손잡이']\n",
      "['코딩']\n",
      "['은']\n",
      "['전자']\n",
      "['위하다']\n",
      "['세상']\n",
      "['제일']\n",
      "['쉽다']\n",
      "['코딩']\n",
      "['교육']\n",
      "['표']\n",
      "['하다']\n",
      "['풍채']\n",
      "['이다']\n",
      "['최근']\n",
      "['몇']\n",
      "['년']\n",
      "['간']\n",
      "['코딩']\n",
      "['되다']\n",
      "['없다']\n",
      "['고']\n",
      "['당분간']\n",
      "['계속']\n",
      "['되다']\n",
      "['것']\n",
      "['같다']\n",
      "['이런']\n",
      "[]\n",
      "['따르다']\n",
      "['많다']\n",
      "['전자']\n",
      "['들']\n",
      "['코딩']\n",
      "['하다']\n",
      "['전하다']\n",
      "['고']\n",
      "['있다']\n",
      "['많다']\n",
      "['인터넷']\n",
      "['사이트']\n",
      "['학원']\n",
      "['코딩']\n",
      "['싶다']\n",
      "['공부']\n",
      "['하다']\n",
      "['하지만']\n",
      "['대부분']\n",
      "['전자']\n",
      "['들다']\n",
      "['중간']\n",
      "[]\n",
      "['하다']\n",
      "['왜']\n",
      "['이렇다']\n",
      "['다']\n",
      "['들']\n",
      "['포기']\n",
      "['하다']\n",
      "['되다']\n",
      "['걸다']\n",
      "['저']\n",
      "['컴퓨터']\n",
      "['출신']\n",
      "['이다']\n",
      "['어느']\n",
      "['전공']\n",
      "['되다']\n",
      "['적성']\n",
      "['맞다']\n",
      "['않다']\n",
      "['사람']\n",
      "['들']\n",
      "['있다']\n",
      "['제']\n",
      "['바로']\n",
      "['그렇다']\n",
      "['끝']\n",
      "['세상']\n",
      "['코딩']\n",
      "['제일']\n",
      "['싫어하다']\n",
      "['끝']\n",
      "['이쪽']\n",
      "['분야']\n",
      "['이런']\n",
      "['사람']\n",
      "['들']\n",
      "['보통']\n",
      "['코딩']\n",
      "['보기']\n",
      "['잘']\n",
      "['하다']\n",
      "['고']\n",
      "['하다']\n",
      "['그래서']\n",
      "['저']\n",
      "['코딩']\n",
      "['어렵다']\n",
      "['포기']\n",
      "['하다']\n",
      "['전자']\n",
      "['마음']\n",
      "['잘']\n",
      "['알다']\n",
      "['고']\n",
      "['있다']\n",
      "['코딩']\n",
      "['어렵다']\n",
      "['특히']\n",
      "['코딩']\n",
      "['걸다']\n",
      "['처음']\n",
      "['밀접하다']\n",
      "['전자']\n",
      "['더욱']\n",
      "['어렵다']\n",
      "['지금']\n",
      "['이']\n",
      "['동영상']\n",
      "['보다']\n",
      "['여러분']\n",
      "['코']\n",
      "[]\n",
      "['어렵다']\n",
      "['면']\n",
      "['잘']\n",
      "['찾아내다']\n",
      "['겁']\n",
      "['지니다']\n",
      "['코딩']\n",
      "['교육']\n",
      "[]\n",
      "['풍채']\n",
      "['지']\n",
      "['벌써']\n",
      "['5']\n",
      "['년']\n",
      "['이다']\n",
      "['고']\n",
      "['그동안']\n",
      "['전자']\n",
      "['대상']\n",
      "['온라인']\n",
      "['오프라인']\n",
      "['강의']\n",
      "['이']\n",
      "['하다']\n",
      "['끝']\n",
      "['많다']\n",
      "['비']\n",
      "['전자']\n",
      "['들']\n",
      "['코딩']\n",
      "['가르치다']\n",
      "['면서']\n",
      "['공통']\n",
      "['적']\n",
      "['느끼다']\n",
      "['끝']\n",
      "['던']\n",
      "['것']\n",
      "['들']\n",
      "['있다']\n",
      "['이런']\n",
      "['것']\n",
      "['들']\n",
      "['아시아']\n",
      "['코딩']\n",
      "['시작']\n",
      "['하다']\n",
      "['전']\n",
      "['전자']\n",
      "['들']\n",
      "['알다']\n",
      "['두다']\n",
      "['면']\n",
      "['좋다']\n",
      "['것']\n",
      "['들']\n",
      "['정리']\n",
      "['하다']\n",
      "['보다']\n",
      "['끝']\n",
      "['코딩']\n",
      "['처음']\n",
      "['시작']\n",
      "['하다']\n",
      "['전자']\n",
      "['라면']\n",
      "['꼭']\n",
      "['한']\n",
      "['번']\n",
      "['보다']\n",
      "['고']\n",
      "['가다']\n",
      "['추천']\n",
      "['하다']\n",
      "['자']\n",
      "['그럼']\n",
      "['시작']\n",
      "['하다']\n",
      "['보다']\n"
     ]
    }
   ],
   "source": [
    "#####기존 방식######\n",
    "\n",
    "# #유사한 단어들의 url 리스트에 넣기 -> 매칭되지 않는 단어가 존재함\n",
    "# from difflib import get_close_matches\n",
    "# words = df['kor']\n",
    "# url=df['url']\n",
    "\n",
    "# link= []\n",
    "# for i in words_list_new:\n",
    "#     u=[]\n",
    "#     for j in i:\n",
    "#         word=j\n",
    "#         candidates=words\n",
    "#         n=1  #최대 문자 매칭 개수 \n",
    "#         cutoff=0.5  #유사도 하한\n",
    "#         close_matches = get_close_matches(word, candidates, n, cutoff)  #유사한것\n",
    "#         print(close_matches)\n",
    "#         for i in close_matches:\n",
    "#             ind=df.index[df['kor'] == i].tolist()\n",
    "#             indd=ind[0]  #동음의의어 있어서 일단 젤 앞에 있는 숫자 추출하도록\n",
    "#             href=url[indd]\n",
    "#             u.append(href)\n",
    "#     link.append(u)\n"
   ]
  },
  {
   "cell_type": "code",
   "execution_count": 14,
   "id": "7a3409b5",
   "metadata": {},
   "outputs": [],
   "source": [
    "##### 없는 단어 지화수어로 처리해주는 방식 #####\n",
    "\n",
    "####초성, 중성, 종성으로 단어 쪼개주는 함수\n",
    "\n",
    "# 초성 리스트. 00 ~ 18\n",
    "CHOSUNG_LIST = ['ㄱ', 'ㄲ', 'ㄴ', 'ㄷ', 'ㄸ', 'ㄹ', 'ㅁ', 'ㅂ', 'ㅃ', 'ㅅ', 'ㅆ', 'ㅇ', 'ㅈ', 'ㅉ', 'ㅊ', 'ㅋ', 'ㅌ', 'ㅍ', 'ㅎ']\n",
    "# 중성 리스트. 00 ~ 20\n",
    "JUNGSUNG_LIST = ['ㅏ', 'ㅐ', 'ㅑ', 'ㅒ', 'ㅓ', 'ㅔ', 'ㅕ', 'ㅖ', 'ㅗ', 'ㅘ', 'ㅙ', 'ㅚ', 'ㅛ', 'ㅜ', 'ㅝ', 'ㅞ', 'ㅟ', 'ㅠ', 'ㅡ', 'ㅢ',\n",
    "                 'ㅣ']\n",
    "# 종성 리스트. 00 ~ 27 + 1(1개 없음)\n",
    "JONGSUNG_LIST = ['','ㄱ', 'ㄲ', 'ㄳ', 'ㄴ', 'ㄵ', 'ㄶ', 'ㄷ', 'ㄹ', 'ㄺ', 'ㄻ', 'ㄼ', 'ㄽ', 'ㄾ', 'ㄿ', 'ㅀ', 'ㅁ', 'ㅂ', 'ㅄ', 'ㅅ',\n",
    "                 'ㅆ', 'ㅇ', 'ㅈ', 'ㅊ', 'ㅋ', 'ㅌ', 'ㅍ', 'ㅎ']\n",
    "\n",
    "\n",
    "def devidePhon(korean_word):\n",
    "    r_lst = []\n",
    "    for w in list(korean_word.strip()):\n",
    "        ## 영어인 경우 구분해서 작성함.\n",
    "        if '가' <= w <= '힣':\n",
    "            ## 588개 마다 초성이 바뀜.\n",
    "            ch1 = (ord(w) - ord('가')) // 588\n",
    "            ## 중성은 총 28가지 종류\n",
    "            ch2 = ((ord(w) - ord('가')) - (588 * ch1)) // 28\n",
    "            ch3 = (ord(w) - ord('가')) - (588 * ch1) - 28 * ch2\n",
    "            r_lst.append(CHOSUNG_LIST[ch1])\n",
    "            r_lst.append(JUNGSUNG_LIST[ch2])\n",
    "            r_lst.append(JONGSUNG_LIST[ch3])\n",
    "\n",
    "        else:\n",
    "            r_lst.append([w])\n",
    "            \n",
    "    for i in r_lst:    #종성에 ''있는것 제거하고자 내가 걍 추가해줌\n",
    "        if i=='':\n",
    "            r_lst.remove(i)\n",
    "            \n",
    "    return r_lst\n",
    "\n",
    "# print(devidePhon(\"채널\"))"
   ]
  },
  {
   "cell_type": "code",
   "execution_count": 15,
   "id": "50e02e71",
   "metadata": {},
   "outputs": [
    {
     "name": "stdout",
     "output_type": "stream",
     "text": [
      "['안녕하세요']\n",
      "['왼손잡이', '코딩', '의', '해', '손', '이다']\n",
      "['김', '왼손잡이', '왼손잡이', '코딩', '은', '전자', '위하다', '세상', '제일', '쉽다', '코딩', '교육', '표', '하다', '풍채', '이다']\n",
      "['최근', '몇', '년', '간', '코딩', '되다']\n",
      "['없다', '고', '당분간', '계속', '되다', '것', '같다']\n",
      "['이런', 'ㅌ', 'ㅡ', 'ㄹ', 'ㅔ', 'ㄴ', 'ㄷ', 'ㅡ', '따르다', '많다', '전자', '들', '코딩', '하다', '전하다', '고', '있다']\n",
      "['많다', '인터넷', '사이트', '학원', '코딩', '싶다', '공부', '하다']\n",
      "['하지만', '대부분', '전자', '들다', '중간', 'ㅌ', 'ㅗ', 'ㄱ', '하다']\n",
      "['왜', '이렇다', '다', '들', '포기', '하다', '되다', '걸다']\n",
      "['저', '컴퓨터', '출신', '이다']\n",
      "['어느', '전공', '되다', '적성', '맞다', '않다', '사람', '들', '있다']\n",
      "['제', '바로', '그렇다', '끝']\n",
      "['세상', '코딩', '제일', '싫어하다', '끝']\n",
      "['이쪽', '분야', '이런', '사람', '들', '보통', '코딩', '보기', '잘', '하다', '고', '하다', '그래서', '저', '코딩', '어렵다', '포기', '하다', '전자', '마음', '잘', '알다', '고', '있다']\n",
      "['코딩', '어렵다']\n",
      "['특히', '코딩', '걸다', '처음', '밀접하다', '전자', '더욱', '어렵다']\n",
      "['지금', '이', '동영상', '보다', '여러분', '코', 'ㄷ', 'ㅐ', 'ㅇ', '어렵다', '면', '잘', '찾아내다', '겁', '지니다']\n",
      "['코딩', '교육', 'ㅇ', 'ㅠ', 'ㅌ', 'ㅠ', 'ㅂ', 'ㅡ', '풍채', '지', '벌써', '5', '년', '이다', '고', '그동안', '전자', '대상', '온라인', '오프라인', '강의', '이', '하다', '끝']\n",
      "['많다', '비', '전자', '들', '코딩', '가르치다', '면서', '공통', '적', '느끼다', '끝', '던', '것', '들', '있다']\n",
      "['이런', '것', '들', '아시아', '코딩', '시작', '하다', '전', '전자', '들', '알다', '두다', '면', '좋다', '것', '들', '정리', '하다', '보다', '끝']\n",
      "['코딩', '처음', '시작', '하다', '전자', '라면', '꼭', '한', '번', '보다', '고', '가다', '추천', '하다']\n",
      "['자', '그럼', '시작', '하다', '보다']\n"
     ]
    }
   ],
   "source": [
    "#유사한 단어들의 url 리스트에 넣기\n",
    "\n",
    "from difflib import get_close_matches\n",
    "words = df['kor']\n",
    "url=df['url']\n",
    "\n",
    "link= []\n",
    "for i in words_list_new:\n",
    "    u=[]   #url담을 공간\n",
    "    close = []    #단어 담을 공간\n",
    "    for j in i:\n",
    "        word=j\n",
    "        candidates=words\n",
    "        n=1  #최대 문자 매칭 개수 \n",
    "        cutoff=0.5  #유사도 하한\n",
    "        close_matches = get_close_matches(word, candidates, n, cutoff)  #유사한것이 매칭된 리스트  (빈것도 포함되어있음)\n",
    "#         print(close_matches)\n",
    "        \n",
    "        if not close_matches:       #빈것이 있다면 지화수어로 변경해 close 리스트에 담기 \n",
    "            none=devidePhon(j)\n",
    "            for no in none:\n",
    "                close.append(no)\n",
    "        else:                       #매칭되는게 있다면 그대로 close 리스트에 담기 \n",
    "            close.append(close_matches.pop(0))\n",
    "                \n",
    "    for k in close:\n",
    "        ind=df.index[df['kor'] == k].tolist()\n",
    "#             print(ind)\n",
    "        indd=ind[0]  #동음의의어 있어서 일단 젤 앞에 있는 숫자 추출하도록\n",
    "        href=url[indd]\n",
    "        u.append(href)\n",
    "        \n",
    "    print(close)\n",
    "\n",
    "    link.append(u)"
   ]
  },
  {
   "cell_type": "markdown",
   "id": "1132be86",
   "metadata": {},
   "source": [
    "### 영상병합"
   ]
  },
  {
   "cell_type": "code",
   "execution_count": 16,
   "id": "9a497e7a",
   "metadata": {},
   "outputs": [
    {
     "data": {
      "text/plain": [
       "[['http://sldict.korean.go.kr/multimedia/multimedia_files/convert/20191004/624421/MOV000244910_700X466.mp4'],\n",
       " ['http://sldict.korean.go.kr/multimedia/multimedia_files/convert/20220801/1005078/MOV000359806_700X466.mp4',\n",
       "  'http://sldict.korean.go.kr/multimedia/multimedia_files/convert/20160325/271794/MOV000273323_700X466.mp4',\n",
       "  'http://sldict.korean.go.kr/multimedia/multimedia_files/convert/20200824/735044/MOV000256227_700X466.mp4',\n",
       "  'http://sldict.korean.go.kr/multimedia/multimedia_files/convert/20191007/624882/MOV000248812_700X466.mp4',\n",
       "  'http://sldict.korean.go.kr/multimedia/multimedia_files/convert/20191029/632321/MOV000254829_700X466.mp4',\n",
       "  'http://sldict.korean.go.kr/multimedia/multimedia_files/convert/20160109/243051/MOV000256526_700X466.mp4'],\n",
       " ['http://sldict.korean.go.kr/multimedia/multimedia_files/convert/20160103/239764/MOV000250020_700X466.mp4',\n",
       "  'http://sldict.korean.go.kr/multimedia/multimedia_files/convert/20220801/1005078/MOV000359806_700X466.mp4',\n",
       "  'http://sldict.korean.go.kr/multimedia/multimedia_files/convert/20220801/1005078/MOV000359806_700X466.mp4',\n",
       "  'http://sldict.korean.go.kr/multimedia/multimedia_files/convert/20160325/271794/MOV000273323_700X466.mp4',\n",
       "  'http://sldict.korean.go.kr/multimedia/multimedia_files/convert/20200821/733258/MOV000256191_700X466.mp4',\n",
       "  'http://sldict.korean.go.kr/multimedia/multimedia_files/convert/20201211/785423/MOV000357080_700X466.mp4',\n",
       "  'http://sldict.korean.go.kr/multimedia/multimedia_files/convert/20200811/727600/MOV000255763_700X466.mp4',\n",
       "  'http://sldict.korean.go.kr/multimedia/multimedia_files/convert/20191018/628692/MOV000254256_700X466.mp4',\n",
       "  'http://sldict.korean.go.kr/multimedia/multimedia_files/convert/20191028/632065/MOV000245938_700X466.mp4',\n",
       "  'http://sldict.korean.go.kr/multimedia/multimedia_files/convert/20191015/627499/MOV000243614_700X466.mp4',\n",
       "  'http://sldict.korean.go.kr/multimedia/multimedia_files/convert/20160325/271794/MOV000273323_700X466.mp4',\n",
       "  'http://sldict.korean.go.kr/multimedia/multimedia_files/convert/20191029/632453/MOV000235627_700X466.mp4',\n",
       "  'http://sldict.korean.go.kr/multimedia/multimedia_files/convert/20190918/615391/MOV000235923_700X466.mp4',\n",
       "  'http://sldict.korean.go.kr/multimedia/multimedia_files/convert/20191004/624330/MOV000236182_700X466.mp4',\n",
       "  'http://sldict.korean.go.kr/multimedia/multimedia_files/convert/20151231/237918/MOV000247078_700X466.mp4',\n",
       "  'http://sldict.korean.go.kr/multimedia/multimedia_files/convert/20160109/243051/MOV000256526_700X466.mp4'],\n",
       " ['http://sldict.korean.go.kr/multimedia/multimedia_files/convert/20191004/624419/MOV000239167_700X466.mp4',\n",
       "  'http://sldict.korean.go.kr/multimedia/multimedia_files/convert/20191101/633180/MOV000255265_700X466.mp4',\n",
       "  'http://sldict.korean.go.kr/multimedia/multimedia_files/convert/20151120/213339/MOV000235956_700X466.mp4',\n",
       "  'http://sldict.korean.go.kr/multimedia/multimedia_files/convert/20191015/627519/MOV000241651_700X466.mp4',\n",
       "  'http://sldict.korean.go.kr/multimedia/multimedia_files/convert/20160325/271794/MOV000273323_700X466.mp4',\n",
       "  'http://sldict.korean.go.kr/multimedia/multimedia_files/convert/20191015/627596/MOV000250635_700X466.mp4'],\n",
       " ['http://sldict.korean.go.kr/multimedia/multimedia_files/convert/20200824/735142/MOV000245552_700X466.mp4',\n",
       "  'http://sldict.korean.go.kr/multimedia/multimedia_files/convert/20200825/735432/MOV000240671_700X466.mp4',\n",
       "  'http://sldict.korean.go.kr/multimedia/multimedia_files/convert/20160104/240416/MOV000251317_700X466.mp4',\n",
       "  'http://sldict.korean.go.kr/multimedia/multimedia_files/convert/20191015/627674/MOV000238097_700X466.mp4',\n",
       "  'http://sldict.korean.go.kr/multimedia/multimedia_files/convert/20191015/627596/MOV000250635_700X466.mp4',\n",
       "  'http://sldict.korean.go.kr/multimedia/multimedia_files/convert/20160105/240737/MOV000251954_700X466.mp4',\n",
       "  'http://sldict.korean.go.kr/multimedia/multimedia_files/convert/20191007/624824/MOV000236678_700X466.mp4'],\n",
       " ['http://sldict.korean.go.kr/multimedia/multimedia_files/convert/20151204/221546/MOV000239681_700X466.mp4',\n",
       "  'http://sldict.korean.go.kr/multimedia/multimedia_files/convert/20220802/1005763/MOV000359840_700X466.mp4',\n",
       "  'http://sldict.korean.go.kr/multimedia/multimedia_files/convert/20220802/1005890/MOV000359892_700X466.mp4',\n",
       "  'http://sldict.korean.go.kr/multimedia/multimedia_files/convert/20220802/1005858/MOV000359860_700X466.mp4',\n",
       "  'http://sldict.korean.go.kr/multimedia/multimedia_files/convert/20220727/1001923/MOV000359500_700X466.mp4',\n",
       "  'http://sldict.korean.go.kr/multimedia/multimedia_files/convert/20220811/1009739/MOV000360036_700X466.mp4',\n",
       "  'http://sldict.korean.go.kr/multimedia/multimedia_files/convert/20220811/1009752/MOV000360049_700X466.mp4',\n",
       "  'http://sldict.korean.go.kr/multimedia/multimedia_files/convert/20220802/1005890/MOV000359892_700X466.mp4',\n",
       "  'http://sldict.korean.go.kr/multimedia/multimedia_files/convert/20200821/733705/MOV000239609_700X466.mp4',\n",
       "  'http://sldict.korean.go.kr/multimedia/multimedia_files/convert/20200821/733690/MOV000237456_700X466.mp4',\n",
       "  'http://sldict.korean.go.kr/multimedia/multimedia_files/convert/20201211/785423/MOV000357080_700X466.mp4',\n",
       "  'http://sldict.korean.go.kr/multimedia/multimedia_files/convert/20151209/224493/MOV000241021_700X466.mp4',\n",
       "  'http://sldict.korean.go.kr/multimedia/multimedia_files/convert/20160325/271794/MOV000273323_700X466.mp4',\n",
       "  'http://sldict.korean.go.kr/multimedia/multimedia_files/convert/20191004/624330/MOV000236182_700X466.mp4',\n",
       "  'http://sldict.korean.go.kr/multimedia/multimedia_files/convert/20191015/627804/MOV000257798_700X466.mp4',\n",
       "  'http://sldict.korean.go.kr/multimedia/multimedia_files/convert/20200825/735432/MOV000240671_700X466.mp4',\n",
       "  'http://sldict.korean.go.kr/multimedia/multimedia_files/convert/20191022/629937/MOV000255212_700X466.mp4'],\n",
       " ['http://sldict.korean.go.kr/multimedia/multimedia_files/convert/20200821/733690/MOV000237456_700X466.mp4',\n",
       "  'http://sldict.korean.go.kr/multimedia/multimedia_files/convert/20160325/271008/MOV000273041_700X466.mp4',\n",
       "  'http://sldict.korean.go.kr/multimedia/multimedia_files/convert/20160325/269764/MOV000272597_700X466.mp4',\n",
       "  'http://sldict.korean.go.kr/multimedia/multimedia_files/convert/20191001/623705/MOV000236257_700X466.mp4',\n",
       "  'http://sldict.korean.go.kr/multimedia/multimedia_files/convert/20160325/271794/MOV000273323_700X466.mp4',\n",
       "  'http://sldict.korean.go.kr/multimedia/multimedia_files/convert/20191021/629536/MOV000255598_700X466.mp4',\n",
       "  'http://sldict.korean.go.kr/multimedia/multimedia_files/convert/20200812/728438/MOV000248732_700X466.mp4',\n",
       "  'http://sldict.korean.go.kr/multimedia/multimedia_files/convert/20191004/624330/MOV000236182_700X466.mp4'],\n",
       " ['http://sldict.korean.go.kr/multimedia/multimedia_files/convert/20191007/625069/MOV000236738_700X466.mp4',\n",
       "  'http://sldict.korean.go.kr/multimedia/multimedia_files/convert/20200825/735820/MOV000237242_700X466.mp4',\n",
       "  'http://sldict.korean.go.kr/multimedia/multimedia_files/convert/20201211/785423/MOV000357080_700X466.mp4',\n",
       "  'http://sldict.korean.go.kr/multimedia/multimedia_files/convert/20200824/734899/MOV000249766_700X466.mp4',\n",
       "  'http://sldict.korean.go.kr/multimedia/multimedia_files/convert/20160110/243624/MOV000257664_700X466.mp4',\n",
       "  'http://sldict.korean.go.kr/multimedia/multimedia_files/convert/20220802/1005763/MOV000359840_700X466.mp4',\n",
       "  'http://sldict.korean.go.kr/multimedia/multimedia_files/convert/20220802/1005885/MOV000359887_700X466.mp4',\n",
       "  'http://sldict.korean.go.kr/multimedia/multimedia_files/convert/20220802/1005695/MOV000359820_700X466.mp4',\n",
       "  'http://sldict.korean.go.kr/multimedia/multimedia_files/convert/20191004/624330/MOV000236182_700X466.mp4'],\n",
       " ['http://sldict.korean.go.kr/multimedia/multimedia_files/convert/20191016/628284/MOV000256913_700X466.mp4',\n",
       "  'http://sldict.korean.go.kr/multimedia/multimedia_files/convert/20151204/221546/MOV000239681_700X466.mp4',\n",
       "  'http://sldict.korean.go.kr/multimedia/multimedia_files/convert/20191016/628219/MOV000237969_700X466.mp4',\n",
       "  'http://sldict.korean.go.kr/multimedia/multimedia_files/convert/20151209/224493/MOV000241021_700X466.mp4',\n",
       "  'http://sldict.korean.go.kr/multimedia/multimedia_files/convert/20200821/733644/MOV000258559_700X466.mp4',\n",
       "  'http://sldict.korean.go.kr/multimedia/multimedia_files/convert/20191004/624330/MOV000236182_700X466.mp4',\n",
       "  'http://sldict.korean.go.kr/multimedia/multimedia_files/convert/20191015/627596/MOV000250635_700X466.mp4',\n",
       "  'http://sldict.korean.go.kr/multimedia/multimedia_files/convert/20151122/214627/MOV000236540_700X466.mp4'],\n",
       " ['http://sldict.korean.go.kr/multimedia/multimedia_files/convert/20151201/219751/MOV000238863_700X466.mp4',\n",
       "  'http://sldict.korean.go.kr/multimedia/multimedia_files/convert/20191016/628039/MOV000257876_700X466.mp4',\n",
       "  'http://sldict.korean.go.kr/multimedia/multimedia_files/convert/20160924/345967/MOV000259329_700X466.mp4',\n",
       "  'http://sldict.korean.go.kr/multimedia/multimedia_files/convert/20160109/243051/MOV000256526_700X466.mp4'],\n",
       " ['http://sldict.korean.go.kr/multimedia/multimedia_files/convert/20191028/632012/MOV000240265_700X466.mp4',\n",
       "  'http://sldict.korean.go.kr/multimedia/multimedia_files/convert/20221101/1047222/MOV000361183_700X466.mp4',\n",
       "  'http://sldict.korean.go.kr/multimedia/multimedia_files/convert/20191015/627596/MOV000250635_700X466.mp4',\n",
       "  'http://sldict.korean.go.kr/multimedia/multimedia_files/convert/20151118/211808/MOV000235271_700X466.mp4',\n",
       "  'http://sldict.korean.go.kr/multimedia/multimedia_files/convert/20191028/631896/MOV000235597_700X466.mp4',\n",
       "  'http://sldict.korean.go.kr/multimedia/multimedia_files/convert/20191101/633272/MOV000239863_700X466.mp4',\n",
       "  'http://sldict.korean.go.kr/multimedia/multimedia_files/convert/20151226/234713/MOV000245618_700X466.mp4',\n",
       "  'http://sldict.korean.go.kr/multimedia/multimedia_files/convert/20151209/224493/MOV000241021_700X466.mp4',\n",
       "  'http://sldict.korean.go.kr/multimedia/multimedia_files/convert/20191022/629937/MOV000255212_700X466.mp4'],\n",
       " ['http://sldict.korean.go.kr/multimedia/multimedia_files/convert/20191028/631984/MOV000248548_700X466.mp4',\n",
       "  'http://sldict.korean.go.kr/multimedia/multimedia_files/convert/20200824/734978/MOV000253990_700X466.mp4',\n",
       "  'http://sldict.korean.go.kr/multimedia/multimedia_files/convert/20220811/1009521/MOV000359922_700X466.mp4',\n",
       "  'http://sldict.korean.go.kr/multimedia/multimedia_files/convert/20191007/625129/MOV000235813_700X466.mp4'],\n",
       " ['http://sldict.korean.go.kr/multimedia/multimedia_files/convert/20191018/628692/MOV000254256_700X466.mp4',\n",
       "  'http://sldict.korean.go.kr/multimedia/multimedia_files/convert/20160325/271794/MOV000273323_700X466.mp4',\n",
       "  'http://sldict.korean.go.kr/multimedia/multimedia_files/convert/20191028/632065/MOV000245938_700X466.mp4',\n",
       "  'http://sldict.korean.go.kr/multimedia/multimedia_files/convert/20191029/632200/MOV000246570_700X466.mp4',\n",
       "  'http://sldict.korean.go.kr/multimedia/multimedia_files/convert/20191007/625129/MOV000235813_700X466.mp4'],\n",
       " ['http://sldict.korean.go.kr/multimedia/multimedia_files/convert/20151204/221676/MOV000239697_700X466.mp4',\n",
       "  'http://sldict.korean.go.kr/multimedia/multimedia_files/convert/20191021/629443/MOV000257630_700X466.mp4',\n",
       "  'http://sldict.korean.go.kr/multimedia/multimedia_files/convert/20151204/221546/MOV000239681_700X466.mp4',\n",
       "  'http://sldict.korean.go.kr/multimedia/multimedia_files/convert/20151226/234713/MOV000245618_700X466.mp4',\n",
       "  'http://sldict.korean.go.kr/multimedia/multimedia_files/convert/20151209/224493/MOV000241021_700X466.mp4',\n",
       "  'http://sldict.korean.go.kr/multimedia/multimedia_files/convert/20191025/630905/MOV000258363_700X466.mp4',\n",
       "  'http://sldict.korean.go.kr/multimedia/multimedia_files/convert/20160325/271794/MOV000273323_700X466.mp4',\n",
       "  'http://sldict.korean.go.kr/multimedia/multimedia_files/convert/20160106/241578/MOV000253613_700X466.mp4',\n",
       "  'http://sldict.korean.go.kr/multimedia/multimedia_files/convert/20191022/630136/MOV000255666_700X466.mp4',\n",
       "  'http://sldict.korean.go.kr/multimedia/multimedia_files/convert/20191004/624330/MOV000236182_700X466.mp4',\n",
       "  'http://sldict.korean.go.kr/multimedia/multimedia_files/convert/20200825/735432/MOV000240671_700X466.mp4',\n",
       "  'http://sldict.korean.go.kr/multimedia/multimedia_files/convert/20191004/624330/MOV000236182_700X466.mp4',\n",
       "  'http://sldict.korean.go.kr/multimedia/multimedia_files/convert/20160102/239198/MOV000248892_700X466.mp4',\n",
       "  'http://sldict.korean.go.kr/multimedia/multimedia_files/convert/20151201/219751/MOV000238863_700X466.mp4',\n",
       "  'http://sldict.korean.go.kr/multimedia/multimedia_files/convert/20160325/271794/MOV000273323_700X466.mp4',\n",
       "  'http://sldict.korean.go.kr/multimedia/multimedia_files/convert/20191016/628067/MOV000235835_700X466.mp4',\n",
       "  'http://sldict.korean.go.kr/multimedia/multimedia_files/convert/20200821/733644/MOV000258559_700X466.mp4',\n",
       "  'http://sldict.korean.go.kr/multimedia/multimedia_files/convert/20191004/624330/MOV000236182_700X466.mp4',\n",
       "  'http://sldict.korean.go.kr/multimedia/multimedia_files/convert/20201211/785423/MOV000357080_700X466.mp4',\n",
       "  'http://sldict.korean.go.kr/multimedia/multimedia_files/convert/20191014/627081/MOV000251936_700X466.mp4',\n",
       "  'http://sldict.korean.go.kr/multimedia/multimedia_files/convert/20191022/630136/MOV000255666_700X466.mp4',\n",
       "  'http://sldict.korean.go.kr/multimedia/multimedia_files/convert/20191011/626558/MOV000244602_700X466.mp4',\n",
       "  'http://sldict.korean.go.kr/multimedia/multimedia_files/convert/20200825/735432/MOV000240671_700X466.mp4',\n",
       "  'http://sldict.korean.go.kr/multimedia/multimedia_files/convert/20191022/629937/MOV000255212_700X466.mp4'],\n",
       " ['http://sldict.korean.go.kr/multimedia/multimedia_files/convert/20160325/271794/MOV000273323_700X466.mp4',\n",
       "  'http://sldict.korean.go.kr/multimedia/multimedia_files/convert/20191016/628067/MOV000235835_700X466.mp4'],\n",
       " ['http://sldict.korean.go.kr/multimedia/multimedia_files/convert/20191025/630821/MOV000234792_700X466.mp4',\n",
       "  'http://sldict.korean.go.kr/multimedia/multimedia_files/convert/20160325/271794/MOV000273323_700X466.mp4',\n",
       "  'http://sldict.korean.go.kr/multimedia/multimedia_files/convert/20151122/214627/MOV000236540_700X466.mp4',\n",
       "  'http://sldict.korean.go.kr/multimedia/multimedia_files/convert/20191016/628031/MOV000236652_700X466.mp4',\n",
       "  'http://sldict.korean.go.kr/multimedia/multimedia_files/convert/20200825/735497/MOV000260392_700X466.mp4',\n",
       "  'http://sldict.korean.go.kr/multimedia/multimedia_files/convert/20201211/785423/MOV000357080_700X466.mp4',\n",
       "  'http://sldict.korean.go.kr/multimedia/multimedia_files/convert/20191004/624367/MOV000236194_700X466.mp4',\n",
       "  'http://sldict.korean.go.kr/multimedia/multimedia_files/convert/20191016/628067/MOV000235835_700X466.mp4'],\n",
       " ['http://sldict.korean.go.kr/multimedia/multimedia_files/convert/20191015/627697/MOV000239795_700X466.mp4',\n",
       "  'http://sldict.korean.go.kr/multimedia/multimedia_files/convert/20200824/735147/MOV000244266_700X466.mp4',\n",
       "  'http://sldict.korean.go.kr/multimedia/multimedia_files/convert/20191016/628020/MOV000247962_700X466.mp4',\n",
       "  'http://sldict.korean.go.kr/multimedia/multimedia_files/convert/20191014/627257/MOV000253623_700X466.mp4',\n",
       "  'http://sldict.korean.go.kr/multimedia/multimedia_files/convert/20191021/629693/MOV000255570_700X466.mp4',\n",
       "  'http://sldict.korean.go.kr/multimedia/multimedia_files/convert/20200825/735629/MOV000258033_700X466.mp4',\n",
       "  'http://sldict.korean.go.kr/multimedia/multimedia_files/convert/20220811/1009752/MOV000360049_700X466.mp4',\n",
       "  'http://sldict.korean.go.kr/multimedia/multimedia_files/convert/20220802/1005754/MOV000359831_700X466.mp4',\n",
       "  'http://sldict.korean.go.kr/multimedia/multimedia_files/convert/20220811/1009745/MOV000360042_700X466.mp4',\n",
       "  'http://sldict.korean.go.kr/multimedia/multimedia_files/convert/20191016/628067/MOV000235835_700X466.mp4',\n",
       "  'http://sldict.korean.go.kr/multimedia/multimedia_files/convert/20191015/627613/MOV000238481_700X466.mp4',\n",
       "  'http://sldict.korean.go.kr/multimedia/multimedia_files/convert/20191022/630136/MOV000255666_700X466.mp4',\n",
       "  'http://sldict.korean.go.kr/multimedia/multimedia_files/convert/20160101/238468/MOV000247434_700X466.mp4',\n",
       "  'http://sldict.korean.go.kr/multimedia/multimedia_files/convert/20191025/630995/MOV000236722_700X466.mp4',\n",
       "  'http://sldict.korean.go.kr/multimedia/multimedia_files/convert/20191015/627581/MOV000237861_700X466.mp4'],\n",
       " ['http://sldict.korean.go.kr/multimedia/multimedia_files/convert/20160325/271794/MOV000273323_700X466.mp4',\n",
       "  'http://sldict.korean.go.kr/multimedia/multimedia_files/convert/20191029/632453/MOV000235627_700X466.mp4',\n",
       "  'http://sldict.korean.go.kr/multimedia/multimedia_files/convert/20220811/1009745/MOV000360042_700X466.mp4',\n",
       "  'http://sldict.korean.go.kr/multimedia/multimedia_files/convert/20220811/1009753/MOV000360050_700X466.mp4',\n",
       "  'http://sldict.korean.go.kr/multimedia/multimedia_files/convert/20220802/1005763/MOV000359840_700X466.mp4',\n",
       "  'http://sldict.korean.go.kr/multimedia/multimedia_files/convert/20220811/1009753/MOV000360050_700X466.mp4',\n",
       "  'http://sldict.korean.go.kr/multimedia/multimedia_files/convert/20220803/1006271/MOV000359919_700X466.mp4',\n",
       "  'http://sldict.korean.go.kr/multimedia/multimedia_files/convert/20220802/1005890/MOV000359892_700X466.mp4',\n",
       "  'http://sldict.korean.go.kr/multimedia/multimedia_files/convert/20151231/237918/MOV000247078_700X466.mp4',\n",
       "  'http://sldict.korean.go.kr/multimedia/multimedia_files/convert/20160325/290330/MOV000288294_700X466.mp4',\n",
       "  'http://sldict.korean.go.kr/multimedia/multimedia_files/convert/20191011/626526/MOV000253067_700X466.mp4',\n",
       "  'http://sldict.korean.go.kr/multimedia/multimedia_files/convert/20220802/1005874/MOV000359876_700X466.mp4',\n",
       "  'http://sldict.korean.go.kr/multimedia/multimedia_files/convert/20151120/213339/MOV000235956_700X466.mp4',\n",
       "  'http://sldict.korean.go.kr/multimedia/multimedia_files/convert/20160109/243051/MOV000256526_700X466.mp4',\n",
       "  'http://sldict.korean.go.kr/multimedia/multimedia_files/convert/20200825/735432/MOV000240671_700X466.mp4',\n",
       "  'http://sldict.korean.go.kr/multimedia/multimedia_files/convert/20151209/224470/MOV000240975_700X466.mp4',\n",
       "  'http://sldict.korean.go.kr/multimedia/multimedia_files/convert/20201211/785423/MOV000357080_700X466.mp4',\n",
       "  'http://sldict.korean.go.kr/multimedia/multimedia_files/convert/20151223/233197/MOV000244962_700X466.mp4',\n",
       "  'http://sldict.korean.go.kr/multimedia/multimedia_files/convert/20160325/270667/MOV000272908_700X466.mp4',\n",
       "  'http://sldict.korean.go.kr/multimedia/multimedia_files/convert/20160325/270665/MOV000272901_700X466.mp4',\n",
       "  'http://sldict.korean.go.kr/multimedia/multimedia_files/convert/20200824/735184/MOV000256826_700X466.mp4',\n",
       "  'http://sldict.korean.go.kr/multimedia/multimedia_files/convert/20200824/735147/MOV000244266_700X466.mp4',\n",
       "  'http://sldict.korean.go.kr/multimedia/multimedia_files/convert/20191004/624330/MOV000236182_700X466.mp4',\n",
       "  'http://sldict.korean.go.kr/multimedia/multimedia_files/convert/20191007/625129/MOV000235813_700X466.mp4'],\n",
       " ['http://sldict.korean.go.kr/multimedia/multimedia_files/convert/20200821/733690/MOV000237456_700X466.mp4',\n",
       "  'http://sldict.korean.go.kr/multimedia/multimedia_files/convert/20151204/221921/MOV000239837_700X466.mp4',\n",
       "  'http://sldict.korean.go.kr/multimedia/multimedia_files/convert/20201211/785423/MOV000357080_700X466.mp4',\n",
       "  'http://sldict.korean.go.kr/multimedia/multimedia_files/convert/20151209/224493/MOV000241021_700X466.mp4',\n",
       "  'http://sldict.korean.go.kr/multimedia/multimedia_files/convert/20160325/271794/MOV000273323_700X466.mp4',\n",
       "  'http://sldict.korean.go.kr/multimedia/multimedia_files/convert/20191029/632453/MOV000235627_700X466.mp4',\n",
       "  'http://sldict.korean.go.kr/multimedia/multimedia_files/convert/20191015/627673/MOV000239983_700X466.mp4',\n",
       "  'http://sldict.korean.go.kr/multimedia/multimedia_files/convert/20160924/345814/MOV000240701_700X466.mp4',\n",
       "  'http://sldict.korean.go.kr/multimedia/multimedia_files/convert/20151119/212817/MOV000235705_700X466.mp4',\n",
       "  'http://sldict.korean.go.kr/multimedia/multimedia_files/convert/20191015/627557/MOV000235527_700X466.mp4',\n",
       "  'http://sldict.korean.go.kr/multimedia/multimedia_files/convert/20191007/625129/MOV000235813_700X466.mp4',\n",
       "  'http://sldict.korean.go.kr/multimedia/multimedia_files/convert/20200821/733618/MOV000249522_700X466.mp4',\n",
       "  'http://sldict.korean.go.kr/multimedia/multimedia_files/convert/20160105/240737/MOV000251954_700X466.mp4',\n",
       "  'http://sldict.korean.go.kr/multimedia/multimedia_files/convert/20151209/224493/MOV000241021_700X466.mp4',\n",
       "  'http://sldict.korean.go.kr/multimedia/multimedia_files/convert/20191022/629937/MOV000255212_700X466.mp4'],\n",
       " ['http://sldict.korean.go.kr/multimedia/multimedia_files/convert/20151204/221546/MOV000239681_700X466.mp4',\n",
       "  'http://sldict.korean.go.kr/multimedia/multimedia_files/convert/20160105/240737/MOV000251954_700X466.mp4',\n",
       "  'http://sldict.korean.go.kr/multimedia/multimedia_files/convert/20151209/224493/MOV000241021_700X466.mp4',\n",
       "  'http://sldict.korean.go.kr/multimedia/multimedia_files/convert/20201211/785495/MOV000357141_700X466.mp4',\n",
       "  'http://sldict.korean.go.kr/multimedia/multimedia_files/convert/20160325/271794/MOV000273323_700X466.mp4',\n",
       "  'http://sldict.korean.go.kr/multimedia/multimedia_files/convert/20191016/628031/MOV000236652_700X466.mp4',\n",
       "  'http://sldict.korean.go.kr/multimedia/multimedia_files/convert/20191004/624330/MOV000236182_700X466.mp4',\n",
       "  'http://sldict.korean.go.kr/multimedia/multimedia_files/convert/20221012/1038757/MOV000360222_700X466.mp4',\n",
       "  'http://sldict.korean.go.kr/multimedia/multimedia_files/convert/20201211/785423/MOV000357080_700X466.mp4',\n",
       "  'http://sldict.korean.go.kr/multimedia/multimedia_files/convert/20151209/224493/MOV000241021_700X466.mp4',\n",
       "  'http://sldict.korean.go.kr/multimedia/multimedia_files/convert/20191011/626558/MOV000244602_700X466.mp4',\n",
       "  'http://sldict.korean.go.kr/multimedia/multimedia_files/convert/20191016/628114/MOV000235513_700X466.mp4',\n",
       "  'http://sldict.korean.go.kr/multimedia/multimedia_files/convert/20191015/627613/MOV000238481_700X466.mp4',\n",
       "  'http://sldict.korean.go.kr/multimedia/multimedia_files/convert/20200825/735452/MOV000235717_700X466.mp4',\n",
       "  'http://sldict.korean.go.kr/multimedia/multimedia_files/convert/20160105/240737/MOV000251954_700X466.mp4',\n",
       "  'http://sldict.korean.go.kr/multimedia/multimedia_files/convert/20151209/224493/MOV000241021_700X466.mp4',\n",
       "  'http://sldict.korean.go.kr/multimedia/multimedia_files/convert/20191021/629452/MOV000235309_700X466.mp4',\n",
       "  'http://sldict.korean.go.kr/multimedia/multimedia_files/convert/20191004/624330/MOV000236182_700X466.mp4',\n",
       "  'http://sldict.korean.go.kr/multimedia/multimedia_files/convert/20191014/627257/MOV000253623_700X466.mp4',\n",
       "  'http://sldict.korean.go.kr/multimedia/multimedia_files/convert/20191007/625129/MOV000235813_700X466.mp4'],\n",
       " ['http://sldict.korean.go.kr/multimedia/multimedia_files/convert/20160325/271794/MOV000273323_700X466.mp4',\n",
       "  'http://sldict.korean.go.kr/multimedia/multimedia_files/convert/20191016/628031/MOV000236652_700X466.mp4',\n",
       "  'http://sldict.korean.go.kr/multimedia/multimedia_files/convert/20191016/628031/MOV000236652_700X466.mp4',\n",
       "  'http://sldict.korean.go.kr/multimedia/multimedia_files/convert/20191004/624330/MOV000236182_700X466.mp4',\n",
       "  'http://sldict.korean.go.kr/multimedia/multimedia_files/convert/20201211/785423/MOV000357080_700X466.mp4',\n",
       "  'http://sldict.korean.go.kr/multimedia/multimedia_files/convert/20191016/628210/MOV000251513_700X466.mp4',\n",
       "  'http://sldict.korean.go.kr/multimedia/multimedia_files/convert/20191015/627702/MOV000256909_700X466.mp4',\n",
       "  'http://sldict.korean.go.kr/multimedia/multimedia_files/convert/20151121/213995/MOV000236269_700X466.mp4',\n",
       "  'http://sldict.korean.go.kr/multimedia/multimedia_files/convert/20191015/627623/MOV000253055_700X466.mp4',\n",
       "  'http://sldict.korean.go.kr/multimedia/multimedia_files/convert/20191014/627257/MOV000253623_700X466.mp4',\n",
       "  'http://sldict.korean.go.kr/multimedia/multimedia_files/convert/20200825/735432/MOV000240671_700X466.mp4',\n",
       "  'http://sldict.korean.go.kr/multimedia/multimedia_files/convert/20191028/632050/MOV000249486_700X466.mp4',\n",
       "  'http://sldict.korean.go.kr/multimedia/multimedia_files/convert/20160111/244393/MOV000259176_700X466.mp4',\n",
       "  'http://sldict.korean.go.kr/multimedia/multimedia_files/convert/20191004/624330/MOV000236182_700X466.mp4'],\n",
       " ['http://sldict.korean.go.kr/multimedia/multimedia_files/convert/20190918/615442/MOV000240981_700X466.mp4',\n",
       "  'http://sldict.korean.go.kr/multimedia/multimedia_files/convert/20151217/229714/MOV000243342_700X466.mp4',\n",
       "  'http://sldict.korean.go.kr/multimedia/multimedia_files/convert/20191016/628031/MOV000236652_700X466.mp4',\n",
       "  'http://sldict.korean.go.kr/multimedia/multimedia_files/convert/20191004/624330/MOV000236182_700X466.mp4',\n",
       "  'http://sldict.korean.go.kr/multimedia/multimedia_files/convert/20191014/627257/MOV000253623_700X466.mp4']]"
      ]
     },
     "execution_count": 16,
     "metadata": {},
     "output_type": "execute_result"
    }
   ],
   "source": [
    "link"
   ]
  },
  {
   "cell_type": "code",
   "execution_count": 17,
   "id": "f58428c5",
   "metadata": {},
   "outputs": [
    {
     "name": "stderr",
     "output_type": "stream",
     "text": [
      "\r",
      "t:   0%|                                                                              | 0/60 [00:00<?, ?it/s, now=None]"
     ]
    },
    {
     "name": "stdout",
     "output_type": "stream",
     "text": [
      "Moviepy - Building video word/word0/word_0.mp4.\n",
      "Moviepy - Writing video word/word0/word_0.mp4\n",
      "\n"
     ]
    },
    {
     "name": "stderr",
     "output_type": "stream",
     "text": [
      "                                                                                                                       \r"
     ]
    },
    {
     "name": "stdout",
     "output_type": "stream",
     "text": [
      "Moviepy - Done !\n",
      "Moviepy - video ready word/word0/word_0.mp4\n",
      "['word/word0\\\\word_0.mp4']\n"
     ]
    },
    {
     "name": "stderr",
     "output_type": "stream",
     "text": [
      "\r",
      "t:   0%|                                                                              | 0/28 [00:00<?, ?it/s, now=None]"
     ]
    },
    {
     "name": "stdout",
     "output_type": "stream",
     "text": [
      "final:  2.0\n",
      "비율 :  2.2\n",
      "Moviepy - Building video sentence/sentence_0.mp4.\n",
      "Moviepy - Writing video sentence/sentence_0.mp4\n",
      "\n"
     ]
    },
    {
     "name": "stderr",
     "output_type": "stream",
     "text": [
      "                                                                                                                       \r"
     ]
    },
    {
     "name": "stdout",
     "output_type": "stream",
     "text": [
      "Moviepy - Done !\n",
      "Moviepy - video ready sentence/sentence_0.mp4\n"
     ]
    },
    {
     "name": "stderr",
     "output_type": "stream",
     "text": [
      "\r",
      "t:   0%|                                                                             | 0/120 [00:00<?, ?it/s, now=None]"
     ]
    },
    {
     "name": "stdout",
     "output_type": "stream",
     "text": [
      "Moviepy - Building video word/word1/word_0.mp4.\n",
      "Moviepy - Writing video word/word1/word_0.mp4\n",
      "\n"
     ]
    },
    {
     "name": "stderr",
     "output_type": "stream",
     "text": [
      "                                                                                                                       \r"
     ]
    },
    {
     "name": "stdout",
     "output_type": "stream",
     "text": [
      "Moviepy - Done !\n",
      "Moviepy - video ready word/word1/word_0.mp4\n"
     ]
    },
    {
     "name": "stderr",
     "output_type": "stream",
     "text": [
      "t:   2%|█▏                                                                   | 2/120 [00:00<00:08, 14.05it/s, now=None]"
     ]
    },
    {
     "name": "stdout",
     "output_type": "stream",
     "text": [
      "Moviepy - Building video word/word1/word_1.mp4.\n",
      "Moviepy - Writing video word/word1/word_1.mp4\n",
      "\n"
     ]
    },
    {
     "name": "stderr",
     "output_type": "stream",
     "text": [
      "                                                                                                                       \r"
     ]
    },
    {
     "name": "stdout",
     "output_type": "stream",
     "text": [
      "Moviepy - Done !\n",
      "Moviepy - video ready word/word1/word_1.mp4\n"
     ]
    },
    {
     "name": "stderr",
     "output_type": "stream",
     "text": [
      "\r",
      "t:   0%|                                                                             | 0/120 [00:00<?, ?it/s, now=None]"
     ]
    },
    {
     "name": "stdout",
     "output_type": "stream",
     "text": [
      "Moviepy - Building video word/word1/word_2.mp4.\n",
      "Moviepy - Writing video word/word1/word_2.mp4\n",
      "\n"
     ]
    },
    {
     "name": "stderr",
     "output_type": "stream",
     "text": [
      "                                                                                                                       \r"
     ]
    },
    {
     "name": "stdout",
     "output_type": "stream",
     "text": [
      "Moviepy - Done !\n",
      "Moviepy - video ready word/word1/word_2.mp4\n"
     ]
    },
    {
     "name": "stderr",
     "output_type": "stream",
     "text": [
      "\r",
      "t:   0%|                                                                              | 0/60 [00:00<?, ?it/s, now=None]"
     ]
    },
    {
     "name": "stdout",
     "output_type": "stream",
     "text": [
      "Moviepy - Building video word/word1/word_3.mp4.\n",
      "Moviepy - Writing video word/word1/word_3.mp4\n",
      "\n"
     ]
    },
    {
     "name": "stderr",
     "output_type": "stream",
     "text": [
      "                                                                                                                       \r"
     ]
    },
    {
     "name": "stdout",
     "output_type": "stream",
     "text": [
      "Moviepy - Done !\n",
      "Moviepy - video ready word/word1/word_3.mp4\n"
     ]
    },
    {
     "name": "stderr",
     "output_type": "stream",
     "text": [
      "t:   3%|██▎                                                                   | 2/60 [00:00<00:04, 14.33it/s, now=None]"
     ]
    },
    {
     "name": "stdout",
     "output_type": "stream",
     "text": [
      "Moviepy - Building video word/word1/word_4.mp4.\n",
      "Moviepy - Writing video word/word1/word_4.mp4\n",
      "\n"
     ]
    },
    {
     "name": "stderr",
     "output_type": "stream",
     "text": [
      "                                                                                                                       \r"
     ]
    },
    {
     "name": "stdout",
     "output_type": "stream",
     "text": [
      "Moviepy - Done !\n",
      "Moviepy - video ready word/word1/word_4.mp4\n"
     ]
    },
    {
     "name": "stderr",
     "output_type": "stream",
     "text": [
      "\r",
      "t:   0%|                                                                              | 0/60 [00:00<?, ?it/s, now=None]"
     ]
    },
    {
     "name": "stdout",
     "output_type": "stream",
     "text": [
      "Moviepy - Building video word/word1/word_5.mp4.\n",
      "Moviepy - Writing video word/word1/word_5.mp4\n",
      "\n"
     ]
    },
    {
     "name": "stderr",
     "output_type": "stream",
     "text": [
      "                                                                                                                       \r"
     ]
    },
    {
     "name": "stdout",
     "output_type": "stream",
     "text": [
      "Moviepy - Done !\n",
      "Moviepy - video ready word/word1/word_5.mp4\n",
      "['word/word1\\\\word_0.mp4', 'word/word1\\\\word_1.mp4', 'word/word1\\\\word_2.mp4', 'word/word1\\\\word_3.mp4', 'word/word1\\\\word_4.mp4', 'word/word1\\\\word_5.mp4']\n"
     ]
    },
    {
     "name": "stderr",
     "output_type": "stream",
     "text": [
      "\r",
      "t:   0%|                                                                              | 0/90 [00:00<?, ?it/s, now=None]"
     ]
    },
    {
     "name": "stdout",
     "output_type": "stream",
     "text": [
      "final:  12.0\n",
      "비율 :  8.0\n",
      "Moviepy - Building video sentence/sentence_1.mp4.\n",
      "Moviepy - Writing video sentence/sentence_1.mp4\n",
      "\n"
     ]
    },
    {
     "name": "stderr",
     "output_type": "stream",
     "text": [
      "                                                                                                                       \r"
     ]
    },
    {
     "name": "stdout",
     "output_type": "stream",
     "text": [
      "Moviepy - Done !\n",
      "Moviepy - video ready sentence/sentence_1.mp4\n"
     ]
    },
    {
     "name": "stderr",
     "output_type": "stream",
     "text": [
      "\r",
      "t:   0%|                                                                              | 0/60 [00:00<?, ?it/s, now=None]"
     ]
    },
    {
     "name": "stdout",
     "output_type": "stream",
     "text": [
      "Moviepy - Building video word/word2/word_0.mp4.\n",
      "Moviepy - Writing video word/word2/word_0.mp4\n",
      "\n"
     ]
    },
    {
     "name": "stderr",
     "output_type": "stream",
     "text": [
      "                                                                                                                       \r"
     ]
    },
    {
     "name": "stdout",
     "output_type": "stream",
     "text": [
      "Moviepy - Done !\n",
      "Moviepy - video ready word/word2/word_0.mp4\n"
     ]
    },
    {
     "name": "stderr",
     "output_type": "stream",
     "text": [
      "t:   2%|█▏                                                                   | 2/120 [00:00<00:08, 13.56it/s, now=None]"
     ]
    },
    {
     "name": "stdout",
     "output_type": "stream",
     "text": [
      "Moviepy - Building video word/word2/word_1.mp4.\n",
      "Moviepy - Writing video word/word2/word_1.mp4\n",
      "\n"
     ]
    },
    {
     "name": "stderr",
     "output_type": "stream",
     "text": [
      "                                                                                                                       \r"
     ]
    },
    {
     "name": "stdout",
     "output_type": "stream",
     "text": [
      "Moviepy - Done !\n",
      "Moviepy - video ready word/word2/word_1.mp4\n"
     ]
    },
    {
     "name": "stderr",
     "output_type": "stream",
     "text": [
      "t:   2%|█▏                                                                   | 2/120 [00:00<00:08, 14.11it/s, now=None]"
     ]
    },
    {
     "name": "stdout",
     "output_type": "stream",
     "text": [
      "Moviepy - Building video word/word2/word_2.mp4.\n",
      "Moviepy - Writing video word/word2/word_2.mp4\n",
      "\n"
     ]
    },
    {
     "name": "stderr",
     "output_type": "stream",
     "text": [
      "                                                                                                                       \r"
     ]
    },
    {
     "name": "stdout",
     "output_type": "stream",
     "text": [
      "Moviepy - Done !\n",
      "Moviepy - video ready word/word2/word_2.mp4\n"
     ]
    },
    {
     "name": "stderr",
     "output_type": "stream",
     "text": [
      "\r",
      "t:   0%|                                                                             | 0/120 [00:00<?, ?it/s, now=None]"
     ]
    },
    {
     "name": "stdout",
     "output_type": "stream",
     "text": [
      "Moviepy - Building video word/word2/word_3.mp4.\n",
      "Moviepy - Writing video word/word2/word_3.mp4\n",
      "\n"
     ]
    },
    {
     "name": "stderr",
     "output_type": "stream",
     "text": [
      "                                                                                                                       \r"
     ]
    },
    {
     "name": "stdout",
     "output_type": "stream",
     "text": [
      "Moviepy - Done !\n",
      "Moviepy - video ready word/word2/word_3.mp4\n"
     ]
    },
    {
     "name": "stderr",
     "output_type": "stream",
     "text": [
      "\r",
      "t:   0%|                                                                             | 0/120 [00:00<?, ?it/s, now=None]"
     ]
    },
    {
     "name": "stdout",
     "output_type": "stream",
     "text": [
      "Moviepy - Building video word/word2/word_4.mp4.\n",
      "Moviepy - Writing video word/word2/word_4.mp4\n",
      "\n"
     ]
    },
    {
     "name": "stderr",
     "output_type": "stream",
     "text": [
      "                                                                                                                       \r"
     ]
    },
    {
     "name": "stdout",
     "output_type": "stream",
     "text": [
      "Moviepy - Done !\n",
      "Moviepy - video ready word/word2/word_4.mp4\n"
     ]
    },
    {
     "name": "stderr",
     "output_type": "stream",
     "text": [
      "t:   2%|█▏                                                                   | 2/120 [00:00<00:07, 14.92it/s, now=None]"
     ]
    },
    {
     "name": "stdout",
     "output_type": "stream",
     "text": [
      "Moviepy - Building video word/word2/word_5.mp4.\n",
      "Moviepy - Writing video word/word2/word_5.mp4\n",
      "\n"
     ]
    },
    {
     "name": "stderr",
     "output_type": "stream",
     "text": [
      "                                                                                                                       \r"
     ]
    },
    {
     "name": "stdout",
     "output_type": "stream",
     "text": [
      "Moviepy - Done !\n",
      "Moviepy - video ready word/word2/word_5.mp4\n"
     ]
    },
    {
     "name": "stderr",
     "output_type": "stream",
     "text": [
      "\r",
      "t:   0%|                                                                             | 0/120 [00:00<?, ?it/s, now=None]"
     ]
    },
    {
     "name": "stdout",
     "output_type": "stream",
     "text": [
      "Moviepy - Building video word/word2/word_6.mp4.\n",
      "Moviepy - Writing video word/word2/word_6.mp4\n",
      "\n"
     ]
    },
    {
     "name": "stderr",
     "output_type": "stream",
     "text": [
      "                                                                                                                       \r"
     ]
    },
    {
     "name": "stdout",
     "output_type": "stream",
     "text": [
      "Moviepy - Done !\n",
      "Moviepy - video ready word/word2/word_6.mp4\n"
     ]
    },
    {
     "name": "stderr",
     "output_type": "stream",
     "text": [
      "\r",
      "t:   0%|                                                                              | 0/60 [00:00<?, ?it/s, now=None]"
     ]
    },
    {
     "name": "stdout",
     "output_type": "stream",
     "text": [
      "Moviepy - Building video word/word2/word_7.mp4.\n",
      "Moviepy - Writing video word/word2/word_7.mp4\n",
      "\n"
     ]
    },
    {
     "name": "stderr",
     "output_type": "stream",
     "text": [
      "                                                                                                                       \r"
     ]
    },
    {
     "name": "stdout",
     "output_type": "stream",
     "text": [
      "Moviepy - Done !\n",
      "Moviepy - video ready word/word2/word_7.mp4\n"
     ]
    },
    {
     "name": "stderr",
     "output_type": "stream",
     "text": [
      "t:   2%|█▏                                                                   | 2/120 [00:00<00:07, 16.50it/s, now=None]"
     ]
    },
    {
     "name": "stdout",
     "output_type": "stream",
     "text": [
      "Moviepy - Building video word/word2/word_8.mp4.\n",
      "Moviepy - Writing video word/word2/word_8.mp4\n",
      "\n"
     ]
    },
    {
     "name": "stderr",
     "output_type": "stream",
     "text": [
      "                                                                                                                       \r"
     ]
    },
    {
     "name": "stdout",
     "output_type": "stream",
     "text": [
      "Moviepy - Done !\n",
      "Moviepy - video ready word/word2/word_8.mp4\n"
     ]
    },
    {
     "name": "stderr",
     "output_type": "stream",
     "text": [
      "t:   3%|██▎                                                                   | 2/60 [00:00<00:03, 14.68it/s, now=None]"
     ]
    },
    {
     "name": "stdout",
     "output_type": "stream",
     "text": [
      "Moviepy - Building video word/word2/word_9.mp4.\n",
      "Moviepy - Writing video word/word2/word_9.mp4\n",
      "\n"
     ]
    },
    {
     "name": "stderr",
     "output_type": "stream",
     "text": [
      "                                                                                                                       \r"
     ]
    },
    {
     "name": "stdout",
     "output_type": "stream",
     "text": [
      "Moviepy - Done !\n",
      "Moviepy - video ready word/word2/word_9.mp4\n"
     ]
    },
    {
     "name": "stderr",
     "output_type": "stream",
     "text": [
      "t:   2%|█▏                                                                   | 2/120 [00:00<00:07, 14.82it/s, now=None]"
     ]
    },
    {
     "name": "stdout",
     "output_type": "stream",
     "text": [
      "Moviepy - Building video word/word2/word_10.mp4.\n",
      "Moviepy - Writing video word/word2/word_10.mp4\n",
      "\n"
     ]
    },
    {
     "name": "stderr",
     "output_type": "stream",
     "text": [
      "                                                                                                                       \r"
     ]
    },
    {
     "name": "stdout",
     "output_type": "stream",
     "text": [
      "Moviepy - Done !\n",
      "Moviepy - video ready word/word2/word_10.mp4\n"
     ]
    },
    {
     "name": "stderr",
     "output_type": "stream",
     "text": [
      "\r",
      "t:   0%|                                                                             | 0/120 [00:00<?, ?it/s, now=None]"
     ]
    },
    {
     "name": "stdout",
     "output_type": "stream",
     "text": [
      "Moviepy - Building video word/word2/word_11.mp4.\n",
      "Moviepy - Writing video word/word2/word_11.mp4\n",
      "\n"
     ]
    },
    {
     "name": "stderr",
     "output_type": "stream",
     "text": [
      "                                                                                                                       \r"
     ]
    },
    {
     "name": "stdout",
     "output_type": "stream",
     "text": [
      "Moviepy - Done !\n",
      "Moviepy - video ready word/word2/word_11.mp4\n",
      "Moviepy - Building video word/word2/word_12.mp4.\n",
      "Moviepy - Writing video word/word2/word_12.mp4\n",
      "\n"
     ]
    },
    {
     "name": "stderr",
     "output_type": "stream",
     "text": [
      "                                                                                                                       \r"
     ]
    },
    {
     "name": "stdout",
     "output_type": "stream",
     "text": [
      "Moviepy - Done !\n",
      "Moviepy - video ready word/word2/word_12.mp4\n"
     ]
    },
    {
     "name": "stderr",
     "output_type": "stream",
     "text": [
      "t:   3%|██▎                                                                   | 2/60 [00:00<00:03, 14.68it/s, now=None]"
     ]
    },
    {
     "name": "stdout",
     "output_type": "stream",
     "text": [
      "Moviepy - Building video word/word2/word_13.mp4.\n",
      "Moviepy - Writing video word/word2/word_13.mp4\n",
      "\n"
     ]
    },
    {
     "name": "stderr",
     "output_type": "stream",
     "text": [
      "                                                                                                                       \r"
     ]
    },
    {
     "name": "stdout",
     "output_type": "stream",
     "text": [
      "Moviepy - Done !\n",
      "Moviepy - video ready word/word2/word_13.mp4\n"
     ]
    },
    {
     "name": "stderr",
     "output_type": "stream",
     "text": [
      "\r",
      "t:   0%|                                                                              | 0/60 [00:00<?, ?it/s, now=None]"
     ]
    },
    {
     "name": "stdout",
     "output_type": "stream",
     "text": [
      "Moviepy - Building video word/word2/word_14.mp4.\n",
      "Moviepy - Writing video word/word2/word_14.mp4\n",
      "\n"
     ]
    },
    {
     "name": "stderr",
     "output_type": "stream",
     "text": [
      "                                                                                                                       \r"
     ]
    },
    {
     "name": "stdout",
     "output_type": "stream",
     "text": [
      "Moviepy - Done !\n",
      "Moviepy - video ready word/word2/word_14.mp4\n"
     ]
    },
    {
     "name": "stderr",
     "output_type": "stream",
     "text": [
      "t:   3%|██▎                                                                   | 2/60 [00:00<00:04, 13.93it/s, now=None]"
     ]
    },
    {
     "name": "stdout",
     "output_type": "stream",
     "text": [
      "Moviepy - Building video word/word2/word_15.mp4.\n",
      "Moviepy - Writing video word/word2/word_15.mp4\n",
      "\n"
     ]
    },
    {
     "name": "stderr",
     "output_type": "stream",
     "text": [
      "                                                                                                                       \r"
     ]
    },
    {
     "name": "stdout",
     "output_type": "stream",
     "text": [
      "Moviepy - Done !\n",
      "Moviepy - video ready word/word2/word_15.mp4\n",
      "['word/word2\\\\word_0.mp4', 'word/word2\\\\word_1.mp4', 'word/word2\\\\word_2.mp4', 'word/word2\\\\word_3.mp4', 'word/word2\\\\word_4.mp4', 'word/word2\\\\word_5.mp4', 'word/word2\\\\word_6.mp4', 'word/word2\\\\word_7.mp4', 'word/word2\\\\word_8.mp4', 'word/word2\\\\word_9.mp4', 'word/word2\\\\word_10.mp4', 'word/word2\\\\word_11.mp4', 'word/word2\\\\word_12.mp4', 'word/word2\\\\word_13.mp4', 'word/word2\\\\word_14.mp4', 'word/word2\\\\word_15.mp4']\n"
     ]
    },
    {
     "name": "stderr",
     "output_type": "stream",
     "text": [
      "\r",
      "t:   0%|                                                                             | 0/400 [00:00<?, ?it/s, now=None]"
     ]
    },
    {
     "name": "stdout",
     "output_type": "stream",
     "text": [
      "final:  32.0\n",
      "비율 :  4.8\n",
      "Moviepy - Building video sentence/sentence_2.mp4.\n",
      "Moviepy - Writing video sentence/sentence_2.mp4\n",
      "\n"
     ]
    },
    {
     "name": "stderr",
     "output_type": "stream",
     "text": [
      "                                                                                                                       \r"
     ]
    },
    {
     "name": "stdout",
     "output_type": "stream",
     "text": [
      "Moviepy - Done !\n",
      "Moviepy - video ready sentence/sentence_2.mp4\n"
     ]
    },
    {
     "name": "stderr",
     "output_type": "stream",
     "text": [
      "t:   3%|██▎                                                                   | 2/60 [00:00<00:04, 13.50it/s, now=None]"
     ]
    },
    {
     "name": "stdout",
     "output_type": "stream",
     "text": [
      "Moviepy - Building video word/word3/word_0.mp4.\n",
      "Moviepy - Writing video word/word3/word_0.mp4\n",
      "\n"
     ]
    },
    {
     "name": "stderr",
     "output_type": "stream",
     "text": [
      "                                                                                                                       \r"
     ]
    },
    {
     "name": "stdout",
     "output_type": "stream",
     "text": [
      "Moviepy - Done !\n",
      "Moviepy - video ready word/word3/word_0.mp4\n"
     ]
    },
    {
     "name": "stderr",
     "output_type": "stream",
     "text": [
      "\r",
      "t:   0%|                                                                              | 0/60 [00:00<?, ?it/s, now=None]"
     ]
    },
    {
     "name": "stdout",
     "output_type": "stream",
     "text": [
      "Moviepy - Building video word/word3/word_1.mp4.\n",
      "Moviepy - Writing video word/word3/word_1.mp4\n",
      "\n"
     ]
    },
    {
     "name": "stderr",
     "output_type": "stream",
     "text": [
      "                                                                                                                       \r"
     ]
    },
    {
     "name": "stdout",
     "output_type": "stream",
     "text": [
      "Moviepy - Done !\n",
      "Moviepy - video ready word/word3/word_1.mp4\n"
     ]
    },
    {
     "name": "stderr",
     "output_type": "stream",
     "text": [
      "t:   3%|██▎                                                                   | 2/60 [00:00<00:03, 16.49it/s, now=None]"
     ]
    },
    {
     "name": "stdout",
     "output_type": "stream",
     "text": [
      "Moviepy - Building video word/word3/word_2.mp4.\n",
      "Moviepy - Writing video word/word3/word_2.mp4\n",
      "\n"
     ]
    },
    {
     "name": "stderr",
     "output_type": "stream",
     "text": [
      "                                                                                                                       \r"
     ]
    },
    {
     "name": "stdout",
     "output_type": "stream",
     "text": [
      "Moviepy - Done !\n",
      "Moviepy - video ready word/word3/word_2.mp4\n"
     ]
    },
    {
     "name": "stderr",
     "output_type": "stream",
     "text": [
      "t:   7%|████▋                                                                 | 4/60 [00:00<00:01, 39.15it/s, now=None]"
     ]
    },
    {
     "name": "stdout",
     "output_type": "stream",
     "text": [
      "Moviepy - Building video word/word3/word_3.mp4.\n",
      "Moviepy - Writing video word/word3/word_3.mp4\n",
      "\n"
     ]
    },
    {
     "name": "stderr",
     "output_type": "stream",
     "text": [
      "                                                                                                                       \r"
     ]
    },
    {
     "name": "stdout",
     "output_type": "stream",
     "text": [
      "Moviepy - Done !\n",
      "Moviepy - video ready word/word3/word_3.mp4\n"
     ]
    },
    {
     "name": "stderr",
     "output_type": "stream",
     "text": [
      "t:   2%|█▏                                                                   | 2/120 [00:00<00:07, 16.03it/s, now=None]"
     ]
    },
    {
     "name": "stdout",
     "output_type": "stream",
     "text": [
      "Moviepy - Building video word/word3/word_4.mp4.\n",
      "Moviepy - Writing video word/word3/word_4.mp4\n",
      "\n"
     ]
    },
    {
     "name": "stderr",
     "output_type": "stream",
     "text": [
      "                                                                                                                       \r"
     ]
    },
    {
     "name": "stdout",
     "output_type": "stream",
     "text": [
      "Moviepy - Done !\n",
      "Moviepy - video ready word/word3/word_4.mp4\n"
     ]
    },
    {
     "name": "stderr",
     "output_type": "stream",
     "text": [
      "\r",
      "t:   0%|                                                                              | 0/60 [00:00<?, ?it/s, now=None]"
     ]
    },
    {
     "name": "stdout",
     "output_type": "stream",
     "text": [
      "Moviepy - Building video word/word3/word_5.mp4.\n",
      "Moviepy - Writing video word/word3/word_5.mp4\n",
      "\n"
     ]
    },
    {
     "name": "stderr",
     "output_type": "stream",
     "text": [
      "                                                                                                                       \r"
     ]
    },
    {
     "name": "stdout",
     "output_type": "stream",
     "text": [
      "Moviepy - Done !\n",
      "Moviepy - video ready word/word3/word_5.mp4\n",
      "['word/word3\\\\word_0.mp4', 'word/word3\\\\word_1.mp4', 'word/word3\\\\word_2.mp4', 'word/word3\\\\word_3.mp4', 'word/word3\\\\word_4.mp4', 'word/word3\\\\word_5.mp4']\n"
     ]
    },
    {
     "name": "stderr",
     "output_type": "stream",
     "text": [
      "\r",
      "t:   0%|                                                                             | 0/131 [00:00<?, ?it/s, now=None]"
     ]
    },
    {
     "name": "stdout",
     "output_type": "stream",
     "text": [
      "final:  12.0\n",
      "비율 :  5.5\n",
      "Moviepy - Building video sentence/sentence_3.mp4.\n",
      "Moviepy - Writing video sentence/sentence_3.mp4\n",
      "\n"
     ]
    },
    {
     "name": "stderr",
     "output_type": "stream",
     "text": [
      "                                                                                                                       \r"
     ]
    },
    {
     "name": "stdout",
     "output_type": "stream",
     "text": [
      "Moviepy - Done !\n",
      "Moviepy - video ready sentence/sentence_3.mp4\n"
     ]
    },
    {
     "name": "stderr",
     "output_type": "stream",
     "text": [
      "t:   2%|█▏                                                                   | 2/120 [00:00<00:07, 15.26it/s, now=None]"
     ]
    },
    {
     "name": "stdout",
     "output_type": "stream",
     "text": [
      "Moviepy - Building video word/word4/word_0.mp4.\n",
      "Moviepy - Writing video word/word4/word_0.mp4\n",
      "\n"
     ]
    },
    {
     "name": "stderr",
     "output_type": "stream",
     "text": [
      "                                                                                                                       \r"
     ]
    },
    {
     "name": "stdout",
     "output_type": "stream",
     "text": [
      "Moviepy - Done !\n",
      "Moviepy - video ready word/word4/word_0.mp4\n"
     ]
    },
    {
     "name": "stderr",
     "output_type": "stream",
     "text": [
      "\r",
      "t:   0%|                                                                             | 0/120 [00:00<?, ?it/s, now=None]"
     ]
    },
    {
     "name": "stdout",
     "output_type": "stream",
     "text": [
      "Moviepy - Building video word/word4/word_1.mp4.\n",
      "Moviepy - Writing video word/word4/word_1.mp4\n",
      "\n"
     ]
    },
    {
     "name": "stderr",
     "output_type": "stream",
     "text": [
      "                                                                                                                       \r"
     ]
    },
    {
     "name": "stdout",
     "output_type": "stream",
     "text": [
      "Moviepy - Done !\n",
      "Moviepy - video ready word/word4/word_1.mp4\n"
     ]
    },
    {
     "name": "stderr",
     "output_type": "stream",
     "text": [
      "\r",
      "t:   0%|                                                                              | 0/60 [00:00<?, ?it/s, now=None]"
     ]
    },
    {
     "name": "stdout",
     "output_type": "stream",
     "text": [
      "Moviepy - Building video word/word4/word_2.mp4.\n",
      "Moviepy - Writing video word/word4/word_2.mp4\n",
      "\n"
     ]
    },
    {
     "name": "stderr",
     "output_type": "stream",
     "text": [
      "                                                                                                                       \r"
     ]
    },
    {
     "name": "stdout",
     "output_type": "stream",
     "text": [
      "Moviepy - Done !\n",
      "Moviepy - video ready word/word4/word_2.mp4\n"
     ]
    },
    {
     "name": "stderr",
     "output_type": "stream",
     "text": [
      "t:   3%|██▎                                                                   | 2/60 [00:00<00:04, 13.71it/s, now=None]"
     ]
    },
    {
     "name": "stdout",
     "output_type": "stream",
     "text": [
      "Moviepy - Building video word/word4/word_3.mp4.\n",
      "Moviepy - Writing video word/word4/word_3.mp4\n",
      "\n"
     ]
    },
    {
     "name": "stderr",
     "output_type": "stream",
     "text": [
      "                                                                                                                       \r"
     ]
    },
    {
     "name": "stdout",
     "output_type": "stream",
     "text": [
      "Moviepy - Done !\n",
      "Moviepy - video ready word/word4/word_3.mp4\n"
     ]
    },
    {
     "name": "stderr",
     "output_type": "stream",
     "text": [
      "\r",
      "t:   0%|                                                                              | 0/60 [00:00<?, ?it/s, now=None]"
     ]
    },
    {
     "name": "stdout",
     "output_type": "stream",
     "text": [
      "Moviepy - Building video word/word4/word_4.mp4.\n",
      "Moviepy - Writing video word/word4/word_4.mp4\n",
      "\n"
     ]
    },
    {
     "name": "stderr",
     "output_type": "stream",
     "text": [
      "                                                                                                                       \r"
     ]
    },
    {
     "name": "stdout",
     "output_type": "stream",
     "text": [
      "Moviepy - Done !\n",
      "Moviepy - video ready word/word4/word_4.mp4\n"
     ]
    },
    {
     "name": "stderr",
     "output_type": "stream",
     "text": [
      "\r",
      "t:   0%|                                                                              | 0/60 [00:00<?, ?it/s, now=None]"
     ]
    },
    {
     "name": "stdout",
     "output_type": "stream",
     "text": [
      "Moviepy - Building video word/word4/word_5.mp4.\n",
      "Moviepy - Writing video word/word4/word_5.mp4\n",
      "\n"
     ]
    },
    {
     "name": "stderr",
     "output_type": "stream",
     "text": [
      "                                                                                                                       \r"
     ]
    },
    {
     "name": "stdout",
     "output_type": "stream",
     "text": [
      "Moviepy - Done !\n",
      "Moviepy - video ready word/word4/word_5.mp4\n"
     ]
    },
    {
     "name": "stderr",
     "output_type": "stream",
     "text": [
      "\r",
      "t:   0%|                                                                              | 0/60 [00:00<?, ?it/s, now=None]"
     ]
    },
    {
     "name": "stdout",
     "output_type": "stream",
     "text": [
      "Moviepy - Building video word/word4/word_6.mp4.\n",
      "Moviepy - Writing video word/word4/word_6.mp4\n",
      "\n"
     ]
    },
    {
     "name": "stderr",
     "output_type": "stream",
     "text": [
      "                                                                                                                       \r"
     ]
    },
    {
     "name": "stdout",
     "output_type": "stream",
     "text": [
      "Moviepy - Done !\n",
      "Moviepy - video ready word/word4/word_6.mp4\n",
      "['word/word4\\\\word_0.mp4', 'word/word4\\\\word_1.mp4', 'word/word4\\\\word_2.mp4', 'word/word4\\\\word_3.mp4', 'word/word4\\\\word_4.mp4', 'word/word4\\\\word_5.mp4', 'word/word4\\\\word_6.mp4']\n",
      "final:  14.0\n",
      "비율 :  6.1"
     ]
    },
    {
     "name": "stderr",
     "output_type": "stream",
     "text": [
      "\r",
      "t:   0%|                                                                             | 0/138 [00:00<?, ?it/s, now=None]"
     ]
    },
    {
     "name": "stdout",
     "output_type": "stream",
     "text": [
      "\n",
      "Moviepy - Building video sentence/sentence_4.mp4.\n",
      "Moviepy - Writing video sentence/sentence_4.mp4\n",
      "\n"
     ]
    },
    {
     "name": "stderr",
     "output_type": "stream",
     "text": [
      "                                                                                                                       \r"
     ]
    },
    {
     "name": "stdout",
     "output_type": "stream",
     "text": [
      "Moviepy - Done !\n",
      "Moviepy - video ready sentence/sentence_4.mp4\n"
     ]
    },
    {
     "name": "stderr",
     "output_type": "stream",
     "text": [
      "t:   3%|██▎                                                                   | 2/60 [00:00<00:05, 10.42it/s, now=None]"
     ]
    },
    {
     "name": "stdout",
     "output_type": "stream",
     "text": [
      "Moviepy - Building video word/word5/word_0.mp4.\n",
      "Moviepy - Writing video word/word5/word_0.mp4\n",
      "\n"
     ]
    },
    {
     "name": "stderr",
     "output_type": "stream",
     "text": [
      "                                                                                                                       \r"
     ]
    },
    {
     "name": "stdout",
     "output_type": "stream",
     "text": [
      "Moviepy - Done !\n",
      "Moviepy - video ready word/word5/word_0.mp4\n"
     ]
    },
    {
     "name": "stderr",
     "output_type": "stream",
     "text": [
      "t:   2%|█▏                                                                   | 2/120 [00:00<00:09, 12.89it/s, now=None]"
     ]
    },
    {
     "name": "stdout",
     "output_type": "stream",
     "text": [
      "Moviepy - Building video word/word5/word_1.mp4.\n",
      "Moviepy - Writing video word/word5/word_1.mp4\n",
      "\n"
     ]
    },
    {
     "name": "stderr",
     "output_type": "stream",
     "text": [
      "                                                                                                                       \r"
     ]
    },
    {
     "name": "stdout",
     "output_type": "stream",
     "text": [
      "Moviepy - Done !\n",
      "Moviepy - video ready word/word5/word_1.mp4\n"
     ]
    },
    {
     "name": "stderr",
     "output_type": "stream",
     "text": [
      "\r",
      "t:   0%|                                                                             | 0/120 [00:00<?, ?it/s, now=None]"
     ]
    },
    {
     "name": "stdout",
     "output_type": "stream",
     "text": [
      "Moviepy - Building video word/word5/word_2.mp4.\n",
      "Moviepy - Writing video word/word5/word_2.mp4\n",
      "\n"
     ]
    },
    {
     "name": "stderr",
     "output_type": "stream",
     "text": [
      "                                                                                                                       \r"
     ]
    },
    {
     "name": "stdout",
     "output_type": "stream",
     "text": [
      "Moviepy - Done !\n",
      "Moviepy - video ready word/word5/word_2.mp4\n"
     ]
    },
    {
     "name": "stderr",
     "output_type": "stream",
     "text": [
      "\r",
      "t:   0%|                                                                             | 0/120 [00:00<?, ?it/s, now=None]"
     ]
    },
    {
     "name": "stdout",
     "output_type": "stream",
     "text": [
      "Moviepy - Building video word/word5/word_3.mp4.\n",
      "Moviepy - Writing video word/word5/word_3.mp4\n",
      "\n"
     ]
    },
    {
     "name": "stderr",
     "output_type": "stream",
     "text": [
      "                                                                                                                       \r"
     ]
    },
    {
     "name": "stdout",
     "output_type": "stream",
     "text": [
      "Moviepy - Done !\n",
      "Moviepy - video ready word/word5/word_3.mp4\n"
     ]
    },
    {
     "name": "stderr",
     "output_type": "stream",
     "text": [
      "t:   2%|█▏                                                                   | 2/120 [00:00<00:10, 11.43it/s, now=None]"
     ]
    },
    {
     "name": "stdout",
     "output_type": "stream",
     "text": [
      "Moviepy - Building video word/word5/word_4.mp4.\n",
      "Moviepy - Writing video word/word5/word_4.mp4\n",
      "\n"
     ]
    },
    {
     "name": "stderr",
     "output_type": "stream",
     "text": [
      "                                                                                                                       \r"
     ]
    },
    {
     "name": "stdout",
     "output_type": "stream",
     "text": [
      "Moviepy - Done !\n",
      "Moviepy - video ready word/word5/word_4.mp4\n"
     ]
    },
    {
     "name": "stderr",
     "output_type": "stream",
     "text": [
      "t:   2%|█▏                                                                   | 2/120 [00:00<00:07, 14.86it/s, now=None]"
     ]
    },
    {
     "name": "stdout",
     "output_type": "stream",
     "text": [
      "Moviepy - Building video word/word5/word_5.mp4.\n",
      "Moviepy - Writing video word/word5/word_5.mp4\n",
      "\n"
     ]
    },
    {
     "name": "stderr",
     "output_type": "stream",
     "text": [
      "                                                                                                                       \r"
     ]
    },
    {
     "name": "stdout",
     "output_type": "stream",
     "text": [
      "Moviepy - Done !\n",
      "Moviepy - video ready word/word5/word_5.mp4\n"
     ]
    },
    {
     "name": "stderr",
     "output_type": "stream",
     "text": [
      "\r",
      "t:   0%|                                                                             | 0/120 [00:00<?, ?it/s, now=None]"
     ]
    },
    {
     "name": "stdout",
     "output_type": "stream",
     "text": [
      "Moviepy - Building video word/word5/word_6.mp4.\n",
      "Moviepy - Writing video word/word5/word_6.mp4\n",
      "\n"
     ]
    },
    {
     "name": "stderr",
     "output_type": "stream",
     "text": [
      "                                                                                                                       \r"
     ]
    },
    {
     "name": "stdout",
     "output_type": "stream",
     "text": [
      "Moviepy - Done !\n",
      "Moviepy - video ready word/word5/word_6.mp4\n"
     ]
    },
    {
     "name": "stderr",
     "output_type": "stream",
     "text": [
      "t:   2%|█▏                                                                   | 2/120 [00:00<00:09, 11.99it/s, now=None]"
     ]
    },
    {
     "name": "stdout",
     "output_type": "stream",
     "text": [
      "Moviepy - Building video word/word5/word_7.mp4.\n",
      "Moviepy - Writing video word/word5/word_7.mp4\n",
      "\n"
     ]
    },
    {
     "name": "stderr",
     "output_type": "stream",
     "text": [
      "                                                                                                                       \r"
     ]
    },
    {
     "name": "stdout",
     "output_type": "stream",
     "text": [
      "Moviepy - Done !\n",
      "Moviepy - video ready word/word5/word_7.mp4\n"
     ]
    },
    {
     "name": "stderr",
     "output_type": "stream",
     "text": [
      "\r",
      "t:   0%|                                                                             | 0/120 [00:00<?, ?it/s, now=None]"
     ]
    },
    {
     "name": "stdout",
     "output_type": "stream",
     "text": [
      "Moviepy - Building video word/word5/word_8.mp4.\n",
      "Moviepy - Writing video word/word5/word_8.mp4\n",
      "\n"
     ]
    },
    {
     "name": "stderr",
     "output_type": "stream",
     "text": [
      "                                                                                                                       \r"
     ]
    },
    {
     "name": "stdout",
     "output_type": "stream",
     "text": [
      "Moviepy - Done !\n",
      "Moviepy - video ready word/word5/word_8.mp4\n"
     ]
    },
    {
     "name": "stderr",
     "output_type": "stream",
     "text": [
      "\r",
      "t:   0%|                                                                             | 0/120 [00:00<?, ?it/s, now=None]"
     ]
    },
    {
     "name": "stdout",
     "output_type": "stream",
     "text": [
      "Moviepy - Building video word/word5/word_9.mp4.\n",
      "Moviepy - Writing video word/word5/word_9.mp4\n",
      "\n"
     ]
    },
    {
     "name": "stderr",
     "output_type": "stream",
     "text": [
      "                                                                                                                       \r"
     ]
    },
    {
     "name": "stdout",
     "output_type": "stream",
     "text": [
      "Moviepy - Done !\n",
      "Moviepy - video ready word/word5/word_9.mp4\n"
     ]
    },
    {
     "name": "stderr",
     "output_type": "stream",
     "text": [
      "\r",
      "t:   0%|                                                                             | 0/120 [00:00<?, ?it/s, now=None]"
     ]
    },
    {
     "name": "stdout",
     "output_type": "stream",
     "text": [
      "Moviepy - Building video word/word5/word_10.mp4.\n",
      "Moviepy - Writing video word/word5/word_10.mp4\n",
      "\n"
     ]
    },
    {
     "name": "stderr",
     "output_type": "stream",
     "text": [
      "                                                                                                                       \r"
     ]
    },
    {
     "name": "stdout",
     "output_type": "stream",
     "text": [
      "Moviepy - Done !\n",
      "Moviepy - video ready word/word5/word_10.mp4\n"
     ]
    },
    {
     "name": "stderr",
     "output_type": "stream",
     "text": [
      "\r",
      "t:   0%|                                                                              | 0/60 [00:00<?, ?it/s, now=None]"
     ]
    },
    {
     "name": "stdout",
     "output_type": "stream",
     "text": [
      "Moviepy - Building video word/word5/word_11.mp4.\n",
      "Moviepy - Writing video word/word5/word_11.mp4\n",
      "\n"
     ]
    },
    {
     "name": "stderr",
     "output_type": "stream",
     "text": [
      "                                                                                                                       \r"
     ]
    },
    {
     "name": "stdout",
     "output_type": "stream",
     "text": [
      "Moviepy - Done !\n",
      "Moviepy - video ready word/word5/word_11.mp4\n"
     ]
    },
    {
     "name": "stderr",
     "output_type": "stream",
     "text": [
      "\r",
      "t:   0%|                                                                             | 0/120 [00:00<?, ?it/s, now=None]"
     ]
    },
    {
     "name": "stdout",
     "output_type": "stream",
     "text": [
      "Moviepy - Building video word/word5/word_12.mp4.\n",
      "Moviepy - Writing video word/word5/word_12.mp4\n",
      "\n"
     ]
    },
    {
     "name": "stderr",
     "output_type": "stream",
     "text": [
      "                                                                                                                       \r"
     ]
    },
    {
     "name": "stdout",
     "output_type": "stream",
     "text": [
      "Moviepy - Done !\n",
      "Moviepy - video ready word/word5/word_12.mp4\n",
      "Moviepy - Building video word/word5/word_13.mp4.\n",
      "Moviepy - Writing video word/word5/word_13.mp4\n",
      "\n"
     ]
    },
    {
     "name": "stderr",
     "output_type": "stream",
     "text": [
      "                                                                                                                       \r"
     ]
    },
    {
     "name": "stdout",
     "output_type": "stream",
     "text": [
      "Moviepy - Done !\n",
      "Moviepy - video ready word/word5/word_13.mp4\n"
     ]
    },
    {
     "name": "stderr",
     "output_type": "stream",
     "text": [
      "t:   3%|██▎                                                                   | 2/60 [00:00<00:03, 14.70it/s, now=None]"
     ]
    },
    {
     "name": "stdout",
     "output_type": "stream",
     "text": [
      "Moviepy - Building video word/word5/word_14.mp4.\n",
      "Moviepy - Writing video word/word5/word_14.mp4\n",
      "\n"
     ]
    },
    {
     "name": "stderr",
     "output_type": "stream",
     "text": [
      "                                                                                                                       \r"
     ]
    },
    {
     "name": "stdout",
     "output_type": "stream",
     "text": [
      "Moviepy - Done !\n",
      "Moviepy - video ready word/word5/word_14.mp4\n"
     ]
    },
    {
     "name": "stderr",
     "output_type": "stream",
     "text": [
      "\r",
      "t:   0%|                                                                             | 0/120 [00:00<?, ?it/s, now=None]"
     ]
    },
    {
     "name": "stdout",
     "output_type": "stream",
     "text": [
      "Moviepy - Building video word/word5/word_15.mp4.\n",
      "Moviepy - Writing video word/word5/word_15.mp4\n",
      "\n"
     ]
    },
    {
     "name": "stderr",
     "output_type": "stream",
     "text": [
      "                                                                                                                       \r"
     ]
    },
    {
     "name": "stdout",
     "output_type": "stream",
     "text": [
      "Moviepy - Done !\n",
      "Moviepy - video ready word/word5/word_15.mp4\n"
     ]
    },
    {
     "name": "stderr",
     "output_type": "stream",
     "text": [
      "t:   3%|██▎                                                                   | 2/60 [00:00<00:03, 16.04it/s, now=None]"
     ]
    },
    {
     "name": "stdout",
     "output_type": "stream",
     "text": [
      "Moviepy - Building video word/word5/word_16.mp4.\n",
      "Moviepy - Writing video word/word5/word_16.mp4\n",
      "\n"
     ]
    },
    {
     "name": "stderr",
     "output_type": "stream",
     "text": [
      "                                                                                                                       \r"
     ]
    },
    {
     "name": "stdout",
     "output_type": "stream",
     "text": [
      "Moviepy - Done !\n",
      "Moviepy - video ready word/word5/word_16.mp4\n",
      "['word/word5\\\\word_0.mp4', 'word/word5\\\\word_1.mp4', 'word/word5\\\\word_2.mp4', 'word/word5\\\\word_3.mp4', 'word/word5\\\\word_4.mp4', 'word/word5\\\\word_5.mp4', 'word/word5\\\\word_6.mp4', 'word/word5\\\\word_7.mp4', 'word/word5\\\\word_8.mp4', 'word/word5\\\\word_9.mp4', 'word/word5\\\\word_10.mp4', 'word/word5\\\\word_11.mp4', 'word/word5\\\\word_12.mp4', 'word/word5\\\\word_13.mp4', 'word/word5\\\\word_14.mp4', 'word/word5\\\\word_15.mp4', 'word/word5\\\\word_16.mp4']\n"
     ]
    },
    {
     "name": "stderr",
     "output_type": "stream",
     "text": [
      "\r",
      "t:   0%|                                                                             | 0/235 [00:00<?, ?it/s, now=None]"
     ]
    },
    {
     "name": "stdout",
     "output_type": "stream",
     "text": [
      "final:  34.0\n",
      "비율 :  8.7\n",
      "Moviepy - Building video sentence/sentence_5.mp4.\n",
      "Moviepy - Writing video sentence/sentence_5.mp4\n",
      "\n"
     ]
    },
    {
     "name": "stderr",
     "output_type": "stream",
     "text": [
      "                                                                                                                       \r"
     ]
    },
    {
     "name": "stdout",
     "output_type": "stream",
     "text": [
      "Moviepy - Done !\n",
      "Moviepy - video ready sentence/sentence_5.mp4\n"
     ]
    },
    {
     "name": "stderr",
     "output_type": "stream",
     "text": [
      "\r",
      "t:   0%|                                                                             | 0/120 [00:00<?, ?it/s, now=None]"
     ]
    },
    {
     "name": "stdout",
     "output_type": "stream",
     "text": [
      "Moviepy - Building video word/word6/word_0.mp4.\n",
      "Moviepy - Writing video word/word6/word_0.mp4\n",
      "\n"
     ]
    },
    {
     "name": "stderr",
     "output_type": "stream",
     "text": [
      "                                                                                                                       \r"
     ]
    },
    {
     "name": "stdout",
     "output_type": "stream",
     "text": [
      "Moviepy - Done !\n",
      "Moviepy - video ready word/word6/word_0.mp4\n"
     ]
    },
    {
     "name": "stderr",
     "output_type": "stream",
     "text": [
      "\r",
      "t:   0%|                                                                             | 0/120 [00:00<?, ?it/s, now=None]"
     ]
    },
    {
     "name": "stdout",
     "output_type": "stream",
     "text": [
      "Moviepy - Building video word/word6/word_1.mp4.\n",
      "Moviepy - Writing video word/word6/word_1.mp4\n",
      "\n"
     ]
    },
    {
     "name": "stderr",
     "output_type": "stream",
     "text": [
      "                                                                                                                       \r"
     ]
    },
    {
     "name": "stdout",
     "output_type": "stream",
     "text": [
      "Moviepy - Done !\n",
      "Moviepy - video ready word/word6/word_1.mp4\n"
     ]
    },
    {
     "name": "stderr",
     "output_type": "stream",
     "text": [
      "t:   2%|█▏                                                                   | 2/120 [00:00<00:08, 13.56it/s, now=None]"
     ]
    },
    {
     "name": "stdout",
     "output_type": "stream",
     "text": [
      "Moviepy - Building video word/word6/word_2.mp4.\n",
      "Moviepy - Writing video word/word6/word_2.mp4\n",
      "\n"
     ]
    },
    {
     "name": "stderr",
     "output_type": "stream",
     "text": [
      "                                                                                                                       \r"
     ]
    },
    {
     "name": "stdout",
     "output_type": "stream",
     "text": [
      "Moviepy - Done !\n",
      "Moviepy - video ready word/word6/word_2.mp4\n",
      "Moviepy - Building video word/word6/word_3.mp4.\n",
      "Moviepy - Writing video word/word6/word_3.mp4\n",
      "\n"
     ]
    },
    {
     "name": "stderr",
     "output_type": "stream",
     "text": [
      "                                                                                                                       \r"
     ]
    },
    {
     "name": "stdout",
     "output_type": "stream",
     "text": [
      "Moviepy - Done !\n",
      "Moviepy - video ready word/word6/word_3.mp4\n"
     ]
    },
    {
     "name": "stderr",
     "output_type": "stream",
     "text": [
      "t:   2%|█▏                                                                   | 2/120 [00:00<00:08, 13.51it/s, now=None]"
     ]
    },
    {
     "name": "stdout",
     "output_type": "stream",
     "text": [
      "Moviepy - Building video word/word6/word_4.mp4.\n",
      "Moviepy - Writing video word/word6/word_4.mp4\n",
      "\n"
     ]
    },
    {
     "name": "stderr",
     "output_type": "stream",
     "text": [
      "                                                                                                                       \r"
     ]
    },
    {
     "name": "stdout",
     "output_type": "stream",
     "text": [
      "Moviepy - Done !\n",
      "Moviepy - video ready word/word6/word_4.mp4\n"
     ]
    },
    {
     "name": "stderr",
     "output_type": "stream",
     "text": [
      "\r",
      "t:   0%|                                                                              | 0/60 [00:00<?, ?it/s, now=None]"
     ]
    },
    {
     "name": "stdout",
     "output_type": "stream",
     "text": [
      "Moviepy - Building video word/word6/word_5.mp4.\n",
      "Moviepy - Writing video word/word6/word_5.mp4\n",
      "\n"
     ]
    },
    {
     "name": "stderr",
     "output_type": "stream",
     "text": [
      "                                                                                                                       \r"
     ]
    },
    {
     "name": "stdout",
     "output_type": "stream",
     "text": [
      "Moviepy - Done !\n",
      "Moviepy - video ready word/word6/word_5.mp4\n"
     ]
    },
    {
     "name": "stderr",
     "output_type": "stream",
     "text": [
      "\r",
      "t:   0%|                                                                              | 0/60 [00:00<?, ?it/s, now=None]"
     ]
    },
    {
     "name": "stdout",
     "output_type": "stream",
     "text": [
      "Moviepy - Building video word/word6/word_6.mp4.\n",
      "Moviepy - Writing video word/word6/word_6.mp4\n",
      "\n"
     ]
    },
    {
     "name": "stderr",
     "output_type": "stream",
     "text": [
      "                                                                                                                       \r"
     ]
    },
    {
     "name": "stdout",
     "output_type": "stream",
     "text": [
      "Moviepy - Done !\n",
      "Moviepy - video ready word/word6/word_6.mp4\n"
     ]
    },
    {
     "name": "stderr",
     "output_type": "stream",
     "text": [
      "\r",
      "t:   0%|                                                                              | 0/60 [00:00<?, ?it/s, now=None]"
     ]
    },
    {
     "name": "stdout",
     "output_type": "stream",
     "text": [
      "Moviepy - Building video word/word6/word_7.mp4.\n",
      "Moviepy - Writing video word/word6/word_7.mp4\n",
      "\n"
     ]
    },
    {
     "name": "stderr",
     "output_type": "stream",
     "text": [
      "                                                                                                                       \r"
     ]
    },
    {
     "name": "stdout",
     "output_type": "stream",
     "text": [
      "Moviepy - Done !\n",
      "Moviepy - video ready word/word6/word_7.mp4\n",
      "['word/word6\\\\word_0.mp4', 'word/word6\\\\word_1.mp4', 'word/word6\\\\word_2.mp4', 'word/word6\\\\word_3.mp4', 'word/word6\\\\word_4.mp4', 'word/word6\\\\word_5.mp4', 'word/word6\\\\word_6.mp4', 'word/word6\\\\word_7.mp4']\n"
     ]
    },
    {
     "name": "stderr",
     "output_type": "stream",
     "text": [
      "t:   1%|▋                                                                    | 2/200 [00:00<00:14, 13.35it/s, now=None]"
     ]
    },
    {
     "name": "stdout",
     "output_type": "stream",
     "text": [
      "final:  16.0\n",
      "비율 :  4.8\n",
      "Moviepy - Building video sentence/sentence_6.mp4.\n",
      "Moviepy - Writing video sentence/sentence_6.mp4\n",
      "\n"
     ]
    },
    {
     "name": "stderr",
     "output_type": "stream",
     "text": [
      "                                                                                                                       \r"
     ]
    },
    {
     "name": "stdout",
     "output_type": "stream",
     "text": [
      "Moviepy - Done !\n",
      "Moviepy - video ready sentence/sentence_6.mp4\n"
     ]
    },
    {
     "name": "stderr",
     "output_type": "stream",
     "text": [
      "\r",
      "t:   0%|                                                                             | 0/120 [00:00<?, ?it/s, now=None]"
     ]
    },
    {
     "name": "stdout",
     "output_type": "stream",
     "text": [
      "Moviepy - Building video word/word7/word_0.mp4.\n",
      "Moviepy - Writing video word/word7/word_0.mp4\n",
      "\n"
     ]
    },
    {
     "name": "stderr",
     "output_type": "stream",
     "text": [
      "                                                                                                                       \r"
     ]
    },
    {
     "name": "stdout",
     "output_type": "stream",
     "text": [
      "Moviepy - Done !\n",
      "Moviepy - video ready word/word7/word_0.mp4\n"
     ]
    },
    {
     "name": "stderr",
     "output_type": "stream",
     "text": [
      "\r",
      "t:   0%|                                                                             | 0/120 [00:00<?, ?it/s, now=None]"
     ]
    },
    {
     "name": "stdout",
     "output_type": "stream",
     "text": [
      "Moviepy - Building video word/word7/word_1.mp4.\n",
      "Moviepy - Writing video word/word7/word_1.mp4\n",
      "\n"
     ]
    },
    {
     "name": "stderr",
     "output_type": "stream",
     "text": [
      "                                                                                                                       \r"
     ]
    },
    {
     "name": "stdout",
     "output_type": "stream",
     "text": [
      "Moviepy - Done !\n",
      "Moviepy - video ready word/word7/word_1.mp4\n"
     ]
    },
    {
     "name": "stderr",
     "output_type": "stream",
     "text": [
      "t:   2%|█▏                                                                   | 2/120 [00:00<00:09, 12.92it/s, now=None]"
     ]
    },
    {
     "name": "stdout",
     "output_type": "stream",
     "text": [
      "Moviepy - Building video word/word7/word_2.mp4.\n",
      "Moviepy - Writing video word/word7/word_2.mp4\n",
      "\n"
     ]
    },
    {
     "name": "stderr",
     "output_type": "stream",
     "text": [
      "                                                                                                                       \r"
     ]
    },
    {
     "name": "stdout",
     "output_type": "stream",
     "text": [
      "Moviepy - Done !\n",
      "Moviepy - video ready word/word7/word_2.mp4\n"
     ]
    },
    {
     "name": "stderr",
     "output_type": "stream",
     "text": [
      "t:   2%|█▏                                                                   | 2/120 [00:00<00:07, 15.57it/s, now=None]"
     ]
    },
    {
     "name": "stdout",
     "output_type": "stream",
     "text": [
      "Moviepy - Building video word/word7/word_3.mp4.\n",
      "Moviepy - Writing video word/word7/word_3.mp4\n",
      "\n"
     ]
    },
    {
     "name": "stderr",
     "output_type": "stream",
     "text": [
      "                                                                                                                       \r"
     ]
    },
    {
     "name": "stdout",
     "output_type": "stream",
     "text": [
      "Moviepy - Done !\n",
      "Moviepy - video ready word/word7/word_3.mp4\n"
     ]
    },
    {
     "name": "stderr",
     "output_type": "stream",
     "text": [
      "t:   3%|██▎                                                                   | 2/60 [00:00<00:04, 14.06it/s, now=None]"
     ]
    },
    {
     "name": "stdout",
     "output_type": "stream",
     "text": [
      "Moviepy - Building video word/word7/word_4.mp4.\n",
      "Moviepy - Writing video word/word7/word_4.mp4\n",
      "\n"
     ]
    },
    {
     "name": "stderr",
     "output_type": "stream",
     "text": [
      "                                                                                                                       \r"
     ]
    },
    {
     "name": "stdout",
     "output_type": "stream",
     "text": [
      "Moviepy - Done !\n",
      "Moviepy - video ready word/word7/word_4.mp4\n"
     ]
    },
    {
     "name": "stderr",
     "output_type": "stream",
     "text": [
      "t:   2%|█▏                                                                   | 2/120 [00:00<00:07, 15.31it/s, now=None]"
     ]
    },
    {
     "name": "stdout",
     "output_type": "stream",
     "text": [
      "Moviepy - Building video word/word7/word_5.mp4.\n",
      "Moviepy - Writing video word/word7/word_5.mp4\n",
      "\n"
     ]
    },
    {
     "name": "stderr",
     "output_type": "stream",
     "text": [
      "                                                                                                                       \r"
     ]
    },
    {
     "name": "stdout",
     "output_type": "stream",
     "text": [
      "Moviepy - Done !\n",
      "Moviepy - video ready word/word7/word_5.mp4\n"
     ]
    },
    {
     "name": "stderr",
     "output_type": "stream",
     "text": [
      "\r",
      "t:   0%|                                                                             | 0/120 [00:00<?, ?it/s, now=None]"
     ]
    },
    {
     "name": "stdout",
     "output_type": "stream",
     "text": [
      "Moviepy - Building video word/word7/word_6.mp4.\n",
      "Moviepy - Writing video word/word7/word_6.mp4\n",
      "\n"
     ]
    },
    {
     "name": "stderr",
     "output_type": "stream",
     "text": [
      "                                                                                                                       \r"
     ]
    },
    {
     "name": "stdout",
     "output_type": "stream",
     "text": [
      "Moviepy - Done !\n",
      "Moviepy - video ready word/word7/word_6.mp4\n"
     ]
    },
    {
     "name": "stderr",
     "output_type": "stream",
     "text": [
      "\r",
      "t:   0%|                                                                             | 0/120 [00:00<?, ?it/s, now=None]"
     ]
    },
    {
     "name": "stdout",
     "output_type": "stream",
     "text": [
      "Moviepy - Building video word/word7/word_7.mp4.\n",
      "Moviepy - Writing video word/word7/word_7.mp4\n",
      "\n"
     ]
    },
    {
     "name": "stderr",
     "output_type": "stream",
     "text": [
      "                                                                                                                       \r"
     ]
    },
    {
     "name": "stdout",
     "output_type": "stream",
     "text": [
      "Moviepy - Done !\n",
      "Moviepy - video ready word/word7/word_7.mp4\n"
     ]
    },
    {
     "name": "stderr",
     "output_type": "stream",
     "text": [
      "\r",
      "t:   0%|                                                                              | 0/60 [00:00<?, ?it/s, now=None]"
     ]
    },
    {
     "name": "stdout",
     "output_type": "stream",
     "text": [
      "Moviepy - Building video word/word7/word_8.mp4.\n",
      "Moviepy - Writing video word/word7/word_8.mp4\n",
      "\n"
     ]
    },
    {
     "name": "stderr",
     "output_type": "stream",
     "text": [
      "                                                                                                                       \r"
     ]
    },
    {
     "name": "stdout",
     "output_type": "stream",
     "text": [
      "Moviepy - Done !\n",
      "Moviepy - video ready word/word7/word_8.mp4\n",
      "['word/word7\\\\word_0.mp4', 'word/word7\\\\word_1.mp4', 'word/word7\\\\word_2.mp4', 'word/word7\\\\word_3.mp4', 'word/word7\\\\word_4.mp4', 'word/word7\\\\word_5.mp4', 'word/word7\\\\word_6.mp4', 'word/word7\\\\word_7.mp4', 'word/word7\\\\word_8.mp4']\n"
     ]
    },
    {
     "name": "stderr",
     "output_type": "stream",
     "text": [
      "\r",
      "t:   0%|                                                                             | 0/216 [00:00<?, ?it/s, now=None]"
     ]
    },
    {
     "name": "stdout",
     "output_type": "stream",
     "text": [
      "final:  18.0\n",
      "비율 :  5.0\n",
      "Moviepy - Building video sentence/sentence_7.mp4.\n",
      "Moviepy - Writing video sentence/sentence_7.mp4\n",
      "\n"
     ]
    },
    {
     "name": "stderr",
     "output_type": "stream",
     "text": [
      "                                                                                                                       \r"
     ]
    },
    {
     "name": "stdout",
     "output_type": "stream",
     "text": [
      "Moviepy - Done !\n",
      "Moviepy - video ready sentence/sentence_7.mp4\n"
     ]
    },
    {
     "name": "stderr",
     "output_type": "stream",
     "text": [
      "t:   3%|██▎                                                                   | 2/60 [00:00<00:04, 14.32it/s, now=None]"
     ]
    },
    {
     "name": "stdout",
     "output_type": "stream",
     "text": [
      "Moviepy - Building video word/word8/word_0.mp4.\n",
      "Moviepy - Writing video word/word8/word_0.mp4\n",
      "\n"
     ]
    },
    {
     "name": "stderr",
     "output_type": "stream",
     "text": [
      "                                                                                                                       \r"
     ]
    },
    {
     "name": "stdout",
     "output_type": "stream",
     "text": [
      "Moviepy - Done !\n",
      "Moviepy - video ready word/word8/word_0.mp4\n"
     ]
    },
    {
     "name": "stderr",
     "output_type": "stream",
     "text": [
      "t:   3%|██▎                                                                   | 2/60 [00:00<00:04, 11.97it/s, now=None]"
     ]
    },
    {
     "name": "stdout",
     "output_type": "stream",
     "text": [
      "Moviepy - Building video word/word8/word_1.mp4.\n",
      "Moviepy - Writing video word/word8/word_1.mp4\n",
      "\n"
     ]
    },
    {
     "name": "stderr",
     "output_type": "stream",
     "text": [
      "                                                                                                                       \r"
     ]
    },
    {
     "name": "stdout",
     "output_type": "stream",
     "text": [
      "Moviepy - Done !\n",
      "Moviepy - video ready word/word8/word_1.mp4\n"
     ]
    },
    {
     "name": "stderr",
     "output_type": "stream",
     "text": [
      "t:   3%|██▎                                                                   | 2/60 [00:00<00:03, 14.95it/s, now=None]"
     ]
    },
    {
     "name": "stdout",
     "output_type": "stream",
     "text": [
      "Moviepy - Building video word/word8/word_2.mp4.\n",
      "Moviepy - Writing video word/word8/word_2.mp4\n",
      "\n"
     ]
    },
    {
     "name": "stderr",
     "output_type": "stream",
     "text": [
      "                                                                                                                       \r"
     ]
    },
    {
     "name": "stdout",
     "output_type": "stream",
     "text": [
      "Moviepy - Done !\n",
      "Moviepy - video ready word/word8/word_2.mp4\n"
     ]
    },
    {
     "name": "stderr",
     "output_type": "stream",
     "text": [
      "\r",
      "t:   0%|                                                                              | 0/60 [00:00<?, ?it/s, now=None]"
     ]
    },
    {
     "name": "stdout",
     "output_type": "stream",
     "text": [
      "Moviepy - Building video word/word8/word_3.mp4.\n",
      "Moviepy - Writing video word/word8/word_3.mp4\n",
      "\n"
     ]
    },
    {
     "name": "stderr",
     "output_type": "stream",
     "text": [
      "                                                                                                                       \r"
     ]
    },
    {
     "name": "stdout",
     "output_type": "stream",
     "text": [
      "Moviepy - Done !\n",
      "Moviepy - video ready word/word8/word_3.mp4\n"
     ]
    },
    {
     "name": "stderr",
     "output_type": "stream",
     "text": [
      "\r",
      "t:   0%|                                                                             | 0/120 [00:00<?, ?it/s, now=None]"
     ]
    },
    {
     "name": "stdout",
     "output_type": "stream",
     "text": [
      "Moviepy - Building video word/word8/word_4.mp4.\n",
      "Moviepy - Writing video word/word8/word_4.mp4\n",
      "\n"
     ]
    },
    {
     "name": "stderr",
     "output_type": "stream",
     "text": [
      "                                                                                                                       \r"
     ]
    },
    {
     "name": "stdout",
     "output_type": "stream",
     "text": [
      "Moviepy - Done !\n",
      "Moviepy - video ready word/word8/word_4.mp4\n"
     ]
    },
    {
     "name": "stderr",
     "output_type": "stream",
     "text": [
      "t:   3%|██▎                                                                   | 2/60 [00:00<00:04, 13.96it/s, now=None]"
     ]
    },
    {
     "name": "stdout",
     "output_type": "stream",
     "text": [
      "Moviepy - Building video word/word8/word_5.mp4.\n",
      "Moviepy - Writing video word/word8/word_5.mp4\n",
      "\n"
     ]
    },
    {
     "name": "stderr",
     "output_type": "stream",
     "text": [
      "                                                                                                                       \r"
     ]
    },
    {
     "name": "stdout",
     "output_type": "stream",
     "text": [
      "Moviepy - Done !\n",
      "Moviepy - video ready word/word8/word_5.mp4\n"
     ]
    },
    {
     "name": "stderr",
     "output_type": "stream",
     "text": [
      "t:   3%|██▎                                                                   | 2/60 [00:00<00:04, 13.06it/s, now=None]"
     ]
    },
    {
     "name": "stdout",
     "output_type": "stream",
     "text": [
      "Moviepy - Building video word/word8/word_6.mp4.\n",
      "Moviepy - Writing video word/word8/word_6.mp4\n",
      "\n"
     ]
    },
    {
     "name": "stderr",
     "output_type": "stream",
     "text": [
      "                                                                                                                       \r"
     ]
    },
    {
     "name": "stdout",
     "output_type": "stream",
     "text": [
      "Moviepy - Done !\n",
      "Moviepy - video ready word/word8/word_6.mp4\n"
     ]
    },
    {
     "name": "stderr",
     "output_type": "stream",
     "text": [
      "\r",
      "t:   0%|                                                                              | 0/60 [00:00<?, ?it/s, now=None]"
     ]
    },
    {
     "name": "stdout",
     "output_type": "stream",
     "text": [
      "Moviepy - Building video word/word8/word_7.mp4.\n",
      "Moviepy - Writing video word/word8/word_7.mp4\n",
      "\n"
     ]
    },
    {
     "name": "stderr",
     "output_type": "stream",
     "text": [
      "                                                                                                                       \r"
     ]
    },
    {
     "name": "stdout",
     "output_type": "stream",
     "text": [
      "Moviepy - Done !\n",
      "Moviepy - video ready word/word8/word_7.mp4\n",
      "['word/word8\\\\word_0.mp4', 'word/word8\\\\word_1.mp4', 'word/word8\\\\word_2.mp4', 'word/word8\\\\word_3.mp4', 'word/word8\\\\word_4.mp4', 'word/word8\\\\word_5.mp4', 'word/word8\\\\word_6.mp4', 'word/word8\\\\word_7.mp4']\n"
     ]
    },
    {
     "name": "stderr",
     "output_type": "stream",
     "text": [
      "t:   1%|▉                                                                    | 2/144 [00:00<00:08, 16.14it/s, now=None]"
     ]
    },
    {
     "name": "stdout",
     "output_type": "stream",
     "text": [
      "final:  16.0\n",
      "비율 :  6.7\n",
      "Moviepy - Building video sentence/sentence_8.mp4.\n",
      "Moviepy - Writing video sentence/sentence_8.mp4\n",
      "\n"
     ]
    },
    {
     "name": "stderr",
     "output_type": "stream",
     "text": [
      "                                                                                                                       \r"
     ]
    },
    {
     "name": "stdout",
     "output_type": "stream",
     "text": [
      "Moviepy - Done !\n",
      "Moviepy - video ready sentence/sentence_8.mp4\n"
     ]
    },
    {
     "name": "stderr",
     "output_type": "stream",
     "text": [
      "t:   3%|██▎                                                                   | 2/60 [00:00<00:04, 13.04it/s, now=None]"
     ]
    },
    {
     "name": "stdout",
     "output_type": "stream",
     "text": [
      "Moviepy - Building video word/word9/word_0.mp4.\n",
      "Moviepy - Writing video word/word9/word_0.mp4\n",
      "\n"
     ]
    },
    {
     "name": "stderr",
     "output_type": "stream",
     "text": [
      "                                                                                                                       \r"
     ]
    },
    {
     "name": "stdout",
     "output_type": "stream",
     "text": [
      "Moviepy - Done !\n",
      "Moviepy - video ready word/word9/word_0.mp4\n"
     ]
    },
    {
     "name": "stderr",
     "output_type": "stream",
     "text": [
      "t:   2%|█▏                                                                   | 2/120 [00:00<00:07, 15.05it/s, now=None]"
     ]
    },
    {
     "name": "stdout",
     "output_type": "stream",
     "text": [
      "Moviepy - Building video word/word9/word_1.mp4.\n",
      "Moviepy - Writing video word/word9/word_1.mp4\n",
      "\n"
     ]
    },
    {
     "name": "stderr",
     "output_type": "stream",
     "text": [
      "                                                                                                                       \r"
     ]
    },
    {
     "name": "stdout",
     "output_type": "stream",
     "text": [
      "Moviepy - Done !\n",
      "Moviepy - video ready word/word9/word_1.mp4\n"
     ]
    },
    {
     "name": "stderr",
     "output_type": "stream",
     "text": [
      "\r",
      "t:   0%|                                                                              | 0/60 [00:00<?, ?it/s, now=None]"
     ]
    },
    {
     "name": "stdout",
     "output_type": "stream",
     "text": [
      "Moviepy - Building video word/word9/word_2.mp4.\n",
      "Moviepy - Writing video word/word9/word_2.mp4\n",
      "\n"
     ]
    },
    {
     "name": "stderr",
     "output_type": "stream",
     "text": [
      "                                                                                                                       \r"
     ]
    },
    {
     "name": "stdout",
     "output_type": "stream",
     "text": [
      "Moviepy - Done !\n",
      "Moviepy - video ready word/word9/word_2.mp4\n"
     ]
    },
    {
     "name": "stderr",
     "output_type": "stream",
     "text": [
      "t:   3%|██▎                                                                   | 2/60 [00:00<00:04, 14.48it/s, now=None]"
     ]
    },
    {
     "name": "stdout",
     "output_type": "stream",
     "text": [
      "Moviepy - Building video word/word9/word_3.mp4.\n",
      "Moviepy - Writing video word/word9/word_3.mp4\n",
      "\n"
     ]
    },
    {
     "name": "stderr",
     "output_type": "stream",
     "text": [
      "                                                                                                                       \r"
     ]
    },
    {
     "name": "stdout",
     "output_type": "stream",
     "text": [
      "Moviepy - Done !\n",
      "Moviepy - video ready word/word9/word_3.mp4\n",
      "['word/word9\\\\word_0.mp4', 'word/word9\\\\word_1.mp4', 'word/word9\\\\word_2.mp4', 'word/word9\\\\word_3.mp4']\n"
     ]
    },
    {
     "name": "stderr",
     "output_type": "stream",
     "text": [
      "\r",
      "t:   0%|                                                                             | 0/178 [00:00<?, ?it/s, now=None]"
     ]
    },
    {
     "name": "stdout",
     "output_type": "stream",
     "text": [
      "final:  8.0\n",
      "비율 :  2.7\n",
      "Moviepy - Building video sentence/sentence_9.mp4.\n",
      "Moviepy - Writing video sentence/sentence_9.mp4\n",
      "\n"
     ]
    },
    {
     "name": "stderr",
     "output_type": "stream",
     "text": [
      "                                                                                                                       \r"
     ]
    },
    {
     "name": "stdout",
     "output_type": "stream",
     "text": [
      "Moviepy - Done !\n",
      "Moviepy - video ready sentence/sentence_9.mp4\n"
     ]
    },
    {
     "name": "stderr",
     "output_type": "stream",
     "text": [
      "t:   3%|██▎                                                                   | 2/60 [00:00<00:03, 15.51it/s, now=None]"
     ]
    },
    {
     "name": "stdout",
     "output_type": "stream",
     "text": [
      "Moviepy - Building video word/word10/word_0.mp4.\n",
      "Moviepy - Writing video word/word10/word_0.mp4\n",
      "\n"
     ]
    },
    {
     "name": "stderr",
     "output_type": "stream",
     "text": [
      "                                                                                                                       \r"
     ]
    },
    {
     "name": "stdout",
     "output_type": "stream",
     "text": [
      "Moviepy - Done !\n",
      "Moviepy - video ready word/word10/word_0.mp4\n"
     ]
    },
    {
     "name": "stderr",
     "output_type": "stream",
     "text": [
      "\r",
      "t:   0%|                                                                             | 0/120 [00:00<?, ?it/s, now=None]"
     ]
    },
    {
     "name": "stdout",
     "output_type": "stream",
     "text": [
      "Moviepy - Building video word/word10/word_1.mp4.\n",
      "Moviepy - Writing video word/word10/word_1.mp4\n",
      "\n"
     ]
    },
    {
     "name": "stderr",
     "output_type": "stream",
     "text": [
      "                                                                                                                       \r"
     ]
    },
    {
     "name": "stdout",
     "output_type": "stream",
     "text": [
      "Moviepy - Done !\n",
      "Moviepy - video ready word/word10/word_1.mp4\n"
     ]
    },
    {
     "name": "stderr",
     "output_type": "stream",
     "text": [
      "t:   3%|██▎                                                                   | 2/60 [00:00<00:05, 11.40it/s, now=None]"
     ]
    },
    {
     "name": "stdout",
     "output_type": "stream",
     "text": [
      "Moviepy - Building video word/word10/word_2.mp4.\n",
      "Moviepy - Writing video word/word10/word_2.mp4\n",
      "\n"
     ]
    },
    {
     "name": "stderr",
     "output_type": "stream",
     "text": [
      "                                                                                                                       \r"
     ]
    },
    {
     "name": "stdout",
     "output_type": "stream",
     "text": [
      "Moviepy - Done !\n",
      "Moviepy - video ready word/word10/word_2.mp4\n"
     ]
    },
    {
     "name": "stderr",
     "output_type": "stream",
     "text": [
      "t:   3%|██▎                                                                   | 2/60 [00:00<00:04, 13.10it/s, now=None]"
     ]
    },
    {
     "name": "stdout",
     "output_type": "stream",
     "text": [
      "Moviepy - Building video word/word10/word_3.mp4.\n",
      "Moviepy - Writing video word/word10/word_3.mp4\n",
      "\n"
     ]
    },
    {
     "name": "stderr",
     "output_type": "stream",
     "text": [
      "                                                                                                                       \r"
     ]
    },
    {
     "name": "stdout",
     "output_type": "stream",
     "text": [
      "Moviepy - Done !\n",
      "Moviepy - video ready word/word10/word_3.mp4\n"
     ]
    },
    {
     "name": "stderr",
     "output_type": "stream",
     "text": [
      "t:   3%|██▎                                                                   | 2/60 [00:00<00:03, 17.93it/s, now=None]"
     ]
    },
    {
     "name": "stdout",
     "output_type": "stream",
     "text": [
      "Moviepy - Building video word/word10/word_4.mp4.\n",
      "Moviepy - Writing video word/word10/word_4.mp4\n",
      "\n"
     ]
    },
    {
     "name": "stderr",
     "output_type": "stream",
     "text": [
      "                                                                                                                       \r"
     ]
    },
    {
     "name": "stdout",
     "output_type": "stream",
     "text": [
      "Moviepy - Done !\n",
      "Moviepy - video ready word/word10/word_4.mp4\n"
     ]
    },
    {
     "name": "stderr",
     "output_type": "stream",
     "text": [
      "t:   3%|██▎                                                                   | 2/60 [00:00<00:04, 13.89it/s, now=None]"
     ]
    },
    {
     "name": "stdout",
     "output_type": "stream",
     "text": [
      "Moviepy - Building video word/word10/word_5.mp4.\n",
      "Moviepy - Writing video word/word10/word_5.mp4\n",
      "\n"
     ]
    },
    {
     "name": "stderr",
     "output_type": "stream",
     "text": [
      "                                                                                                                       \r"
     ]
    },
    {
     "name": "stdout",
     "output_type": "stream",
     "text": [
      "Moviepy - Done !\n",
      "Moviepy - video ready word/word10/word_5.mp4\n"
     ]
    },
    {
     "name": "stderr",
     "output_type": "stream",
     "text": [
      "t:   3%|██▎                                                                   | 2/60 [00:00<00:04, 14.09it/s, now=None]"
     ]
    },
    {
     "name": "stdout",
     "output_type": "stream",
     "text": [
      "Moviepy - Building video word/word10/word_6.mp4.\n",
      "Moviepy - Writing video word/word10/word_6.mp4\n",
      "\n"
     ]
    },
    {
     "name": "stderr",
     "output_type": "stream",
     "text": [
      "                                                                                                                       \r"
     ]
    },
    {
     "name": "stdout",
     "output_type": "stream",
     "text": [
      "Moviepy - Done !\n",
      "Moviepy - video ready word/word10/word_6.mp4\n"
     ]
    },
    {
     "name": "stderr",
     "output_type": "stream",
     "text": [
      "t:   3%|██▎                                                                   | 2/60 [00:00<00:04, 13.63it/s, now=None]"
     ]
    },
    {
     "name": "stdout",
     "output_type": "stream",
     "text": [
      "Moviepy - Building video word/word10/word_7.mp4.\n",
      "Moviepy - Writing video word/word10/word_7.mp4\n",
      "\n"
     ]
    },
    {
     "name": "stderr",
     "output_type": "stream",
     "text": [
      "                                                                                                                       \r"
     ]
    },
    {
     "name": "stdout",
     "output_type": "stream",
     "text": [
      "Moviepy - Done !\n",
      "Moviepy - video ready word/word10/word_7.mp4\n"
     ]
    },
    {
     "name": "stderr",
     "output_type": "stream",
     "text": [
      "t:   3%|██▎                                                                   | 2/60 [00:00<00:04, 12.58it/s, now=None]"
     ]
    },
    {
     "name": "stdout",
     "output_type": "stream",
     "text": [
      "Moviepy - Building video word/word10/word_8.mp4.\n",
      "Moviepy - Writing video word/word10/word_8.mp4\n",
      "\n"
     ]
    },
    {
     "name": "stderr",
     "output_type": "stream",
     "text": [
      "                                                                                                                       \r"
     ]
    },
    {
     "name": "stdout",
     "output_type": "stream",
     "text": [
      "Moviepy - Done !\n",
      "Moviepy - video ready word/word10/word_8.mp4\n",
      "['word/word10\\\\word_0.mp4', 'word/word10\\\\word_1.mp4', 'word/word10\\\\word_2.mp4', 'word/word10\\\\word_3.mp4', 'word/word10\\\\word_4.mp4', 'word/word10\\\\word_5.mp4', 'word/word10\\\\word_6.mp4', 'word/word10\\\\word_7.mp4', 'word/word10\\\\word_8.mp4']\n"
     ]
    },
    {
     "name": "stderr",
     "output_type": "stream",
     "text": [
      "t:   1%|▌                                                                    | 2/235 [00:00<00:16, 14.02it/s, now=None]"
     ]
    },
    {
     "name": "stdout",
     "output_type": "stream",
     "text": [
      "final:  18.0\n",
      "비율 :  4.6\n",
      "Moviepy - Building video sentence/sentence_10.mp4.\n",
      "Moviepy - Writing video sentence/sentence_10.mp4\n",
      "\n"
     ]
    },
    {
     "name": "stderr",
     "output_type": "stream",
     "text": [
      "                                                                                                                       \r"
     ]
    },
    {
     "name": "stdout",
     "output_type": "stream",
     "text": [
      "Moviepy - Done !\n",
      "Moviepy - video ready sentence/sentence_10.mp4\n"
     ]
    },
    {
     "name": "stderr",
     "output_type": "stream",
     "text": [
      "t:   2%|█▏                                                                   | 2/120 [00:00<00:09, 13.11it/s, now=None]"
     ]
    },
    {
     "name": "stdout",
     "output_type": "stream",
     "text": [
      "Moviepy - Building video word/word11/word_0.mp4.\n",
      "Moviepy - Writing video word/word11/word_0.mp4\n",
      "\n"
     ]
    },
    {
     "name": "stderr",
     "output_type": "stream",
     "text": [
      "                                                                                                                       \r"
     ]
    },
    {
     "name": "stdout",
     "output_type": "stream",
     "text": [
      "Moviepy - Done !\n",
      "Moviepy - video ready word/word11/word_0.mp4\n"
     ]
    },
    {
     "name": "stderr",
     "output_type": "stream",
     "text": [
      "t:   2%|█▏                                                                   | 2/120 [00:00<00:08, 13.33it/s, now=None]"
     ]
    },
    {
     "name": "stdout",
     "output_type": "stream",
     "text": [
      "Moviepy - Building video word/word11/word_1.mp4.\n",
      "Moviepy - Writing video word/word11/word_1.mp4\n",
      "\n"
     ]
    },
    {
     "name": "stderr",
     "output_type": "stream",
     "text": [
      "                                                                                                                       \r"
     ]
    },
    {
     "name": "stdout",
     "output_type": "stream",
     "text": [
      "Moviepy - Done !\n",
      "Moviepy - video ready word/word11/word_1.mp4\n"
     ]
    },
    {
     "name": "stderr",
     "output_type": "stream",
     "text": [
      "\r",
      "t:   0%|                                                                             | 0/120 [00:00<?, ?it/s, now=None]"
     ]
    },
    {
     "name": "stdout",
     "output_type": "stream",
     "text": [
      "Moviepy - Building video word/word11/word_2.mp4.\n",
      "Moviepy - Writing video word/word11/word_2.mp4\n",
      "\n"
     ]
    },
    {
     "name": "stderr",
     "output_type": "stream",
     "text": [
      "                                                                                                                       \r"
     ]
    },
    {
     "name": "stdout",
     "output_type": "stream",
     "text": [
      "Moviepy - Done !\n",
      "Moviepy - video ready word/word11/word_2.mp4\n",
      "Moviepy - Building video word/word11/word_3.mp4.\n",
      "Moviepy - Writing video word/word11/word_3.mp4\n",
      "\n"
     ]
    },
    {
     "name": "stderr",
     "output_type": "stream",
     "text": [
      "                                                                                                                       \r"
     ]
    },
    {
     "name": "stdout",
     "output_type": "stream",
     "text": [
      "Moviepy - Done !\n",
      "Moviepy - video ready word/word11/word_3.mp4\n",
      "['word/word11\\\\word_0.mp4', 'word/word11\\\\word_1.mp4', 'word/word11\\\\word_2.mp4', 'word/word11\\\\word_3.mp4']\n"
     ]
    },
    {
     "name": "stderr",
     "output_type": "stream",
     "text": [
      "t:   2%|█▎                                                                   | 2/109 [00:00<00:06, 15.83it/s, now=None]"
     ]
    },
    {
     "name": "stdout",
     "output_type": "stream",
     "text": [
      "final:  8.0\n",
      "비율 :  4.4\n",
      "Moviepy - Building video sentence/sentence_11.mp4.\n",
      "Moviepy - Writing video sentence/sentence_11.mp4\n",
      "\n"
     ]
    },
    {
     "name": "stderr",
     "output_type": "stream",
     "text": [
      "                                                                                                                       \r"
     ]
    },
    {
     "name": "stdout",
     "output_type": "stream",
     "text": [
      "Moviepy - Done !\n",
      "Moviepy - video ready sentence/sentence_11.mp4\n"
     ]
    },
    {
     "name": "stderr",
     "output_type": "stream",
     "text": [
      "t:   3%|██▎                                                                   | 2/60 [00:00<00:04, 14.10it/s, now=None]"
     ]
    },
    {
     "name": "stdout",
     "output_type": "stream",
     "text": [
      "Moviepy - Building video word/word12/word_0.mp4.\n",
      "Moviepy - Writing video word/word12/word_0.mp4\n",
      "\n"
     ]
    },
    {
     "name": "stderr",
     "output_type": "stream",
     "text": [
      "                                                                                                                       \r"
     ]
    },
    {
     "name": "stdout",
     "output_type": "stream",
     "text": [
      "Moviepy - Done !\n",
      "Moviepy - video ready word/word12/word_0.mp4\n"
     ]
    },
    {
     "name": "stderr",
     "output_type": "stream",
     "text": [
      "t:   2%|█▏                                                                   | 2/120 [00:00<00:09, 12.06it/s, now=None]"
     ]
    },
    {
     "name": "stdout",
     "output_type": "stream",
     "text": [
      "Moviepy - Building video word/word12/word_1.mp4.\n",
      "Moviepy - Writing video word/word12/word_1.mp4\n",
      "\n"
     ]
    },
    {
     "name": "stderr",
     "output_type": "stream",
     "text": [
      "                                                                                                                       \r"
     ]
    },
    {
     "name": "stdout",
     "output_type": "stream",
     "text": [
      "Moviepy - Done !\n",
      "Moviepy - video ready word/word12/word_1.mp4\n"
     ]
    },
    {
     "name": "stderr",
     "output_type": "stream",
     "text": [
      "t:   2%|█▏                                                                   | 2/120 [00:00<00:08, 14.56it/s, now=None]"
     ]
    },
    {
     "name": "stdout",
     "output_type": "stream",
     "text": [
      "Moviepy - Building video word/word12/word_2.mp4.\n",
      "Moviepy - Writing video word/word12/word_2.mp4\n",
      "\n"
     ]
    },
    {
     "name": "stderr",
     "output_type": "stream",
     "text": [
      "                                                                                                                       \r"
     ]
    },
    {
     "name": "stdout",
     "output_type": "stream",
     "text": [
      "Moviepy - Done !\n",
      "Moviepy - video ready word/word12/word_2.mp4\n"
     ]
    },
    {
     "name": "stderr",
     "output_type": "stream",
     "text": [
      "\r",
      "t:   0%|                                                                              | 0/60 [00:00<?, ?it/s, now=None]"
     ]
    },
    {
     "name": "stdout",
     "output_type": "stream",
     "text": [
      "Moviepy - Building video word/word12/word_3.mp4.\n",
      "Moviepy - Writing video word/word12/word_3.mp4\n",
      "\n"
     ]
    },
    {
     "name": "stderr",
     "output_type": "stream",
     "text": [
      "                                                                                                                       \r"
     ]
    },
    {
     "name": "stdout",
     "output_type": "stream",
     "text": [
      "Moviepy - Done !\n",
      "Moviepy - video ready word/word12/word_3.mp4\n"
     ]
    },
    {
     "name": "stderr",
     "output_type": "stream",
     "text": [
      "t:   3%|██▎                                                                   | 2/60 [00:00<00:03, 14.75it/s, now=None]"
     ]
    },
    {
     "name": "stdout",
     "output_type": "stream",
     "text": [
      "Moviepy - Building video word/word12/word_4.mp4.\n",
      "Moviepy - Writing video word/word12/word_4.mp4\n",
      "\n"
     ]
    },
    {
     "name": "stderr",
     "output_type": "stream",
     "text": [
      "                                                                                                                       \r"
     ]
    },
    {
     "name": "stdout",
     "output_type": "stream",
     "text": [
      "Moviepy - Done !\n",
      "Moviepy - video ready word/word12/word_4.mp4\n",
      "['word/word12\\\\word_0.mp4', 'word/word12\\\\word_1.mp4', 'word/word12\\\\word_2.mp4', 'word/word12\\\\word_3.mp4', 'word/word12\\\\word_4.mp4']\n"
     ]
    },
    {
     "name": "stderr",
     "output_type": "stream",
     "text": [
      "\r",
      "t:   0%|                                                                             | 0/143 [00:00<?, ?it/s, now=None]"
     ]
    },
    {
     "name": "stdout",
     "output_type": "stream",
     "text": [
      "final:  10.0\n",
      "비율 :  4.2\n",
      "Moviepy - Building video sentence/sentence_12.mp4.\n",
      "Moviepy - Writing video sentence/sentence_12.mp4\n",
      "\n"
     ]
    },
    {
     "name": "stderr",
     "output_type": "stream",
     "text": [
      "                                                                                                                       \r"
     ]
    },
    {
     "name": "stdout",
     "output_type": "stream",
     "text": [
      "Moviepy - Done !\n",
      "Moviepy - video ready sentence/sentence_12.mp4\n"
     ]
    },
    {
     "name": "stderr",
     "output_type": "stream",
     "text": [
      "t:   3%|██▎                                                                   | 2/60 [00:00<00:04, 13.17it/s, now=None]"
     ]
    },
    {
     "name": "stdout",
     "output_type": "stream",
     "text": [
      "Moviepy - Building video word/word13/word_0.mp4.\n",
      "Moviepy - Writing video word/word13/word_0.mp4\n",
      "\n"
     ]
    },
    {
     "name": "stderr",
     "output_type": "stream",
     "text": [
      "                                                                                                                       \r"
     ]
    },
    {
     "name": "stdout",
     "output_type": "stream",
     "text": [
      "Moviepy - Done !\n",
      "Moviepy - video ready word/word13/word_0.mp4\n"
     ]
    },
    {
     "name": "stderr",
     "output_type": "stream",
     "text": [
      "t:   2%|█▏                                                                   | 2/120 [00:00<00:08, 13.53it/s, now=None]"
     ]
    },
    {
     "name": "stdout",
     "output_type": "stream",
     "text": [
      "Moviepy - Building video word/word13/word_1.mp4.\n",
      "Moviepy - Writing video word/word13/word_1.mp4\n",
      "\n"
     ]
    },
    {
     "name": "stderr",
     "output_type": "stream",
     "text": [
      "                                                                                                                       \r"
     ]
    },
    {
     "name": "stdout",
     "output_type": "stream",
     "text": [
      "Moviepy - Done !\n",
      "Moviepy - video ready word/word13/word_1.mp4\n"
     ]
    },
    {
     "name": "stderr",
     "output_type": "stream",
     "text": [
      "\r",
      "t:   0%|                                                                              | 0/60 [00:00<?, ?it/s, now=None]"
     ]
    },
    {
     "name": "stdout",
     "output_type": "stream",
     "text": [
      "Moviepy - Building video word/word13/word_2.mp4.\n",
      "Moviepy - Writing video word/word13/word_2.mp4\n",
      "\n"
     ]
    },
    {
     "name": "stderr",
     "output_type": "stream",
     "text": [
      "                                                                                                                       \r"
     ]
    },
    {
     "name": "stdout",
     "output_type": "stream",
     "text": [
      "Moviepy - Done !\n",
      "Moviepy - video ready word/word13/word_2.mp4\n"
     ]
    },
    {
     "name": "stderr",
     "output_type": "stream",
     "text": [
      "\r",
      "t:   0%|                                                                              | 0/60 [00:00<?, ?it/s, now=None]"
     ]
    },
    {
     "name": "stdout",
     "output_type": "stream",
     "text": [
      "Moviepy - Building video word/word13/word_3.mp4.\n",
      "Moviepy - Writing video word/word13/word_3.mp4\n",
      "\n"
     ]
    },
    {
     "name": "stderr",
     "output_type": "stream",
     "text": [
      "                                                                                                                       \r"
     ]
    },
    {
     "name": "stdout",
     "output_type": "stream",
     "text": [
      "Moviepy - Done !\n",
      "Moviepy - video ready word/word13/word_3.mp4\n"
     ]
    },
    {
     "name": "stderr",
     "output_type": "stream",
     "text": [
      "t:   3%|██▎                                                                   | 2/60 [00:00<00:03, 14.95it/s, now=None]"
     ]
    },
    {
     "name": "stdout",
     "output_type": "stream",
     "text": [
      "Moviepy - Building video word/word13/word_4.mp4.\n",
      "Moviepy - Writing video word/word13/word_4.mp4\n",
      "\n"
     ]
    },
    {
     "name": "stderr",
     "output_type": "stream",
     "text": [
      "                                                                                                                       \r"
     ]
    },
    {
     "name": "stdout",
     "output_type": "stream",
     "text": [
      "Moviepy - Done !\n",
      "Moviepy - video ready word/word13/word_4.mp4\n"
     ]
    },
    {
     "name": "stderr",
     "output_type": "stream",
     "text": [
      "t:   3%|██▎                                                                   | 2/60 [00:00<00:05, 11.53it/s, now=None]"
     ]
    },
    {
     "name": "stdout",
     "output_type": "stream",
     "text": [
      "Moviepy - Building video word/word13/word_5.mp4.\n",
      "Moviepy - Writing video word/word13/word_5.mp4\n",
      "\n"
     ]
    },
    {
     "name": "stderr",
     "output_type": "stream",
     "text": [
      "                                                                                                                       \r"
     ]
    },
    {
     "name": "stdout",
     "output_type": "stream",
     "text": [
      "Moviepy - Done !\n",
      "Moviepy - video ready word/word13/word_5.mp4\n"
     ]
    },
    {
     "name": "stderr",
     "output_type": "stream",
     "text": [
      "t:   2%|█▋                                                                   | 3/120 [00:00<00:04, 25.87it/s, now=None]"
     ]
    },
    {
     "name": "stdout",
     "output_type": "stream",
     "text": [
      "Moviepy - Building video word/word13/word_6.mp4.\n",
      "Moviepy - Writing video word/word13/word_6.mp4\n",
      "\n"
     ]
    },
    {
     "name": "stderr",
     "output_type": "stream",
     "text": [
      "                                                                                                                       \r"
     ]
    },
    {
     "name": "stdout",
     "output_type": "stream",
     "text": [
      "Moviepy - Done !\n",
      "Moviepy - video ready word/word13/word_6.mp4\n"
     ]
    },
    {
     "name": "stderr",
     "output_type": "stream",
     "text": [
      "\r",
      "t:   0%|                                                                              | 0/60 [00:00<?, ?it/s, now=None]"
     ]
    },
    {
     "name": "stdout",
     "output_type": "stream",
     "text": [
      "Moviepy - Building video word/word13/word_7.mp4.\n",
      "Moviepy - Writing video word/word13/word_7.mp4\n",
      "\n"
     ]
    },
    {
     "name": "stderr",
     "output_type": "stream",
     "text": [
      "                                                                                                                       \r"
     ]
    },
    {
     "name": "stdout",
     "output_type": "stream",
     "text": [
      "Moviepy - Done !\n",
      "Moviepy - video ready word/word13/word_7.mp4\n"
     ]
    },
    {
     "name": "stderr",
     "output_type": "stream",
     "text": [
      "\r",
      "t:   0%|                                                                              | 0/60 [00:00<?, ?it/s, now=None]"
     ]
    },
    {
     "name": "stdout",
     "output_type": "stream",
     "text": [
      "Moviepy - Building video word/word13/word_8.mp4.\n",
      "Moviepy - Writing video word/word13/word_8.mp4\n",
      "\n"
     ]
    },
    {
     "name": "stderr",
     "output_type": "stream",
     "text": [
      "                                                                                                                       \r"
     ]
    },
    {
     "name": "stdout",
     "output_type": "stream",
     "text": [
      "Moviepy - Done !\n",
      "Moviepy - video ready word/word13/word_8.mp4\n"
     ]
    },
    {
     "name": "stderr",
     "output_type": "stream",
     "text": [
      "t:   3%|██▎                                                                   | 2/60 [00:00<00:04, 12.52it/s, now=None]"
     ]
    },
    {
     "name": "stdout",
     "output_type": "stream",
     "text": [
      "Moviepy - Building video word/word13/word_9.mp4.\n",
      "Moviepy - Writing video word/word13/word_9.mp4\n",
      "\n"
     ]
    },
    {
     "name": "stderr",
     "output_type": "stream",
     "text": [
      "                                                                                                                       \r"
     ]
    },
    {
     "name": "stdout",
     "output_type": "stream",
     "text": [
      "Moviepy - Done !\n",
      "Moviepy - video ready word/word13/word_9.mp4\n"
     ]
    },
    {
     "name": "stderr",
     "output_type": "stream",
     "text": [
      "t:   2%|█▏                                                                   | 2/120 [00:00<00:09, 11.99it/s, now=None]"
     ]
    },
    {
     "name": "stdout",
     "output_type": "stream",
     "text": [
      "Moviepy - Building video word/word13/word_10.mp4.\n",
      "Moviepy - Writing video word/word13/word_10.mp4\n",
      "\n"
     ]
    },
    {
     "name": "stderr",
     "output_type": "stream",
     "text": [
      "                                                                                                                       \r"
     ]
    },
    {
     "name": "stdout",
     "output_type": "stream",
     "text": [
      "Moviepy - Done !\n",
      "Moviepy - video ready word/word13/word_10.mp4\n"
     ]
    },
    {
     "name": "stderr",
     "output_type": "stream",
     "text": [
      "\r",
      "t:   0%|                                                                              | 0/60 [00:00<?, ?it/s, now=None]"
     ]
    },
    {
     "name": "stdout",
     "output_type": "stream",
     "text": [
      "Moviepy - Building video word/word13/word_11.mp4.\n",
      "Moviepy - Writing video word/word13/word_11.mp4\n",
      "\n"
     ]
    },
    {
     "name": "stderr",
     "output_type": "stream",
     "text": [
      "                                                                                                                       \r"
     ]
    },
    {
     "name": "stdout",
     "output_type": "stream",
     "text": [
      "Moviepy - Done !\n",
      "Moviepy - video ready word/word13/word_11.mp4\n"
     ]
    },
    {
     "name": "stderr",
     "output_type": "stream",
     "text": [
      "t:   3%|██▎                                                                   | 2/60 [00:00<00:05, 11.48it/s, now=None]"
     ]
    },
    {
     "name": "stdout",
     "output_type": "stream",
     "text": [
      "Moviepy - Building video word/word13/word_12.mp4.\n",
      "Moviepy - Writing video word/word13/word_12.mp4\n",
      "\n"
     ]
    },
    {
     "name": "stderr",
     "output_type": "stream",
     "text": [
      "                                                                                                                       \r"
     ]
    },
    {
     "name": "stdout",
     "output_type": "stream",
     "text": [
      "Moviepy - Done !\n",
      "Moviepy - video ready word/word13/word_12.mp4\n"
     ]
    },
    {
     "name": "stderr",
     "output_type": "stream",
     "text": [
      "t:   3%|██▎                                                                   | 2/60 [00:00<00:04, 13.99it/s, now=None]"
     ]
    },
    {
     "name": "stdout",
     "output_type": "stream",
     "text": [
      "Moviepy - Building video word/word13/word_13.mp4.\n",
      "Moviepy - Writing video word/word13/word_13.mp4\n",
      "\n"
     ]
    },
    {
     "name": "stderr",
     "output_type": "stream",
     "text": [
      "                                                                                                                       \r"
     ]
    },
    {
     "name": "stdout",
     "output_type": "stream",
     "text": [
      "Moviepy - Done !\n",
      "Moviepy - video ready word/word13/word_13.mp4\n"
     ]
    },
    {
     "name": "stderr",
     "output_type": "stream",
     "text": [
      "t:   2%|█▏                                                                   | 2/120 [00:00<00:07, 14.85it/s, now=None]"
     ]
    },
    {
     "name": "stdout",
     "output_type": "stream",
     "text": [
      "Moviepy - Building video word/word13/word_14.mp4.\n",
      "Moviepy - Writing video word/word13/word_14.mp4\n",
      "\n"
     ]
    },
    {
     "name": "stderr",
     "output_type": "stream",
     "text": [
      "                                                                                                                       \r"
     ]
    },
    {
     "name": "stdout",
     "output_type": "stream",
     "text": [
      "Moviepy - Done !\n",
      "Moviepy - video ready word/word13/word_14.mp4\n"
     ]
    },
    {
     "name": "stderr",
     "output_type": "stream",
     "text": [
      "\r",
      "t:   0%|                                                                              | 0/60 [00:00<?, ?it/s, now=None]"
     ]
    },
    {
     "name": "stdout",
     "output_type": "stream",
     "text": [
      "Moviepy - Building video word/word13/word_15.mp4.\n",
      "Moviepy - Writing video word/word13/word_15.mp4\n",
      "\n"
     ]
    },
    {
     "name": "stderr",
     "output_type": "stream",
     "text": [
      "                                                                                                                       \r"
     ]
    },
    {
     "name": "stdout",
     "output_type": "stream",
     "text": [
      "Moviepy - Done !\n",
      "Moviepy - video ready word/word13/word_15.mp4\n"
     ]
    },
    {
     "name": "stderr",
     "output_type": "stream",
     "text": [
      "t:   2%|█▏                                                                   | 2/120 [00:00<00:07, 15.43it/s, now=None]"
     ]
    },
    {
     "name": "stdout",
     "output_type": "stream",
     "text": [
      "Moviepy - Building video word/word13/word_16.mp4.\n",
      "Moviepy - Writing video word/word13/word_16.mp4\n",
      "\n"
     ]
    },
    {
     "name": "stderr",
     "output_type": "stream",
     "text": [
      "                                                                                                                       \r"
     ]
    },
    {
     "name": "stdout",
     "output_type": "stream",
     "text": [
      "Moviepy - Done !\n",
      "Moviepy - video ready word/word13/word_16.mp4\n"
     ]
    },
    {
     "name": "stderr",
     "output_type": "stream",
     "text": [
      "\r",
      "t:   0%|                                                                              | 0/60 [00:00<?, ?it/s, now=None]"
     ]
    },
    {
     "name": "stdout",
     "output_type": "stream",
     "text": [
      "Moviepy - Building video word/word13/word_17.mp4.\n",
      "Moviepy - Writing video word/word13/word_17.mp4\n",
      "\n"
     ]
    },
    {
     "name": "stderr",
     "output_type": "stream",
     "text": [
      "                                                                                                                       \r"
     ]
    },
    {
     "name": "stdout",
     "output_type": "stream",
     "text": [
      "Moviepy - Done !\n",
      "Moviepy - video ready word/word13/word_17.mp4\n"
     ]
    },
    {
     "name": "stderr",
     "output_type": "stream",
     "text": [
      "t:   2%|█▏                                                                   | 2/120 [00:00<00:11, 10.68it/s, now=None]"
     ]
    },
    {
     "name": "stdout",
     "output_type": "stream",
     "text": [
      "Moviepy - Building video word/word13/word_18.mp4.\n",
      "Moviepy - Writing video word/word13/word_18.mp4\n",
      "\n"
     ]
    },
    {
     "name": "stderr",
     "output_type": "stream",
     "text": [
      "                                                                                                                       \r"
     ]
    },
    {
     "name": "stdout",
     "output_type": "stream",
     "text": [
      "Moviepy - Done !\n",
      "Moviepy - video ready word/word13/word_18.mp4\n"
     ]
    },
    {
     "name": "stderr",
     "output_type": "stream",
     "text": [
      "\r",
      "t:   0%|                                                                              | 0/60 [00:00<?, ?it/s, now=None]"
     ]
    },
    {
     "name": "stdout",
     "output_type": "stream",
     "text": [
      "Moviepy - Building video word/word13/word_19.mp4.\n",
      "Moviepy - Writing video word/word13/word_19.mp4\n",
      "\n"
     ]
    },
    {
     "name": "stderr",
     "output_type": "stream",
     "text": [
      "                                                                                                                       \r"
     ]
    },
    {
     "name": "stdout",
     "output_type": "stream",
     "text": [
      "Moviepy - Done !\n",
      "Moviepy - video ready word/word13/word_19.mp4\n"
     ]
    },
    {
     "name": "stderr",
     "output_type": "stream",
     "text": [
      "t:   3%|██▎                                                                   | 2/60 [00:00<00:03, 14.94it/s, now=None]"
     ]
    },
    {
     "name": "stdout",
     "output_type": "stream",
     "text": [
      "Moviepy - Building video word/word13/word_20.mp4.\n",
      "Moviepy - Writing video word/word13/word_20.mp4\n",
      "\n"
     ]
    },
    {
     "name": "stderr",
     "output_type": "stream",
     "text": [
      "                                                                                                                       \r"
     ]
    },
    {
     "name": "stdout",
     "output_type": "stream",
     "text": [
      "Moviepy - Done !\n",
      "Moviepy - video ready word/word13/word_20.mp4\n"
     ]
    },
    {
     "name": "stderr",
     "output_type": "stream",
     "text": [
      "t:   2%|█▏                                                                   | 2/120 [00:00<00:07, 15.64it/s, now=None]"
     ]
    },
    {
     "name": "stdout",
     "output_type": "stream",
     "text": [
      "Moviepy - Building video word/word13/word_21.mp4.\n",
      "Moviepy - Writing video word/word13/word_21.mp4\n",
      "\n"
     ]
    },
    {
     "name": "stderr",
     "output_type": "stream",
     "text": [
      "                                                                                                                       \r"
     ]
    },
    {
     "name": "stdout",
     "output_type": "stream",
     "text": [
      "Moviepy - Done !\n",
      "Moviepy - video ready word/word13/word_21.mp4\n"
     ]
    },
    {
     "name": "stderr",
     "output_type": "stream",
     "text": [
      "t:   2%|█▏                                                                   | 2/120 [00:00<00:07, 14.80it/s, now=None]"
     ]
    },
    {
     "name": "stdout",
     "output_type": "stream",
     "text": [
      "Moviepy - Building video word/word13/word_22.mp4.\n",
      "Moviepy - Writing video word/word13/word_22.mp4\n",
      "\n"
     ]
    },
    {
     "name": "stderr",
     "output_type": "stream",
     "text": [
      "                                                                                                                       \r"
     ]
    },
    {
     "name": "stdout",
     "output_type": "stream",
     "text": [
      "Moviepy - Done !\n",
      "Moviepy - video ready word/word13/word_22.mp4\n"
     ]
    },
    {
     "name": "stderr",
     "output_type": "stream",
     "text": [
      "t:   3%|██▎                                                                   | 2/60 [00:00<00:04, 13.75it/s, now=None]"
     ]
    },
    {
     "name": "stdout",
     "output_type": "stream",
     "text": [
      "Moviepy - Building video word/word13/word_23.mp4.\n",
      "Moviepy - Writing video word/word13/word_23.mp4\n",
      "\n"
     ]
    },
    {
     "name": "stderr",
     "output_type": "stream",
     "text": [
      "                                                                                                                       \r"
     ]
    },
    {
     "name": "stdout",
     "output_type": "stream",
     "text": [
      "Moviepy - Done !\n",
      "Moviepy - video ready word/word13/word_23.mp4\n",
      "['word/word13\\\\word_0.mp4', 'word/word13\\\\word_1.mp4', 'word/word13\\\\word_2.mp4', 'word/word13\\\\word_3.mp4', 'word/word13\\\\word_4.mp4', 'word/word13\\\\word_5.mp4', 'word/word13\\\\word_6.mp4', 'word/word13\\\\word_7.mp4', 'word/word13\\\\word_8.mp4', 'word/word13\\\\word_9.mp4', 'word/word13\\\\word_10.mp4', 'word/word13\\\\word_11.mp4', 'word/word13\\\\word_12.mp4', 'word/word13\\\\word_13.mp4', 'word/word13\\\\word_14.mp4', 'word/word13\\\\word_15.mp4', 'word/word13\\\\word_16.mp4', 'word/word13\\\\word_17.mp4', 'word/word13\\\\word_18.mp4', 'word/word13\\\\word_19.mp4', 'word/word13\\\\word_20.mp4', 'word/word13\\\\word_21.mp4', 'word/word13\\\\word_22.mp4', 'word/word13\\\\word_23.mp4']\n"
     ]
    },
    {
     "name": "stderr",
     "output_type": "stream",
     "text": [
      "t:   0%|▎                                                                    | 2/534 [00:00<00:35, 15.17it/s, now=None]"
     ]
    },
    {
     "name": "stdout",
     "output_type": "stream",
     "text": [
      "final:  48.0\n",
      "비율 :  5.4\n",
      "Moviepy - Building video sentence/sentence_13.mp4.\n",
      "Moviepy - Writing video sentence/sentence_13.mp4\n",
      "\n"
     ]
    },
    {
     "name": "stderr",
     "output_type": "stream",
     "text": [
      "                                                                                                                       \r"
     ]
    },
    {
     "name": "stdout",
     "output_type": "stream",
     "text": [
      "Moviepy - Done !\n",
      "Moviepy - video ready sentence/sentence_13.mp4\n",
      "Moviepy - Building video word/word14/word_0.mp4.\n",
      "Moviepy - Writing video word/word14/word_0.mp4\n",
      "\n"
     ]
    },
    {
     "name": "stderr",
     "output_type": "stream",
     "text": [
      "                                                                                                                       \r"
     ]
    },
    {
     "name": "stdout",
     "output_type": "stream",
     "text": [
      "Moviepy - Done !\n",
      "Moviepy - video ready word/word14/word_0.mp4\n"
     ]
    },
    {
     "name": "stderr",
     "output_type": "stream",
     "text": [
      "t:   3%|██▎                                                                   | 2/60 [00:00<00:03, 15.55it/s, now=None]"
     ]
    },
    {
     "name": "stdout",
     "output_type": "stream",
     "text": [
      "Moviepy - Building video word/word14/word_1.mp4.\n",
      "Moviepy - Writing video word/word14/word_1.mp4\n",
      "\n"
     ]
    },
    {
     "name": "stderr",
     "output_type": "stream",
     "text": [
      "                                                                                                                       \r"
     ]
    },
    {
     "name": "stdout",
     "output_type": "stream",
     "text": [
      "Moviepy - Done !\n",
      "Moviepy - video ready word/word14/word_1.mp4\n",
      "['word/word14\\\\word_0.mp4', 'word/word14\\\\word_1.mp4']\n"
     ]
    },
    {
     "name": "stderr",
     "output_type": "stream",
     "text": [
      "\r",
      "t:   0%|                                                                             | 0/142 [00:00<?, ?it/s, now=None]"
     ]
    },
    {
     "name": "stdout",
     "output_type": "stream",
     "text": [
      "final:  4.0\n",
      "비율 :  1.7\n",
      "Moviepy - Building video sentence/sentence_14.mp4.\n",
      "Moviepy - Writing video sentence/sentence_14.mp4\n",
      "\n"
     ]
    },
    {
     "name": "stderr",
     "output_type": "stream",
     "text": [
      "                                                                                                                       \r"
     ]
    },
    {
     "name": "stdout",
     "output_type": "stream",
     "text": [
      "Moviepy - Done !\n",
      "Moviepy - video ready sentence/sentence_14.mp4\n"
     ]
    },
    {
     "name": "stderr",
     "output_type": "stream",
     "text": [
      "t:   3%|██▎                                                                   | 2/60 [00:00<00:04, 12.94it/s, now=None]"
     ]
    },
    {
     "name": "stdout",
     "output_type": "stream",
     "text": [
      "Moviepy - Building video word/word15/word_0.mp4.\n",
      "Moviepy - Writing video word/word15/word_0.mp4\n",
      "\n"
     ]
    },
    {
     "name": "stderr",
     "output_type": "stream",
     "text": [
      "                                                                                                                       \r"
     ]
    },
    {
     "name": "stdout",
     "output_type": "stream",
     "text": [
      "Moviepy - Done !\n",
      "Moviepy - video ready word/word15/word_0.mp4\n"
     ]
    },
    {
     "name": "stderr",
     "output_type": "stream",
     "text": [
      "t:   2%|█▏                                                                   | 2/120 [00:00<00:09, 12.65it/s, now=None]"
     ]
    },
    {
     "name": "stdout",
     "output_type": "stream",
     "text": [
      "Moviepy - Building video word/word15/word_1.mp4.\n",
      "Moviepy - Writing video word/word15/word_1.mp4\n",
      "\n"
     ]
    },
    {
     "name": "stderr",
     "output_type": "stream",
     "text": [
      "                                                                                                                       \r"
     ]
    },
    {
     "name": "stdout",
     "output_type": "stream",
     "text": [
      "Moviepy - Done !\n",
      "Moviepy - video ready word/word15/word_1.mp4\n"
     ]
    },
    {
     "name": "stderr",
     "output_type": "stream",
     "text": [
      "\r",
      "t:   0%|                                                                              | 0/60 [00:00<?, ?it/s, now=None]"
     ]
    },
    {
     "name": "stdout",
     "output_type": "stream",
     "text": [
      "Moviepy - Building video word/word15/word_2.mp4.\n",
      "Moviepy - Writing video word/word15/word_2.mp4\n",
      "\n"
     ]
    },
    {
     "name": "stderr",
     "output_type": "stream",
     "text": [
      "                                                                                                                       \r"
     ]
    },
    {
     "name": "stdout",
     "output_type": "stream",
     "text": [
      "Moviepy - Done !\n",
      "Moviepy - video ready word/word15/word_2.mp4\n"
     ]
    },
    {
     "name": "stderr",
     "output_type": "stream",
     "text": [
      "t:   2%|█▏                                                                   | 2/120 [00:00<00:09, 11.95it/s, now=None]"
     ]
    },
    {
     "name": "stdout",
     "output_type": "stream",
     "text": [
      "Moviepy - Building video word/word15/word_3.mp4.\n",
      "Moviepy - Writing video word/word15/word_3.mp4\n",
      "\n"
     ]
    },
    {
     "name": "stderr",
     "output_type": "stream",
     "text": [
      "                                                                                                                       \r"
     ]
    },
    {
     "name": "stdout",
     "output_type": "stream",
     "text": [
      "Moviepy - Done !\n",
      "Moviepy - video ready word/word15/word_3.mp4\n"
     ]
    },
    {
     "name": "stderr",
     "output_type": "stream",
     "text": [
      "t:   2%|█▏                                                                   | 2/120 [00:00<00:08, 13.29it/s, now=None]"
     ]
    },
    {
     "name": "stdout",
     "output_type": "stream",
     "text": [
      "Moviepy - Building video word/word15/word_4.mp4.\n",
      "Moviepy - Writing video word/word15/word_4.mp4\n",
      "\n"
     ]
    },
    {
     "name": "stderr",
     "output_type": "stream",
     "text": [
      "                                                                                                                       \r"
     ]
    },
    {
     "name": "stdout",
     "output_type": "stream",
     "text": [
      "Moviepy - Done !\n",
      "Moviepy - video ready word/word15/word_4.mp4\n"
     ]
    },
    {
     "name": "stderr",
     "output_type": "stream",
     "text": [
      "\r",
      "t:   0%|                                                                             | 0/120 [00:00<?, ?it/s, now=None]"
     ]
    },
    {
     "name": "stdout",
     "output_type": "stream",
     "text": [
      "Moviepy - Building video word/word15/word_5.mp4.\n",
      "Moviepy - Writing video word/word15/word_5.mp4\n",
      "\n"
     ]
    },
    {
     "name": "stderr",
     "output_type": "stream",
     "text": [
      "                                                                                                                       \r"
     ]
    },
    {
     "name": "stdout",
     "output_type": "stream",
     "text": [
      "Moviepy - Done !\n",
      "Moviepy - video ready word/word15/word_5.mp4\n"
     ]
    },
    {
     "name": "stderr",
     "output_type": "stream",
     "text": [
      "t:   2%|█▏                                                                   | 2/120 [00:00<00:10, 10.97it/s, now=None]"
     ]
    },
    {
     "name": "stdout",
     "output_type": "stream",
     "text": [
      "Moviepy - Building video word/word15/word_6.mp4.\n",
      "Moviepy - Writing video word/word15/word_6.mp4\n",
      "\n"
     ]
    },
    {
     "name": "stderr",
     "output_type": "stream",
     "text": [
      "                                                                                                                       \r"
     ]
    },
    {
     "name": "stdout",
     "output_type": "stream",
     "text": [
      "Moviepy - Done !\n",
      "Moviepy - video ready word/word15/word_6.mp4\n",
      "Moviepy - Building video word/word15/word_7.mp4.\n",
      "Moviepy - Writing video word/word15/word_7.mp4\n",
      "\n"
     ]
    },
    {
     "name": "stderr",
     "output_type": "stream",
     "text": [
      "                                                                                                                       \r"
     ]
    },
    {
     "name": "stdout",
     "output_type": "stream",
     "text": [
      "Moviepy - Done !\n",
      "Moviepy - video ready word/word15/word_7.mp4\n",
      "['word/word15\\\\word_0.mp4', 'word/word15\\\\word_1.mp4', 'word/word15\\\\word_2.mp4', 'word/word15\\\\word_3.mp4', 'word/word15\\\\word_4.mp4', 'word/word15\\\\word_5.mp4', 'word/word15\\\\word_6.mp4', 'word/word15\\\\word_7.mp4']\n"
     ]
    },
    {
     "name": "stderr",
     "output_type": "stream",
     "text": [
      "\r",
      "t:   0%|                                                                             | 0/291 [00:00<?, ?it/s, now=None]"
     ]
    },
    {
     "name": "stdout",
     "output_type": "stream",
     "text": [
      "final:  16.0\n",
      "비율 :  3.3\n",
      "Moviepy - Building video sentence/sentence_15.mp4.\n",
      "Moviepy - Writing video sentence/sentence_15.mp4\n",
      "\n"
     ]
    },
    {
     "name": "stderr",
     "output_type": "stream",
     "text": [
      "                                                                                                                       \r"
     ]
    },
    {
     "name": "stdout",
     "output_type": "stream",
     "text": [
      "Moviepy - Done !\n",
      "Moviepy - video ready sentence/sentence_15.mp4\n"
     ]
    },
    {
     "name": "stderr",
     "output_type": "stream",
     "text": [
      "t:   3%|██▎                                                                   | 2/60 [00:00<00:03, 14.53it/s, now=None]"
     ]
    },
    {
     "name": "stdout",
     "output_type": "stream",
     "text": [
      "Moviepy - Building video word/word16/word_0.mp4.\n",
      "Moviepy - Writing video word/word16/word_0.mp4\n",
      "\n"
     ]
    },
    {
     "name": "stderr",
     "output_type": "stream",
     "text": [
      "                                                                                                                       \r"
     ]
    },
    {
     "name": "stdout",
     "output_type": "stream",
     "text": [
      "Moviepy - Done !\n",
      "Moviepy - video ready word/word16/word_0.mp4\n"
     ]
    },
    {
     "name": "stderr",
     "output_type": "stream",
     "text": [
      "t:   2%|█▏                                                                   | 2/120 [00:00<00:09, 13.07it/s, now=None]"
     ]
    },
    {
     "name": "stdout",
     "output_type": "stream",
     "text": [
      "Moviepy - Building video word/word16/word_1.mp4.\n",
      "Moviepy - Writing video word/word16/word_1.mp4\n",
      "\n"
     ]
    },
    {
     "name": "stderr",
     "output_type": "stream",
     "text": [
      "                                                                                                                       \r"
     ]
    },
    {
     "name": "stdout",
     "output_type": "stream",
     "text": [
      "Moviepy - Done !\n",
      "Moviepy - video ready word/word16/word_1.mp4\n"
     ]
    },
    {
     "name": "stderr",
     "output_type": "stream",
     "text": [
      "\r",
      "t:   0%|                                                                             | 0/120 [00:00<?, ?it/s, now=None]"
     ]
    },
    {
     "name": "stdout",
     "output_type": "stream",
     "text": [
      "Moviepy - Building video word/word16/word_2.mp4.\n",
      "Moviepy - Writing video word/word16/word_2.mp4\n",
      "\n"
     ]
    },
    {
     "name": "stderr",
     "output_type": "stream",
     "text": [
      "                                                                                                                       \r"
     ]
    },
    {
     "name": "stdout",
     "output_type": "stream",
     "text": [
      "Moviepy - Done !\n",
      "Moviepy - video ready word/word16/word_2.mp4\n"
     ]
    },
    {
     "name": "stderr",
     "output_type": "stream",
     "text": [
      "t:   3%|██▎                                                                   | 2/60 [00:00<00:04, 13.28it/s, now=None]"
     ]
    },
    {
     "name": "stdout",
     "output_type": "stream",
     "text": [
      "Moviepy - Building video word/word16/word_3.mp4.\n",
      "Moviepy - Writing video word/word16/word_3.mp4\n",
      "\n"
     ]
    },
    {
     "name": "stderr",
     "output_type": "stream",
     "text": [
      "                                                                                                                       \r"
     ]
    },
    {
     "name": "stdout",
     "output_type": "stream",
     "text": [
      "Moviepy - Done !\n",
      "Moviepy - video ready word/word16/word_3.mp4\n"
     ]
    },
    {
     "name": "stderr",
     "output_type": "stream",
     "text": [
      "t:   3%|██▎                                                                   | 2/60 [00:00<00:04, 13.25it/s, now=None]"
     ]
    },
    {
     "name": "stdout",
     "output_type": "stream",
     "text": [
      "Moviepy - Building video word/word16/word_4.mp4.\n",
      "Moviepy - Writing video word/word16/word_4.mp4\n",
      "\n"
     ]
    },
    {
     "name": "stderr",
     "output_type": "stream",
     "text": [
      "                                                                                                                       \r"
     ]
    },
    {
     "name": "stdout",
     "output_type": "stream",
     "text": [
      "Moviepy - Done !\n",
      "Moviepy - video ready word/word16/word_4.mp4\n"
     ]
    },
    {
     "name": "stderr",
     "output_type": "stream",
     "text": [
      "t:   2%|█▏                                                                   | 2/120 [00:00<00:09, 12.78it/s, now=None]"
     ]
    },
    {
     "name": "stdout",
     "output_type": "stream",
     "text": [
      "Moviepy - Building video word/word16/word_5.mp4.\n",
      "Moviepy - Writing video word/word16/word_5.mp4\n",
      "\n"
     ]
    },
    {
     "name": "stderr",
     "output_type": "stream",
     "text": [
      "                                                                                                                       \r"
     ]
    },
    {
     "name": "stdout",
     "output_type": "stream",
     "text": [
      "Moviepy - Done !\n",
      "Moviepy - video ready word/word16/word_5.mp4\n"
     ]
    },
    {
     "name": "stderr",
     "output_type": "stream",
     "text": [
      "\r",
      "t:   0%|                                                                             | 0/120 [00:00<?, ?it/s, now=None]"
     ]
    },
    {
     "name": "stdout",
     "output_type": "stream",
     "text": [
      "Moviepy - Building video word/word16/word_6.mp4.\n",
      "Moviepy - Writing video word/word16/word_6.mp4\n",
      "\n"
     ]
    },
    {
     "name": "stderr",
     "output_type": "stream",
     "text": [
      "                                                                                                                       \r"
     ]
    },
    {
     "name": "stdout",
     "output_type": "stream",
     "text": [
      "Moviepy - Done !\n",
      "Moviepy - video ready word/word16/word_6.mp4\n"
     ]
    },
    {
     "name": "stderr",
     "output_type": "stream",
     "text": [
      "t:   2%|█▏                                                                   | 2/120 [00:00<00:08, 14.16it/s, now=None]"
     ]
    },
    {
     "name": "stdout",
     "output_type": "stream",
     "text": [
      "Moviepy - Building video word/word16/word_7.mp4.\n",
      "Moviepy - Writing video word/word16/word_7.mp4\n",
      "\n"
     ]
    },
    {
     "name": "stderr",
     "output_type": "stream",
     "text": [
      "                                                                                                                       \r"
     ]
    },
    {
     "name": "stdout",
     "output_type": "stream",
     "text": [
      "Moviepy - Done !\n",
      "Moviepy - video ready word/word16/word_7.mp4\n"
     ]
    },
    {
     "name": "stderr",
     "output_type": "stream",
     "text": [
      "\r",
      "t:   0%|                                                                             | 0/120 [00:00<?, ?it/s, now=None]"
     ]
    },
    {
     "name": "stdout",
     "output_type": "stream",
     "text": [
      "Moviepy - Building video word/word16/word_8.mp4.\n",
      "Moviepy - Writing video word/word16/word_8.mp4\n",
      "\n"
     ]
    },
    {
     "name": "stderr",
     "output_type": "stream",
     "text": [
      "                                                                                                                       \r"
     ]
    },
    {
     "name": "stdout",
     "output_type": "stream",
     "text": [
      "Moviepy - Done !\n",
      "Moviepy - video ready word/word16/word_8.mp4\n",
      "Moviepy - Building video word/word16/word_9.mp4.\n",
      "Moviepy - Writing video word/word16/word_9.mp4\n",
      "\n"
     ]
    },
    {
     "name": "stderr",
     "output_type": "stream",
     "text": [
      "                                                                                                                       \r"
     ]
    },
    {
     "name": "stdout",
     "output_type": "stream",
     "text": [
      "Moviepy - Done !\n",
      "Moviepy - video ready word/word16/word_9.mp4\n"
     ]
    },
    {
     "name": "stderr",
     "output_type": "stream",
     "text": [
      "t:   3%|██▎                                                                   | 2/60 [00:00<00:04, 14.35it/s, now=None]"
     ]
    },
    {
     "name": "stdout",
     "output_type": "stream",
     "text": [
      "Moviepy - Building video word/word16/word_10.mp4.\n",
      "Moviepy - Writing video word/word16/word_10.mp4\n",
      "\n"
     ]
    },
    {
     "name": "stderr",
     "output_type": "stream",
     "text": [
      "                                                                                                                       \r"
     ]
    },
    {
     "name": "stdout",
     "output_type": "stream",
     "text": [
      "Moviepy - Done !\n",
      "Moviepy - video ready word/word16/word_10.mp4\n"
     ]
    },
    {
     "name": "stderr",
     "output_type": "stream",
     "text": [
      "\r",
      "t:   0%|                                                                              | 0/60 [00:00<?, ?it/s, now=None]"
     ]
    },
    {
     "name": "stdout",
     "output_type": "stream",
     "text": [
      "Moviepy - Building video word/word16/word_11.mp4.\n",
      "Moviepy - Writing video word/word16/word_11.mp4\n",
      "\n"
     ]
    },
    {
     "name": "stderr",
     "output_type": "stream",
     "text": [
      "                                                                                                                       \r"
     ]
    },
    {
     "name": "stdout",
     "output_type": "stream",
     "text": [
      "Moviepy - Done !\n",
      "Moviepy - video ready word/word16/word_11.mp4\n"
     ]
    },
    {
     "name": "stderr",
     "output_type": "stream",
     "text": [
      "\r",
      "t:   0%|                                                                              | 0/60 [00:00<?, ?it/s, now=None]"
     ]
    },
    {
     "name": "stdout",
     "output_type": "stream",
     "text": [
      "Moviepy - Building video word/word16/word_12.mp4.\n",
      "Moviepy - Writing video word/word16/word_12.mp4\n",
      "\n"
     ]
    },
    {
     "name": "stderr",
     "output_type": "stream",
     "text": [
      "                                                                                                                       \r"
     ]
    },
    {
     "name": "stdout",
     "output_type": "stream",
     "text": [
      "Moviepy - Done !\n",
      "Moviepy - video ready word/word16/word_12.mp4\n"
     ]
    },
    {
     "name": "stderr",
     "output_type": "stream",
     "text": [
      "\r",
      "t:   0%|                                                                             | 0/120 [00:00<?, ?it/s, now=None]"
     ]
    },
    {
     "name": "stdout",
     "output_type": "stream",
     "text": [
      "Moviepy - Building video word/word16/word_13.mp4.\n",
      "Moviepy - Writing video word/word16/word_13.mp4\n",
      "\n"
     ]
    },
    {
     "name": "stderr",
     "output_type": "stream",
     "text": [
      "                                                                                                                       \r"
     ]
    },
    {
     "name": "stdout",
     "output_type": "stream",
     "text": [
      "Moviepy - Done !\n",
      "Moviepy - video ready word/word16/word_13.mp4\n"
     ]
    },
    {
     "name": "stderr",
     "output_type": "stream",
     "text": [
      "t:   3%|██▎                                                                   | 2/60 [00:00<00:04, 12.23it/s, now=None]"
     ]
    },
    {
     "name": "stdout",
     "output_type": "stream",
     "text": [
      "Moviepy - Building video word/word16/word_14.mp4.\n",
      "Moviepy - Writing video word/word16/word_14.mp4\n",
      "\n"
     ]
    },
    {
     "name": "stderr",
     "output_type": "stream",
     "text": [
      "                                                                                                                       \r"
     ]
    },
    {
     "name": "stdout",
     "output_type": "stream",
     "text": [
      "Moviepy - Done !\n",
      "Moviepy - video ready word/word16/word_14.mp4\n",
      "['word/word16\\\\word_0.mp4', 'word/word16\\\\word_1.mp4', 'word/word16\\\\word_2.mp4', 'word/word16\\\\word_3.mp4', 'word/word16\\\\word_4.mp4', 'word/word16\\\\word_5.mp4', 'word/word16\\\\word_6.mp4', 'word/word16\\\\word_7.mp4', 'word/word16\\\\word_8.mp4', 'word/word16\\\\word_9.mp4', 'word/word16\\\\word_10.mp4', 'word/word16\\\\word_11.mp4', 'word/word16\\\\word_12.mp4', 'word/word16\\\\word_13.mp4', 'word/word16\\\\word_14.mp4']\n"
     ]
    },
    {
     "name": "stderr",
     "output_type": "stream",
     "text": [
      "t:   1%|▌                                                                    | 2/254 [00:00<00:18, 13.81it/s, now=None]"
     ]
    },
    {
     "name": "stdout",
     "output_type": "stream",
     "text": [
      "final:  30.0\n",
      "비율 :  7.1\n",
      "Moviepy - Building video sentence/sentence_16.mp4.\n",
      "Moviepy - Writing video sentence/sentence_16.mp4\n",
      "\n"
     ]
    },
    {
     "name": "stderr",
     "output_type": "stream",
     "text": [
      "                                                                                                                       \r"
     ]
    },
    {
     "name": "stdout",
     "output_type": "stream",
     "text": [
      "Moviepy - Done !\n",
      "Moviepy - video ready sentence/sentence_16.mp4\n"
     ]
    },
    {
     "name": "stderr",
     "output_type": "stream",
     "text": [
      "t:   2%|█▏                                                                   | 2/120 [00:00<00:08, 13.79it/s, now=None]"
     ]
    },
    {
     "name": "stdout",
     "output_type": "stream",
     "text": [
      "Moviepy - Building video word/word17/word_0.mp4.\n",
      "Moviepy - Writing video word/word17/word_0.mp4\n",
      "\n"
     ]
    },
    {
     "name": "stderr",
     "output_type": "stream",
     "text": [
      "                                                                                                                       \r"
     ]
    },
    {
     "name": "stdout",
     "output_type": "stream",
     "text": [
      "Moviepy - Done !\n",
      "Moviepy - video ready word/word17/word_0.mp4\n"
     ]
    },
    {
     "name": "stderr",
     "output_type": "stream",
     "text": [
      "t:   2%|█▏                                                                   | 2/120 [00:00<00:08, 13.88it/s, now=None]"
     ]
    },
    {
     "name": "stdout",
     "output_type": "stream",
     "text": [
      "Moviepy - Building video word/word17/word_1.mp4.\n",
      "Moviepy - Writing video word/word17/word_1.mp4\n",
      "\n"
     ]
    },
    {
     "name": "stderr",
     "output_type": "stream",
     "text": [
      "                                                                                                                       \r"
     ]
    },
    {
     "name": "stdout",
     "output_type": "stream",
     "text": [
      "Moviepy - Done !\n",
      "Moviepy - video ready word/word17/word_1.mp4\n"
     ]
    },
    {
     "name": "stderr",
     "output_type": "stream",
     "text": [
      "t:   2%|█▏                                                                   | 2/120 [00:00<00:08, 13.39it/s, now=None]"
     ]
    },
    {
     "name": "stdout",
     "output_type": "stream",
     "text": [
      "Moviepy - Building video word/word17/word_2.mp4.\n",
      "Moviepy - Writing video word/word17/word_2.mp4\n",
      "\n"
     ]
    },
    {
     "name": "stderr",
     "output_type": "stream",
     "text": [
      "                                                                                                                       \r"
     ]
    },
    {
     "name": "stdout",
     "output_type": "stream",
     "text": [
      "Moviepy - Done !\n",
      "Moviepy - video ready word/word17/word_2.mp4\n"
     ]
    },
    {
     "name": "stderr",
     "output_type": "stream",
     "text": [
      "\r",
      "t:   0%|                                                                             | 0/120 [00:00<?, ?it/s, now=None]"
     ]
    },
    {
     "name": "stdout",
     "output_type": "stream",
     "text": [
      "Moviepy - Building video word/word17/word_3.mp4.\n",
      "Moviepy - Writing video word/word17/word_3.mp4\n",
      "\n"
     ]
    },
    {
     "name": "stderr",
     "output_type": "stream",
     "text": [
      "                                                                                                                       \r"
     ]
    },
    {
     "name": "stdout",
     "output_type": "stream",
     "text": [
      "Moviepy - Done !\n",
      "Moviepy - video ready word/word17/word_3.mp4\n"
     ]
    },
    {
     "name": "stderr",
     "output_type": "stream",
     "text": [
      "\r",
      "t:   0%|                                                                             | 0/120 [00:00<?, ?it/s, now=None]"
     ]
    },
    {
     "name": "stdout",
     "output_type": "stream",
     "text": [
      "Moviepy - Building video word/word17/word_4.mp4.\n",
      "Moviepy - Writing video word/word17/word_4.mp4\n",
      "\n"
     ]
    },
    {
     "name": "stderr",
     "output_type": "stream",
     "text": [
      "                                                                                                                       \r"
     ]
    },
    {
     "name": "stdout",
     "output_type": "stream",
     "text": [
      "Moviepy - Done !\n",
      "Moviepy - video ready word/word17/word_4.mp4\n"
     ]
    },
    {
     "name": "stderr",
     "output_type": "stream",
     "text": [
      "t:   2%|█▏                                                                   | 2/120 [00:00<00:07, 15.07it/s, now=None]"
     ]
    },
    {
     "name": "stdout",
     "output_type": "stream",
     "text": [
      "Moviepy - Building video word/word17/word_5.mp4.\n",
      "Moviepy - Writing video word/word17/word_5.mp4\n",
      "\n"
     ]
    },
    {
     "name": "stderr",
     "output_type": "stream",
     "text": [
      "                                                                                                                       \r"
     ]
    },
    {
     "name": "stdout",
     "output_type": "stream",
     "text": [
      "Moviepy - Done !\n",
      "Moviepy - video ready word/word17/word_5.mp4\n"
     ]
    },
    {
     "name": "stderr",
     "output_type": "stream",
     "text": [
      "\r",
      "t:   0%|                                                                             | 0/120 [00:00<?, ?it/s, now=None]"
     ]
    },
    {
     "name": "stdout",
     "output_type": "stream",
     "text": [
      "Moviepy - Building video word/word17/word_6.mp4.\n",
      "Moviepy - Writing video word/word17/word_6.mp4\n",
      "\n"
     ]
    },
    {
     "name": "stderr",
     "output_type": "stream",
     "text": [
      "                                                                                                                       \r"
     ]
    },
    {
     "name": "stdout",
     "output_type": "stream",
     "text": [
      "Moviepy - Done !\n",
      "Moviepy - video ready word/word17/word_6.mp4\n"
     ]
    },
    {
     "name": "stderr",
     "output_type": "stream",
     "text": [
      "t:   2%|█▏                                                                   | 2/120 [00:00<00:09, 13.05it/s, now=None]"
     ]
    },
    {
     "name": "stdout",
     "output_type": "stream",
     "text": [
      "Moviepy - Building video word/word17/word_7.mp4.\n",
      "Moviepy - Writing video word/word17/word_7.mp4\n",
      "\n"
     ]
    },
    {
     "name": "stderr",
     "output_type": "stream",
     "text": [
      "                                                                                                                       \r"
     ]
    },
    {
     "name": "stdout",
     "output_type": "stream",
     "text": [
      "Moviepy - Done !\n",
      "Moviepy - video ready word/word17/word_7.mp4\n"
     ]
    },
    {
     "name": "stderr",
     "output_type": "stream",
     "text": [
      "\r",
      "t:   0%|                                                                              | 0/60 [00:00<?, ?it/s, now=None]"
     ]
    },
    {
     "name": "stdout",
     "output_type": "stream",
     "text": [
      "Moviepy - Building video word/word17/word_8.mp4.\n",
      "Moviepy - Writing video word/word17/word_8.mp4\n",
      "\n"
     ]
    },
    {
     "name": "stderr",
     "output_type": "stream",
     "text": [
      "                                                                                                                       \r"
     ]
    },
    {
     "name": "stdout",
     "output_type": "stream",
     "text": [
      "Moviepy - Done !\n",
      "Moviepy - video ready word/word17/word_8.mp4\n"
     ]
    },
    {
     "name": "stderr",
     "output_type": "stream",
     "text": [
      "\r",
      "t:   0%|                                                                             | 0/120 [00:00<?, ?it/s, now=None]"
     ]
    },
    {
     "name": "stdout",
     "output_type": "stream",
     "text": [
      "Moviepy - Building video word/word17/word_9.mp4.\n",
      "Moviepy - Writing video word/word17/word_9.mp4\n",
      "\n"
     ]
    },
    {
     "name": "stderr",
     "output_type": "stream",
     "text": [
      "                                                                                                                       \r"
     ]
    },
    {
     "name": "stdout",
     "output_type": "stream",
     "text": [
      "Moviepy - Done !\n",
      "Moviepy - video ready word/word17/word_9.mp4\n"
     ]
    },
    {
     "name": "stderr",
     "output_type": "stream",
     "text": [
      "\r",
      "t:   0%|                                                                             | 0/120 [00:00<?, ?it/s, now=None]"
     ]
    },
    {
     "name": "stdout",
     "output_type": "stream",
     "text": [
      "Moviepy - Building video word/word17/word_10.mp4.\n",
      "Moviepy - Writing video word/word17/word_10.mp4\n",
      "\n"
     ]
    },
    {
     "name": "stderr",
     "output_type": "stream",
     "text": [
      "                                                                                                                       \r"
     ]
    },
    {
     "name": "stdout",
     "output_type": "stream",
     "text": [
      "Moviepy - Done !\n",
      "Moviepy - video ready word/word17/word_10.mp4\n"
     ]
    },
    {
     "name": "stderr",
     "output_type": "stream",
     "text": [
      "t:   2%|█▏                                                                   | 2/120 [00:00<00:08, 14.04it/s, now=None]"
     ]
    },
    {
     "name": "stdout",
     "output_type": "stream",
     "text": [
      "Moviepy - Building video word/word17/word_11.mp4.\n",
      "Moviepy - Writing video word/word17/word_11.mp4\n",
      "\n"
     ]
    },
    {
     "name": "stderr",
     "output_type": "stream",
     "text": [
      "                                                                                                                       \r"
     ]
    },
    {
     "name": "stdout",
     "output_type": "stream",
     "text": [
      "Moviepy - Done !\n",
      "Moviepy - video ready word/word17/word_11.mp4\n"
     ]
    },
    {
     "name": "stderr",
     "output_type": "stream",
     "text": [
      "t:   3%|██▎                                                                   | 2/60 [00:00<00:03, 17.35it/s, now=None]"
     ]
    },
    {
     "name": "stdout",
     "output_type": "stream",
     "text": [
      "Moviepy - Building video word/word17/word_12.mp4.\n",
      "Moviepy - Writing video word/word17/word_12.mp4\n",
      "\n"
     ]
    },
    {
     "name": "stderr",
     "output_type": "stream",
     "text": [
      "                                                                                                                       \r"
     ]
    },
    {
     "name": "stdout",
     "output_type": "stream",
     "text": [
      "Moviepy - Done !\n",
      "Moviepy - video ready word/word17/word_12.mp4\n"
     ]
    },
    {
     "name": "stderr",
     "output_type": "stream",
     "text": [
      "t:   3%|██▎                                                                   | 2/60 [00:00<00:03, 17.00it/s, now=None]"
     ]
    },
    {
     "name": "stdout",
     "output_type": "stream",
     "text": [
      "Moviepy - Building video word/word17/word_13.mp4.\n",
      "Moviepy - Writing video word/word17/word_13.mp4\n",
      "\n"
     ]
    },
    {
     "name": "stderr",
     "output_type": "stream",
     "text": [
      "                                                                                                                       \r"
     ]
    },
    {
     "name": "stdout",
     "output_type": "stream",
     "text": [
      "Moviepy - Done !\n",
      "Moviepy - video ready word/word17/word_13.mp4\n"
     ]
    },
    {
     "name": "stderr",
     "output_type": "stream",
     "text": [
      "t:   2%|█▏                                                                   | 2/120 [00:00<00:07, 15.31it/s, now=None]"
     ]
    },
    {
     "name": "stdout",
     "output_type": "stream",
     "text": [
      "Moviepy - Building video word/word17/word_14.mp4.\n",
      "Moviepy - Writing video word/word17/word_14.mp4\n",
      "\n"
     ]
    },
    {
     "name": "stderr",
     "output_type": "stream",
     "text": [
      "                                                                                                                       \r"
     ]
    },
    {
     "name": "stdout",
     "output_type": "stream",
     "text": [
      "Moviepy - Done !\n",
      "Moviepy - video ready word/word17/word_14.mp4\n"
     ]
    },
    {
     "name": "stderr",
     "output_type": "stream",
     "text": [
      "\r",
      "t:   0%|                                                                              | 0/60 [00:00<?, ?it/s, now=None]"
     ]
    },
    {
     "name": "stdout",
     "output_type": "stream",
     "text": [
      "Moviepy - Building video word/word17/word_15.mp4.\n",
      "Moviepy - Writing video word/word17/word_15.mp4\n",
      "\n"
     ]
    },
    {
     "name": "stderr",
     "output_type": "stream",
     "text": [
      "                                                                                                                       \r"
     ]
    },
    {
     "name": "stdout",
     "output_type": "stream",
     "text": [
      "Moviepy - Done !\n",
      "Moviepy - video ready word/word17/word_15.mp4\n"
     ]
    },
    {
     "name": "stderr",
     "output_type": "stream",
     "text": [
      "t:   2%|█▏                                                                   | 2/120 [00:00<00:08, 14.44it/s, now=None]"
     ]
    },
    {
     "name": "stdout",
     "output_type": "stream",
     "text": [
      "Moviepy - Building video word/word17/word_16.mp4.\n",
      "Moviepy - Writing video word/word17/word_16.mp4\n",
      "\n"
     ]
    },
    {
     "name": "stderr",
     "output_type": "stream",
     "text": [
      "                                                                                                                       \r"
     ]
    },
    {
     "name": "stdout",
     "output_type": "stream",
     "text": [
      "Moviepy - Done !\n",
      "Moviepy - video ready word/word17/word_16.mp4\n"
     ]
    },
    {
     "name": "stderr",
     "output_type": "stream",
     "text": [
      "\r",
      "t:   0%|                                                                              | 0/60 [00:00<?, ?it/s, now=None]"
     ]
    },
    {
     "name": "stdout",
     "output_type": "stream",
     "text": [
      "Moviepy - Building video word/word17/word_17.mp4.\n",
      "Moviepy - Writing video word/word17/word_17.mp4\n",
      "\n"
     ]
    },
    {
     "name": "stderr",
     "output_type": "stream",
     "text": [
      "                                                                                                                       \r"
     ]
    },
    {
     "name": "stdout",
     "output_type": "stream",
     "text": [
      "Moviepy - Done !\n",
      "Moviepy - video ready word/word17/word_17.mp4\n"
     ]
    },
    {
     "name": "stderr",
     "output_type": "stream",
     "text": [
      "t:   2%|█▏                                                                   | 2/120 [00:00<00:08, 13.97it/s, now=None]"
     ]
    },
    {
     "name": "stdout",
     "output_type": "stream",
     "text": [
      "Moviepy - Building video word/word17/word_18.mp4.\n",
      "Moviepy - Writing video word/word17/word_18.mp4\n",
      "\n"
     ]
    },
    {
     "name": "stderr",
     "output_type": "stream",
     "text": [
      "                                                                                                                       \r"
     ]
    },
    {
     "name": "stdout",
     "output_type": "stream",
     "text": [
      "Moviepy - Done !\n",
      "Moviepy - video ready word/word17/word_18.mp4\n"
     ]
    },
    {
     "name": "stderr",
     "output_type": "stream",
     "text": [
      "t:   2%|█▏                                                                   | 2/120 [00:00<00:07, 14.78it/s, now=None]"
     ]
    },
    {
     "name": "stdout",
     "output_type": "stream",
     "text": [
      "Moviepy - Building video word/word17/word_19.mp4.\n",
      "Moviepy - Writing video word/word17/word_19.mp4\n",
      "\n"
     ]
    },
    {
     "name": "stderr",
     "output_type": "stream",
     "text": [
      "                                                                                                                       \r"
     ]
    },
    {
     "name": "stdout",
     "output_type": "stream",
     "text": [
      "Moviepy - Done !\n",
      "Moviepy - video ready word/word17/word_19.mp4\n"
     ]
    },
    {
     "name": "stderr",
     "output_type": "stream",
     "text": [
      "\r",
      "t:   0%|                                                                             | 0/120 [00:00<?, ?it/s, now=None]"
     ]
    },
    {
     "name": "stdout",
     "output_type": "stream",
     "text": [
      "Moviepy - Building video word/word17/word_20.mp4.\n",
      "Moviepy - Writing video word/word17/word_20.mp4\n",
      "\n"
     ]
    },
    {
     "name": "stderr",
     "output_type": "stream",
     "text": [
      "                                                                                                                       \r"
     ]
    },
    {
     "name": "stdout",
     "output_type": "stream",
     "text": [
      "Moviepy - Done !\n",
      "Moviepy - video ready word/word17/word_20.mp4\n"
     ]
    },
    {
     "name": "stderr",
     "output_type": "stream",
     "text": [
      "t:   2%|█▏                                                                   | 2/120 [00:00<00:08, 13.13it/s, now=None]"
     ]
    },
    {
     "name": "stdout",
     "output_type": "stream",
     "text": [
      "Moviepy - Building video word/word17/word_21.mp4.\n",
      "Moviepy - Writing video word/word17/word_21.mp4\n",
      "\n"
     ]
    },
    {
     "name": "stderr",
     "output_type": "stream",
     "text": [
      "                                                                                                                       \r"
     ]
    },
    {
     "name": "stdout",
     "output_type": "stream",
     "text": [
      "Moviepy - Done !\n",
      "Moviepy - video ready word/word17/word_21.mp4\n"
     ]
    },
    {
     "name": "stderr",
     "output_type": "stream",
     "text": [
      "\r",
      "t:   0%|                                                                              | 0/60 [00:00<?, ?it/s, now=None]"
     ]
    },
    {
     "name": "stdout",
     "output_type": "stream",
     "text": [
      "Moviepy - Building video word/word17/word_22.mp4.\n",
      "Moviepy - Writing video word/word17/word_22.mp4\n",
      "\n"
     ]
    },
    {
     "name": "stderr",
     "output_type": "stream",
     "text": [
      "                                                                                                                       \r"
     ]
    },
    {
     "name": "stdout",
     "output_type": "stream",
     "text": [
      "Moviepy - Done !\n",
      "Moviepy - video ready word/word17/word_22.mp4\n"
     ]
    },
    {
     "name": "stderr",
     "output_type": "stream",
     "text": [
      "t:   3%|██▎                                                                   | 2/60 [00:00<00:04, 14.00it/s, now=None]"
     ]
    },
    {
     "name": "stdout",
     "output_type": "stream",
     "text": [
      "Moviepy - Building video word/word17/word_23.mp4.\n",
      "Moviepy - Writing video word/word17/word_23.mp4\n",
      "\n"
     ]
    },
    {
     "name": "stderr",
     "output_type": "stream",
     "text": [
      "                                                                                                                       \r"
     ]
    },
    {
     "name": "stdout",
     "output_type": "stream",
     "text": [
      "Moviepy - Done !\n",
      "Moviepy - video ready word/word17/word_23.mp4\n",
      "['word/word17\\\\word_0.mp4', 'word/word17\\\\word_1.mp4', 'word/word17\\\\word_2.mp4', 'word/word17\\\\word_3.mp4', 'word/word17\\\\word_4.mp4', 'word/word17\\\\word_5.mp4', 'word/word17\\\\word_6.mp4', 'word/word17\\\\word_7.mp4', 'word/word17\\\\word_8.mp4', 'word/word17\\\\word_9.mp4', 'word/word17\\\\word_10.mp4', 'word/word17\\\\word_11.mp4', 'word/word17\\\\word_12.mp4', 'word/word17\\\\word_13.mp4', 'word/word17\\\\word_14.mp4', 'word/word17\\\\word_15.mp4', 'word/word17\\\\word_16.mp4', 'word/word17\\\\word_17.mp4', 'word/word17\\\\word_18.mp4', 'word/word17\\\\word_19.mp4', 'word/word17\\\\word_20.mp4', 'word/word17\\\\word_21.mp4', 'word/word17\\\\word_22.mp4', 'word/word17\\\\word_23.mp4']\n"
     ]
    },
    {
     "name": "stderr",
     "output_type": "stream",
     "text": [
      "\r",
      "t:   0%|                                                                             | 0/450 [00:00<?, ?it/s, now=None]"
     ]
    },
    {
     "name": "stdout",
     "output_type": "stream",
     "text": [
      "final:  48.0\n",
      "비율 :  6.4\n",
      "Moviepy - Building video sentence/sentence_17.mp4.\n",
      "Moviepy - Writing video sentence/sentence_17.mp4\n",
      "\n"
     ]
    },
    {
     "name": "stderr",
     "output_type": "stream",
     "text": [
      "                                                                                                                       \r"
     ]
    },
    {
     "name": "stdout",
     "output_type": "stream",
     "text": [
      "Moviepy - Done !\n",
      "Moviepy - video ready sentence/sentence_17.mp4\n"
     ]
    },
    {
     "name": "stderr",
     "output_type": "stream",
     "text": [
      "t:   2%|█▏                                                                   | 2/120 [00:00<00:07, 14.92it/s, now=None]"
     ]
    },
    {
     "name": "stdout",
     "output_type": "stream",
     "text": [
      "Moviepy - Building video word/word18/word_0.mp4.\n",
      "Moviepy - Writing video word/word18/word_0.mp4\n",
      "\n"
     ]
    },
    {
     "name": "stderr",
     "output_type": "stream",
     "text": [
      "                                                                                                                       \r"
     ]
    },
    {
     "name": "stdout",
     "output_type": "stream",
     "text": [
      "Moviepy - Done !\n",
      "Moviepy - video ready word/word18/word_0.mp4\n"
     ]
    },
    {
     "name": "stderr",
     "output_type": "stream",
     "text": [
      "\r",
      "t:   0%|                                                                              | 0/60 [00:00<?, ?it/s, now=None]"
     ]
    },
    {
     "name": "stdout",
     "output_type": "stream",
     "text": [
      "Moviepy - Building video word/word18/word_1.mp4.\n",
      "Moviepy - Writing video word/word18/word_1.mp4\n",
      "\n"
     ]
    },
    {
     "name": "stderr",
     "output_type": "stream",
     "text": [
      "                                                                                                                       \r"
     ]
    },
    {
     "name": "stdout",
     "output_type": "stream",
     "text": [
      "Moviepy - Done !\n",
      "Moviepy - video ready word/word18/word_1.mp4\n"
     ]
    },
    {
     "name": "stderr",
     "output_type": "stream",
     "text": [
      "\r",
      "t:   0%|                                                                             | 0/120 [00:00<?, ?it/s, now=None]"
     ]
    },
    {
     "name": "stdout",
     "output_type": "stream",
     "text": [
      "Moviepy - Building video word/word18/word_2.mp4.\n",
      "Moviepy - Writing video word/word18/word_2.mp4\n",
      "\n"
     ]
    },
    {
     "name": "stderr",
     "output_type": "stream",
     "text": [
      "                                                                                                                       \r"
     ]
    },
    {
     "name": "stdout",
     "output_type": "stream",
     "text": [
      "Moviepy - Done !\n",
      "Moviepy - video ready word/word18/word_2.mp4\n"
     ]
    },
    {
     "name": "stderr",
     "output_type": "stream",
     "text": [
      "t:   3%|██▎                                                                   | 2/60 [00:00<00:04, 12.42it/s, now=None]"
     ]
    },
    {
     "name": "stdout",
     "output_type": "stream",
     "text": [
      "Moviepy - Building video word/word18/word_3.mp4.\n",
      "Moviepy - Writing video word/word18/word_3.mp4\n",
      "\n"
     ]
    },
    {
     "name": "stderr",
     "output_type": "stream",
     "text": [
      "                                                                                                                       \r"
     ]
    },
    {
     "name": "stdout",
     "output_type": "stream",
     "text": [
      "Moviepy - Done !\n",
      "Moviepy - video ready word/word18/word_3.mp4\n"
     ]
    },
    {
     "name": "stderr",
     "output_type": "stream",
     "text": [
      "\r",
      "t:   0%|                                                                             | 0/120 [00:00<?, ?it/s, now=None]"
     ]
    },
    {
     "name": "stdout",
     "output_type": "stream",
     "text": [
      "Moviepy - Building video word/word18/word_4.mp4.\n",
      "Moviepy - Writing video word/word18/word_4.mp4\n",
      "\n"
     ]
    },
    {
     "name": "stderr",
     "output_type": "stream",
     "text": [
      "                                                                                                                       \r"
     ]
    },
    {
     "name": "stdout",
     "output_type": "stream",
     "text": [
      "Moviepy - Done !\n",
      "Moviepy - video ready word/word18/word_4.mp4\n"
     ]
    },
    {
     "name": "stderr",
     "output_type": "stream",
     "text": [
      "\r",
      "t:   0%|                                                                             | 0/120 [00:00<?, ?it/s, now=None]"
     ]
    },
    {
     "name": "stdout",
     "output_type": "stream",
     "text": [
      "Moviepy - Building video word/word18/word_5.mp4.\n",
      "Moviepy - Writing video word/word18/word_5.mp4\n",
      "\n"
     ]
    },
    {
     "name": "stderr",
     "output_type": "stream",
     "text": [
      "                                                                                                                       \r"
     ]
    },
    {
     "name": "stdout",
     "output_type": "stream",
     "text": [
      "Moviepy - Done !\n",
      "Moviepy - video ready word/word18/word_5.mp4\n"
     ]
    },
    {
     "name": "stderr",
     "output_type": "stream",
     "text": [
      "\r",
      "t:   0%|                                                                              | 0/60 [00:00<?, ?it/s, now=None]"
     ]
    },
    {
     "name": "stdout",
     "output_type": "stream",
     "text": [
      "Moviepy - Building video word/word18/word_6.mp4.\n",
      "Moviepy - Writing video word/word18/word_6.mp4\n",
      "\n"
     ]
    },
    {
     "name": "stderr",
     "output_type": "stream",
     "text": [
      "                                                                                                                       \r"
     ]
    },
    {
     "name": "stdout",
     "output_type": "stream",
     "text": [
      "Moviepy - Done !\n",
      "Moviepy - video ready word/word18/word_6.mp4\n",
      "Moviepy - Building video word/word18/word_7.mp4.\n",
      "Moviepy - Writing video word/word18/word_7.mp4\n",
      "\n"
     ]
    },
    {
     "name": "stderr",
     "output_type": "stream",
     "text": [
      "                                                                                                                       \r"
     ]
    },
    {
     "name": "stdout",
     "output_type": "stream",
     "text": [
      "Moviepy - Done !\n",
      "Moviepy - video ready word/word18/word_7.mp4\n"
     ]
    },
    {
     "name": "stderr",
     "output_type": "stream",
     "text": [
      "t:   3%|██▎                                                                   | 2/60 [00:00<00:04, 11.80it/s, now=None]"
     ]
    },
    {
     "name": "stdout",
     "output_type": "stream",
     "text": [
      "Moviepy - Building video word/word18/word_8.mp4.\n",
      "Moviepy - Writing video word/word18/word_8.mp4\n",
      "\n"
     ]
    },
    {
     "name": "stderr",
     "output_type": "stream",
     "text": [
      "                                                                                                                       \r"
     ]
    },
    {
     "name": "stdout",
     "output_type": "stream",
     "text": [
      "Moviepy - Done !\n",
      "Moviepy - video ready word/word18/word_8.mp4\n"
     ]
    },
    {
     "name": "stderr",
     "output_type": "stream",
     "text": [
      "\r",
      "t:   0%|                                                                              | 0/60 [00:00<?, ?it/s, now=None]"
     ]
    },
    {
     "name": "stdout",
     "output_type": "stream",
     "text": [
      "Moviepy - Building video word/word18/word_9.mp4.\n",
      "Moviepy - Writing video word/word18/word_9.mp4\n",
      "\n"
     ]
    },
    {
     "name": "stderr",
     "output_type": "stream",
     "text": [
      "                                                                                                                       \r"
     ]
    },
    {
     "name": "stdout",
     "output_type": "stream",
     "text": [
      "Moviepy - Done !\n",
      "Moviepy - video ready word/word18/word_9.mp4\n"
     ]
    },
    {
     "name": "stderr",
     "output_type": "stream",
     "text": [
      "t:   3%|██▎                                                                   | 2/60 [00:00<00:04, 14.11it/s, now=None]"
     ]
    },
    {
     "name": "stdout",
     "output_type": "stream",
     "text": [
      "Moviepy - Building video word/word18/word_10.mp4.\n",
      "Moviepy - Writing video word/word18/word_10.mp4\n",
      "\n"
     ]
    },
    {
     "name": "stderr",
     "output_type": "stream",
     "text": [
      "                                                                                                                       \r"
     ]
    },
    {
     "name": "stdout",
     "output_type": "stream",
     "text": [
      "Moviepy - Done !\n",
      "Moviepy - video ready word/word18/word_10.mp4\n"
     ]
    },
    {
     "name": "stderr",
     "output_type": "stream",
     "text": [
      "t:   2%|█▏                                                                   | 2/120 [00:00<00:08, 13.99it/s, now=None]"
     ]
    },
    {
     "name": "stdout",
     "output_type": "stream",
     "text": [
      "Moviepy - Building video word/word18/word_11.mp4.\n",
      "Moviepy - Writing video word/word18/word_11.mp4\n",
      "\n"
     ]
    },
    {
     "name": "stderr",
     "output_type": "stream",
     "text": [
      "                                                                                                                       \r"
     ]
    },
    {
     "name": "stdout",
     "output_type": "stream",
     "text": [
      "Moviepy - Done !\n",
      "Moviepy - video ready word/word18/word_11.mp4\n"
     ]
    },
    {
     "name": "stderr",
     "output_type": "stream",
     "text": [
      "\r",
      "t:   0%|                                                                              | 0/60 [00:00<?, ?it/s, now=None]"
     ]
    },
    {
     "name": "stdout",
     "output_type": "stream",
     "text": [
      "Moviepy - Building video word/word18/word_12.mp4.\n",
      "Moviepy - Writing video word/word18/word_12.mp4\n",
      "\n"
     ]
    },
    {
     "name": "stderr",
     "output_type": "stream",
     "text": [
      "                                                                                                                       \r"
     ]
    },
    {
     "name": "stdout",
     "output_type": "stream",
     "text": [
      "Moviepy - Done !\n",
      "Moviepy - video ready word/word18/word_12.mp4\n"
     ]
    },
    {
     "name": "stderr",
     "output_type": "stream",
     "text": [
      "t:   3%|██▎                                                                   | 2/60 [00:00<00:04, 11.91it/s, now=None]"
     ]
    },
    {
     "name": "stdout",
     "output_type": "stream",
     "text": [
      "Moviepy - Building video word/word18/word_13.mp4.\n",
      "Moviepy - Writing video word/word18/word_13.mp4\n",
      "\n"
     ]
    },
    {
     "name": "stderr",
     "output_type": "stream",
     "text": [
      "                                                                                                                       \r"
     ]
    },
    {
     "name": "stdout",
     "output_type": "stream",
     "text": [
      "Moviepy - Done !\n",
      "Moviepy - video ready word/word18/word_13.mp4\n"
     ]
    },
    {
     "name": "stderr",
     "output_type": "stream",
     "text": [
      "\r",
      "t:   0%|                                                                              | 0/60 [00:00<?, ?it/s, now=None]"
     ]
    },
    {
     "name": "stdout",
     "output_type": "stream",
     "text": [
      "Moviepy - Building video word/word18/word_14.mp4.\n",
      "Moviepy - Writing video word/word18/word_14.mp4\n",
      "\n"
     ]
    },
    {
     "name": "stderr",
     "output_type": "stream",
     "text": [
      "                                                                                                                       \r"
     ]
    },
    {
     "name": "stdout",
     "output_type": "stream",
     "text": [
      "Moviepy - Done !\n",
      "Moviepy - video ready word/word18/word_14.mp4\n",
      "['word/word18\\\\word_0.mp4', 'word/word18\\\\word_1.mp4', 'word/word18\\\\word_2.mp4', 'word/word18\\\\word_3.mp4', 'word/word18\\\\word_4.mp4', 'word/word18\\\\word_5.mp4', 'word/word18\\\\word_6.mp4', 'word/word18\\\\word_7.mp4', 'word/word18\\\\word_8.mp4', 'word/word18\\\\word_9.mp4', 'word/word18\\\\word_10.mp4', 'word/word18\\\\word_11.mp4', 'word/word18\\\\word_12.mp4', 'word/word18\\\\word_13.mp4', 'word/word18\\\\word_14.mp4']\n"
     ]
    },
    {
     "name": "stderr",
     "output_type": "stream",
     "text": [
      "t:   1%|▍                                                                    | 2/296 [00:00<00:22, 13.22it/s, now=None]"
     ]
    },
    {
     "name": "stdout",
     "output_type": "stream",
     "text": [
      "final:  30.0\n",
      "비율 :  6.1\n",
      "Moviepy - Building video sentence/sentence_18.mp4.\n",
      "Moviepy - Writing video sentence/sentence_18.mp4\n",
      "\n"
     ]
    },
    {
     "name": "stderr",
     "output_type": "stream",
     "text": [
      "                                                                                                                       \r"
     ]
    },
    {
     "name": "stdout",
     "output_type": "stream",
     "text": [
      "Moviepy - Done !\n",
      "Moviepy - video ready sentence/sentence_18.mp4\n"
     ]
    },
    {
     "name": "stderr",
     "output_type": "stream",
     "text": [
      "\r",
      "t:   0%|                                                                              | 0/60 [00:00<?, ?it/s, now=None]"
     ]
    },
    {
     "name": "stdout",
     "output_type": "stream",
     "text": [
      "Moviepy - Building video word/word19/word_0.mp4.\n",
      "Moviepy - Writing video word/word19/word_0.mp4\n",
      "\n"
     ]
    },
    {
     "name": "stderr",
     "output_type": "stream",
     "text": [
      "                                                                                                                       \r"
     ]
    },
    {
     "name": "stdout",
     "output_type": "stream",
     "text": [
      "Moviepy - Done !\n",
      "Moviepy - video ready word/word19/word_0.mp4\n"
     ]
    },
    {
     "name": "stderr",
     "output_type": "stream",
     "text": [
      "t:   3%|██▎                                                                   | 2/60 [00:00<00:04, 14.15it/s, now=None]"
     ]
    },
    {
     "name": "stdout",
     "output_type": "stream",
     "text": [
      "Moviepy - Building video word/word19/word_1.mp4.\n",
      "Moviepy - Writing video word/word19/word_1.mp4\n",
      "\n"
     ]
    },
    {
     "name": "stderr",
     "output_type": "stream",
     "text": [
      "                                                                                                                       \r"
     ]
    },
    {
     "name": "stdout",
     "output_type": "stream",
     "text": [
      "Moviepy - Done !\n",
      "Moviepy - video ready word/word19/word_1.mp4\n"
     ]
    },
    {
     "name": "stderr",
     "output_type": "stream",
     "text": [
      "t:   3%|██▎                                                                   | 2/60 [00:00<00:04, 13.95it/s, now=None]"
     ]
    },
    {
     "name": "stdout",
     "output_type": "stream",
     "text": [
      "Moviepy - Building video word/word19/word_2.mp4.\n",
      "Moviepy - Writing video word/word19/word_2.mp4\n",
      "\n"
     ]
    },
    {
     "name": "stderr",
     "output_type": "stream",
     "text": [
      "                                                                                                                       \r"
     ]
    },
    {
     "name": "stdout",
     "output_type": "stream",
     "text": [
      "Moviepy - Done !\n",
      "Moviepy - video ready word/word19/word_2.mp4\n"
     ]
    },
    {
     "name": "stderr",
     "output_type": "stream",
     "text": [
      "\r",
      "t:   0%|                                                                             | 0/120 [00:00<?, ?it/s, now=None]"
     ]
    },
    {
     "name": "stdout",
     "output_type": "stream",
     "text": [
      "Moviepy - Building video word/word19/word_3.mp4.\n",
      "Moviepy - Writing video word/word19/word_3.mp4\n",
      "\n"
     ]
    },
    {
     "name": "stderr",
     "output_type": "stream",
     "text": [
      "                                                                                                                       \r"
     ]
    },
    {
     "name": "stdout",
     "output_type": "stream",
     "text": [
      "Moviepy - Done !\n",
      "Moviepy - video ready word/word19/word_3.mp4\n"
     ]
    },
    {
     "name": "stderr",
     "output_type": "stream",
     "text": [
      "\r",
      "t:   0%|                                                                             | 0/120 [00:00<?, ?it/s, now=None]"
     ]
    },
    {
     "name": "stdout",
     "output_type": "stream",
     "text": [
      "Moviepy - Building video word/word19/word_4.mp4.\n",
      "Moviepy - Writing video word/word19/word_4.mp4\n",
      "\n"
     ]
    },
    {
     "name": "stderr",
     "output_type": "stream",
     "text": [
      "                                                                                                                       \r"
     ]
    },
    {
     "name": "stdout",
     "output_type": "stream",
     "text": [
      "Moviepy - Done !\n",
      "Moviepy - video ready word/word19/word_4.mp4\n"
     ]
    },
    {
     "name": "stderr",
     "output_type": "stream",
     "text": [
      "t:   2%|█▏                                                                   | 2/120 [00:00<00:06, 17.04it/s, now=None]"
     ]
    },
    {
     "name": "stdout",
     "output_type": "stream",
     "text": [
      "Moviepy - Building video word/word19/word_5.mp4.\n",
      "Moviepy - Writing video word/word19/word_5.mp4\n",
      "\n"
     ]
    },
    {
     "name": "stderr",
     "output_type": "stream",
     "text": [
      "                                                                                                                       \r"
     ]
    },
    {
     "name": "stdout",
     "output_type": "stream",
     "text": [
      "Moviepy - Done !\n",
      "Moviepy - video ready word/word19/word_5.mp4\n"
     ]
    },
    {
     "name": "stderr",
     "output_type": "stream",
     "text": [
      "t:   3%|██▎                                                                   | 2/60 [00:00<00:04, 13.15it/s, now=None]"
     ]
    },
    {
     "name": "stdout",
     "output_type": "stream",
     "text": [
      "Moviepy - Building video word/word19/word_6.mp4.\n",
      "Moviepy - Writing video word/word19/word_6.mp4\n",
      "\n"
     ]
    },
    {
     "name": "stderr",
     "output_type": "stream",
     "text": [
      "                                                                                                                       \r"
     ]
    },
    {
     "name": "stdout",
     "output_type": "stream",
     "text": [
      "Moviepy - Done !\n",
      "Moviepy - video ready word/word19/word_6.mp4\n"
     ]
    },
    {
     "name": "stderr",
     "output_type": "stream",
     "text": [
      "\r",
      "t:   0%|                                                                             | 0/120 [00:00<?, ?it/s, now=None]"
     ]
    },
    {
     "name": "stdout",
     "output_type": "stream",
     "text": [
      "Moviepy - Building video word/word19/word_7.mp4.\n",
      "Moviepy - Writing video word/word19/word_7.mp4\n",
      "\n"
     ]
    },
    {
     "name": "stderr",
     "output_type": "stream",
     "text": [
      "                                                                                                                       \r"
     ]
    },
    {
     "name": "stdout",
     "output_type": "stream",
     "text": [
      "Moviepy - Done !\n",
      "Moviepy - video ready word/word19/word_7.mp4\n"
     ]
    },
    {
     "name": "stderr",
     "output_type": "stream",
     "text": [
      "\r",
      "t:   0%|                                                                             | 0/120 [00:00<?, ?it/s, now=None]"
     ]
    },
    {
     "name": "stdout",
     "output_type": "stream",
     "text": [
      "Moviepy - Building video word/word19/word_8.mp4.\n",
      "Moviepy - Writing video word/word19/word_8.mp4\n",
      "\n"
     ]
    },
    {
     "name": "stderr",
     "output_type": "stream",
     "text": [
      "                                                                                                                       \r"
     ]
    },
    {
     "name": "stdout",
     "output_type": "stream",
     "text": [
      "Moviepy - Done !\n",
      "Moviepy - video ready word/word19/word_8.mp4\n"
     ]
    },
    {
     "name": "stderr",
     "output_type": "stream",
     "text": [
      "t:   3%|██▎                                                                   | 2/60 [00:00<00:04, 12.68it/s, now=None]"
     ]
    },
    {
     "name": "stdout",
     "output_type": "stream",
     "text": [
      "Moviepy - Building video word/word19/word_9.mp4.\n",
      "Moviepy - Writing video word/word19/word_9.mp4\n",
      "\n"
     ]
    },
    {
     "name": "stderr",
     "output_type": "stream",
     "text": [
      "                                                                                                                       \r"
     ]
    },
    {
     "name": "stdout",
     "output_type": "stream",
     "text": [
      "Moviepy - Done !\n",
      "Moviepy - video ready word/word19/word_9.mp4\n"
     ]
    },
    {
     "name": "stderr",
     "output_type": "stream",
     "text": [
      "t:   2%|█▋                                                                   | 3/120 [00:00<00:04, 28.92it/s, now=None]"
     ]
    },
    {
     "name": "stdout",
     "output_type": "stream",
     "text": [
      "Moviepy - Building video word/word19/word_10.mp4.\n",
      "Moviepy - Writing video word/word19/word_10.mp4\n",
      "\n"
     ]
    },
    {
     "name": "stderr",
     "output_type": "stream",
     "text": [
      "                                                                                                                       \r"
     ]
    },
    {
     "name": "stdout",
     "output_type": "stream",
     "text": [
      "Moviepy - Done !\n",
      "Moviepy - video ready word/word19/word_10.mp4\n"
     ]
    },
    {
     "name": "stderr",
     "output_type": "stream",
     "text": [
      "t:   3%|██▎                                                                   | 2/60 [00:00<00:05, 11.37it/s, now=None]"
     ]
    },
    {
     "name": "stdout",
     "output_type": "stream",
     "text": [
      "Moviepy - Building video word/word19/word_11.mp4.\n",
      "Moviepy - Writing video word/word19/word_11.mp4\n",
      "\n"
     ]
    },
    {
     "name": "stderr",
     "output_type": "stream",
     "text": [
      "                                                                                                                       \r"
     ]
    },
    {
     "name": "stdout",
     "output_type": "stream",
     "text": [
      "Moviepy - Done !\n",
      "Moviepy - video ready word/word19/word_11.mp4\n"
     ]
    },
    {
     "name": "stderr",
     "output_type": "stream",
     "text": [
      "t:   3%|██▎                                                                   | 2/60 [00:00<00:03, 15.14it/s, now=None]"
     ]
    },
    {
     "name": "stdout",
     "output_type": "stream",
     "text": [
      "Moviepy - Building video word/word19/word_12.mp4.\n",
      "Moviepy - Writing video word/word19/word_12.mp4\n",
      "\n"
     ]
    },
    {
     "name": "stderr",
     "output_type": "stream",
     "text": [
      "                                                                                                                       \r"
     ]
    },
    {
     "name": "stdout",
     "output_type": "stream",
     "text": [
      "Moviepy - Done !\n",
      "Moviepy - video ready word/word19/word_12.mp4\n"
     ]
    },
    {
     "name": "stderr",
     "output_type": "stream",
     "text": [
      "t:   2%|█▏                                                                   | 2/120 [00:00<00:08, 14.61it/s, now=None]"
     ]
    },
    {
     "name": "stdout",
     "output_type": "stream",
     "text": [
      "Moviepy - Building video word/word19/word_13.mp4.\n",
      "Moviepy - Writing video word/word19/word_13.mp4\n",
      "\n"
     ]
    },
    {
     "name": "stderr",
     "output_type": "stream",
     "text": [
      "                                                                                                                       \r"
     ]
    },
    {
     "name": "stdout",
     "output_type": "stream",
     "text": [
      "Moviepy - Done !\n",
      "Moviepy - video ready word/word19/word_13.mp4\n"
     ]
    },
    {
     "name": "stderr",
     "output_type": "stream",
     "text": [
      "\r",
      "t:   0%|                                                                              | 0/60 [00:00<?, ?it/s, now=None]"
     ]
    },
    {
     "name": "stdout",
     "output_type": "stream",
     "text": [
      "Moviepy - Building video word/word19/word_14.mp4.\n",
      "Moviepy - Writing video word/word19/word_14.mp4\n",
      "\n"
     ]
    },
    {
     "name": "stderr",
     "output_type": "stream",
     "text": [
      "                                                                                                                       \r"
     ]
    },
    {
     "name": "stdout",
     "output_type": "stream",
     "text": [
      "Moviepy - Done !\n",
      "Moviepy - video ready word/word19/word_14.mp4\n"
     ]
    },
    {
     "name": "stderr",
     "output_type": "stream",
     "text": [
      "t:   3%|██▎                                                                   | 2/60 [00:00<00:03, 15.53it/s, now=None]"
     ]
    },
    {
     "name": "stdout",
     "output_type": "stream",
     "text": [
      "Moviepy - Building video word/word19/word_15.mp4.\n",
      "Moviepy - Writing video word/word19/word_15.mp4\n",
      "\n"
     ]
    },
    {
     "name": "stderr",
     "output_type": "stream",
     "text": [
      "                                                                                                                       \r"
     ]
    },
    {
     "name": "stdout",
     "output_type": "stream",
     "text": [
      "Moviepy - Done !\n",
      "Moviepy - video ready word/word19/word_15.mp4\n"
     ]
    },
    {
     "name": "stderr",
     "output_type": "stream",
     "text": [
      "\r",
      "t:   0%|                                                                              | 0/60 [00:00<?, ?it/s, now=None]"
     ]
    },
    {
     "name": "stdout",
     "output_type": "stream",
     "text": [
      "Moviepy - Building video word/word19/word_16.mp4.\n",
      "Moviepy - Writing video word/word19/word_16.mp4\n",
      "\n"
     ]
    },
    {
     "name": "stderr",
     "output_type": "stream",
     "text": [
      "                                                                                                                       \r"
     ]
    },
    {
     "name": "stdout",
     "output_type": "stream",
     "text": [
      "Moviepy - Done !\n",
      "Moviepy - video ready word/word19/word_16.mp4\n"
     ]
    },
    {
     "name": "stderr",
     "output_type": "stream",
     "text": [
      "\r",
      "t:   0%|                                                                              | 0/60 [00:00<?, ?it/s, now=None]"
     ]
    },
    {
     "name": "stdout",
     "output_type": "stream",
     "text": [
      "Moviepy - Building video word/word19/word_17.mp4.\n",
      "Moviepy - Writing video word/word19/word_17.mp4\n",
      "\n"
     ]
    },
    {
     "name": "stderr",
     "output_type": "stream",
     "text": [
      "                                                                                                                       \r"
     ]
    },
    {
     "name": "stdout",
     "output_type": "stream",
     "text": [
      "Moviepy - Done !\n",
      "Moviepy - video ready word/word19/word_17.mp4\n"
     ]
    },
    {
     "name": "stderr",
     "output_type": "stream",
     "text": [
      "\r",
      "t:   0%|                                                                              | 0/60 [00:00<?, ?it/s, now=None]"
     ]
    },
    {
     "name": "stdout",
     "output_type": "stream",
     "text": [
      "Moviepy - Building video word/word19/word_18.mp4.\n",
      "Moviepy - Writing video word/word19/word_18.mp4\n",
      "\n"
     ]
    },
    {
     "name": "stderr",
     "output_type": "stream",
     "text": [
      "                                                                                                                       \r"
     ]
    },
    {
     "name": "stdout",
     "output_type": "stream",
     "text": [
      "Moviepy - Done !\n",
      "Moviepy - video ready word/word19/word_18.mp4\n"
     ]
    },
    {
     "name": "stderr",
     "output_type": "stream",
     "text": [
      "t:   3%|██▎                                                                   | 2/60 [00:00<00:03, 14.98it/s, now=None]"
     ]
    },
    {
     "name": "stdout",
     "output_type": "stream",
     "text": [
      "Moviepy - Building video word/word19/word_19.mp4.\n",
      "Moviepy - Writing video word/word19/word_19.mp4\n",
      "\n"
     ]
    },
    {
     "name": "stderr",
     "output_type": "stream",
     "text": [
      "                                                                                                                       \r"
     ]
    },
    {
     "name": "stdout",
     "output_type": "stream",
     "text": [
      "Moviepy - Done !\n",
      "Moviepy - video ready word/word19/word_19.mp4\n",
      "['word/word19\\\\word_0.mp4', 'word/word19\\\\word_1.mp4', 'word/word19\\\\word_2.mp4', 'word/word19\\\\word_3.mp4', 'word/word19\\\\word_4.mp4', 'word/word19\\\\word_5.mp4', 'word/word19\\\\word_6.mp4', 'word/word19\\\\word_7.mp4', 'word/word19\\\\word_8.mp4', 'word/word19\\\\word_9.mp4', 'word/word19\\\\word_10.mp4', 'word/word19\\\\word_11.mp4', 'word/word19\\\\word_12.mp4', 'word/word19\\\\word_13.mp4', 'word/word19\\\\word_14.mp4', 'word/word19\\\\word_15.mp4', 'word/word19\\\\word_16.mp4', 'word/word19\\\\word_17.mp4', 'word/word19\\\\word_18.mp4', 'word/word19\\\\word_19.mp4']\n"
     ]
    },
    {
     "name": "stderr",
     "output_type": "stream",
     "text": [
      "t:   0%|▎                                                                    | 2/437 [00:00<00:28, 15.16it/s, now=None]"
     ]
    },
    {
     "name": "stdout",
     "output_type": "stream",
     "text": [
      "final:  40.0\n",
      "비율 :  5.5\n",
      "Moviepy - Building video sentence/sentence_19.mp4.\n",
      "Moviepy - Writing video sentence/sentence_19.mp4\n",
      "\n"
     ]
    },
    {
     "name": "stderr",
     "output_type": "stream",
     "text": [
      "                                                                                                                       \r"
     ]
    },
    {
     "name": "stdout",
     "output_type": "stream",
     "text": [
      "Moviepy - Done !\n",
      "Moviepy - video ready sentence/sentence_19.mp4\n"
     ]
    },
    {
     "name": "stderr",
     "output_type": "stream",
     "text": [
      "t:   2%|█▏                                                                   | 2/120 [00:00<00:07, 15.26it/s, now=None]"
     ]
    },
    {
     "name": "stdout",
     "output_type": "stream",
     "text": [
      "Moviepy - Building video word/word20/word_0.mp4.\n",
      "Moviepy - Writing video word/word20/word_0.mp4\n",
      "\n"
     ]
    },
    {
     "name": "stderr",
     "output_type": "stream",
     "text": [
      "                                                                                                                       \r"
     ]
    },
    {
     "name": "stdout",
     "output_type": "stream",
     "text": [
      "Moviepy - Done !\n",
      "Moviepy - video ready word/word20/word_0.mp4\n"
     ]
    },
    {
     "name": "stderr",
     "output_type": "stream",
     "text": [
      "\r",
      "t:   0%|                                                                             | 0/120 [00:00<?, ?it/s, now=None]"
     ]
    },
    {
     "name": "stdout",
     "output_type": "stream",
     "text": [
      "Moviepy - Building video word/word20/word_1.mp4.\n",
      "Moviepy - Writing video word/word20/word_1.mp4\n",
      "\n"
     ]
    },
    {
     "name": "stderr",
     "output_type": "stream",
     "text": [
      "                                                                                                                       \r"
     ]
    },
    {
     "name": "stdout",
     "output_type": "stream",
     "text": [
      "Moviepy - Done !\n",
      "Moviepy - video ready word/word20/word_1.mp4\n"
     ]
    },
    {
     "name": "stderr",
     "output_type": "stream",
     "text": [
      "t:   2%|█▏                                                                   | 2/120 [00:00<00:08, 14.26it/s, now=None]"
     ]
    },
    {
     "name": "stdout",
     "output_type": "stream",
     "text": [
      "Moviepy - Building video word/word20/word_2.mp4.\n",
      "Moviepy - Writing video word/word20/word_2.mp4\n",
      "\n"
     ]
    },
    {
     "name": "stderr",
     "output_type": "stream",
     "text": [
      "                                                                                                                       \r"
     ]
    },
    {
     "name": "stdout",
     "output_type": "stream",
     "text": [
      "Moviepy - Done !\n",
      "Moviepy - video ready word/word20/word_2.mp4\n"
     ]
    },
    {
     "name": "stderr",
     "output_type": "stream",
     "text": [
      "\r",
      "t:   0%|                                                                              | 0/60 [00:00<?, ?it/s, now=None]"
     ]
    },
    {
     "name": "stdout",
     "output_type": "stream",
     "text": [
      "Moviepy - Building video word/word20/word_3.mp4.\n",
      "Moviepy - Writing video word/word20/word_3.mp4\n",
      "\n"
     ]
    },
    {
     "name": "stderr",
     "output_type": "stream",
     "text": [
      "                                                                                                                       \r"
     ]
    },
    {
     "name": "stdout",
     "output_type": "stream",
     "text": [
      "Moviepy - Done !\n",
      "Moviepy - video ready word/word20/word_3.mp4\n"
     ]
    },
    {
     "name": "stderr",
     "output_type": "stream",
     "text": [
      "\r",
      "t:   0%|                                                                             | 0/120 [00:00<?, ?it/s, now=None]"
     ]
    },
    {
     "name": "stdout",
     "output_type": "stream",
     "text": [
      "Moviepy - Building video word/word20/word_4.mp4.\n",
      "Moviepy - Writing video word/word20/word_4.mp4\n",
      "\n"
     ]
    },
    {
     "name": "stderr",
     "output_type": "stream",
     "text": [
      "                                                                                                                       \r"
     ]
    },
    {
     "name": "stdout",
     "output_type": "stream",
     "text": [
      "Moviepy - Done !\n",
      "Moviepy - video ready word/word20/word_4.mp4\n"
     ]
    },
    {
     "name": "stderr",
     "output_type": "stream",
     "text": [
      "t:   3%|██▎                                                                   | 2/60 [00:00<00:03, 15.15it/s, now=None]"
     ]
    },
    {
     "name": "stdout",
     "output_type": "stream",
     "text": [
      "Moviepy - Building video word/word20/word_5.mp4.\n",
      "Moviepy - Writing video word/word20/word_5.mp4\n",
      "\n"
     ]
    },
    {
     "name": "stderr",
     "output_type": "stream",
     "text": [
      "                                                                                                                       \r"
     ]
    },
    {
     "name": "stdout",
     "output_type": "stream",
     "text": [
      "Moviepy - Done !\n",
      "Moviepy - video ready word/word20/word_5.mp4\n"
     ]
    },
    {
     "name": "stderr",
     "output_type": "stream",
     "text": [
      "\r",
      "t:   0%|                                                                              | 0/60 [00:00<?, ?it/s, now=None]"
     ]
    },
    {
     "name": "stdout",
     "output_type": "stream",
     "text": [
      "Moviepy - Building video word/word20/word_6.mp4.\n",
      "Moviepy - Writing video word/word20/word_6.mp4\n",
      "\n"
     ]
    },
    {
     "name": "stderr",
     "output_type": "stream",
     "text": [
      "                                                                                                                       \r"
     ]
    },
    {
     "name": "stdout",
     "output_type": "stream",
     "text": [
      "Moviepy - Done !\n",
      "Moviepy - video ready word/word20/word_6.mp4\n"
     ]
    },
    {
     "name": "stderr",
     "output_type": "stream",
     "text": [
      "\r",
      "t:   0%|                                                                              | 0/60 [00:00<?, ?it/s, now=None]"
     ]
    },
    {
     "name": "stdout",
     "output_type": "stream",
     "text": [
      "Moviepy - Building video word/word20/word_7.mp4.\n",
      "Moviepy - Writing video word/word20/word_7.mp4\n",
      "\n"
     ]
    },
    {
     "name": "stderr",
     "output_type": "stream",
     "text": [
      "                                                                                                                       \r"
     ]
    },
    {
     "name": "stdout",
     "output_type": "stream",
     "text": [
      "Moviepy - Done !\n",
      "Moviepy - video ready word/word20/word_7.mp4\n"
     ]
    },
    {
     "name": "stderr",
     "output_type": "stream",
     "text": [
      "t:   3%|██▎                                                                   | 2/60 [00:00<00:03, 14.98it/s, now=None]"
     ]
    },
    {
     "name": "stdout",
     "output_type": "stream",
     "text": [
      "Moviepy - Building video word/word20/word_8.mp4.\n",
      "Moviepy - Writing video word/word20/word_8.mp4\n",
      "\n"
     ]
    },
    {
     "name": "stderr",
     "output_type": "stream",
     "text": [
      "                                                                                                                       \r"
     ]
    },
    {
     "name": "stdout",
     "output_type": "stream",
     "text": [
      "Moviepy - Done !\n",
      "Moviepy - video ready word/word20/word_8.mp4\n"
     ]
    },
    {
     "name": "stderr",
     "output_type": "stream",
     "text": [
      "\r",
      "t:   0%|                                                                              | 0/60 [00:00<?, ?it/s, now=None]"
     ]
    },
    {
     "name": "stdout",
     "output_type": "stream",
     "text": [
      "Moviepy - Building video word/word20/word_9.mp4.\n",
      "Moviepy - Writing video word/word20/word_9.mp4\n",
      "\n"
     ]
    },
    {
     "name": "stderr",
     "output_type": "stream",
     "text": [
      "                                                                                                                       \r"
     ]
    },
    {
     "name": "stdout",
     "output_type": "stream",
     "text": [
      "Moviepy - Done !\n",
      "Moviepy - video ready word/word20/word_9.mp4\n"
     ]
    },
    {
     "name": "stderr",
     "output_type": "stream",
     "text": [
      "\r",
      "t:   0%|                                                                             | 0/120 [00:00<?, ?it/s, now=None]"
     ]
    },
    {
     "name": "stdout",
     "output_type": "stream",
     "text": [
      "Moviepy - Building video word/word20/word_10.mp4.\n",
      "Moviepy - Writing video word/word20/word_10.mp4\n",
      "\n"
     ]
    },
    {
     "name": "stderr",
     "output_type": "stream",
     "text": [
      "                                                                                                                       \r"
     ]
    },
    {
     "name": "stdout",
     "output_type": "stream",
     "text": [
      "Moviepy - Done !\n",
      "Moviepy - video ready word/word20/word_10.mp4\n"
     ]
    },
    {
     "name": "stderr",
     "output_type": "stream",
     "text": [
      "\r",
      "t:   0%|                                                                              | 0/60 [00:00<?, ?it/s, now=None]"
     ]
    },
    {
     "name": "stdout",
     "output_type": "stream",
     "text": [
      "Moviepy - Building video word/word20/word_11.mp4.\n",
      "Moviepy - Writing video word/word20/word_11.mp4\n",
      "\n"
     ]
    },
    {
     "name": "stderr",
     "output_type": "stream",
     "text": [
      "                                                                                                                       \r"
     ]
    },
    {
     "name": "stdout",
     "output_type": "stream",
     "text": [
      "Moviepy - Done !\n",
      "Moviepy - video ready word/word20/word_11.mp4\n"
     ]
    },
    {
     "name": "stderr",
     "output_type": "stream",
     "text": [
      "t:   3%|██▎                                                                   | 2/60 [00:00<00:04, 14.48it/s, now=None]"
     ]
    },
    {
     "name": "stdout",
     "output_type": "stream",
     "text": [
      "Moviepy - Building video word/word20/word_12.mp4.\n",
      "Moviepy - Writing video word/word20/word_12.mp4\n",
      "\n"
     ]
    },
    {
     "name": "stderr",
     "output_type": "stream",
     "text": [
      "                                                                                                                       \r"
     ]
    },
    {
     "name": "stdout",
     "output_type": "stream",
     "text": [
      "Moviepy - Done !\n",
      "Moviepy - video ready word/word20/word_12.mp4\n"
     ]
    },
    {
     "name": "stderr",
     "output_type": "stream",
     "text": [
      "t:   3%|██▎                                                                   | 2/60 [00:00<00:04, 13.48it/s, now=None]"
     ]
    },
    {
     "name": "stdout",
     "output_type": "stream",
     "text": [
      "Moviepy - Building video word/word20/word_13.mp4.\n",
      "Moviepy - Writing video word/word20/word_13.mp4\n",
      "\n"
     ]
    },
    {
     "name": "stderr",
     "output_type": "stream",
     "text": [
      "                                                                                                                       \r"
     ]
    },
    {
     "name": "stdout",
     "output_type": "stream",
     "text": [
      "Moviepy - Done !\n",
      "Moviepy - video ready word/word20/word_13.mp4\n",
      "['word/word20\\\\word_0.mp4', 'word/word20\\\\word_1.mp4', 'word/word20\\\\word_2.mp4', 'word/word20\\\\word_3.mp4', 'word/word20\\\\word_4.mp4', 'word/word20\\\\word_5.mp4', 'word/word20\\\\word_6.mp4', 'word/word20\\\\word_7.mp4', 'word/word20\\\\word_8.mp4', 'word/word20\\\\word_9.mp4', 'word/word20\\\\word_10.mp4', 'word/word20\\\\word_11.mp4', 'word/word20\\\\word_12.mp4', 'word/word20\\\\word_13.mp4']\n"
     ]
    },
    {
     "name": "stderr",
     "output_type": "stream",
     "text": [
      "t:   1%|▍                                                                    | 2/280 [00:00<00:17, 15.89it/s, now=None]"
     ]
    },
    {
     "name": "stdout",
     "output_type": "stream",
     "text": [
      "final:  28.0\n",
      "비율 :  6.0\n",
      "Moviepy - Building video sentence/sentence_20.mp4.\n",
      "Moviepy - Writing video sentence/sentence_20.mp4\n",
      "\n"
     ]
    },
    {
     "name": "stderr",
     "output_type": "stream",
     "text": [
      "                                                                                                                       \r"
     ]
    },
    {
     "name": "stdout",
     "output_type": "stream",
     "text": [
      "Moviepy - Done !\n",
      "Moviepy - video ready sentence/sentence_20.mp4\n"
     ]
    },
    {
     "name": "stderr",
     "output_type": "stream",
     "text": [
      "t:   2%|█▏                                                                   | 2/120 [00:00<00:07, 14.79it/s, now=None]"
     ]
    },
    {
     "name": "stdout",
     "output_type": "stream",
     "text": [
      "Moviepy - Building video word/word21/word_0.mp4.\n",
      "Moviepy - Writing video word/word21/word_0.mp4\n",
      "\n"
     ]
    },
    {
     "name": "stderr",
     "output_type": "stream",
     "text": [
      "                                                                                                                       \r"
     ]
    },
    {
     "name": "stdout",
     "output_type": "stream",
     "text": [
      "Moviepy - Done !\n",
      "Moviepy - video ready word/word21/word_0.mp4\n"
     ]
    },
    {
     "name": "stderr",
     "output_type": "stream",
     "text": [
      "\r",
      "t:   0%|                                                                              | 0/60 [00:00<?, ?it/s, now=None]"
     ]
    },
    {
     "name": "stdout",
     "output_type": "stream",
     "text": [
      "Moviepy - Building video word/word21/word_1.mp4.\n",
      "Moviepy - Writing video word/word21/word_1.mp4\n",
      "\n"
     ]
    },
    {
     "name": "stderr",
     "output_type": "stream",
     "text": [
      "                                                                                                                       \r"
     ]
    },
    {
     "name": "stdout",
     "output_type": "stream",
     "text": [
      "Moviepy - Done !\n",
      "Moviepy - video ready word/word21/word_1.mp4\n"
     ]
    },
    {
     "name": "stderr",
     "output_type": "stream",
     "text": [
      "t:   2%|█▏                                                                   | 2/120 [00:00<00:08, 14.39it/s, now=None]"
     ]
    },
    {
     "name": "stdout",
     "output_type": "stream",
     "text": [
      "Moviepy - Building video word/word21/word_2.mp4.\n",
      "Moviepy - Writing video word/word21/word_2.mp4\n",
      "\n"
     ]
    },
    {
     "name": "stderr",
     "output_type": "stream",
     "text": [
      "                                                                                                                       \r"
     ]
    },
    {
     "name": "stdout",
     "output_type": "stream",
     "text": [
      "Moviepy - Done !\n",
      "Moviepy - video ready word/word21/word_2.mp4\n"
     ]
    },
    {
     "name": "stderr",
     "output_type": "stream",
     "text": [
      "\r",
      "t:   0%|                                                                              | 0/60 [00:00<?, ?it/s, now=None]"
     ]
    },
    {
     "name": "stdout",
     "output_type": "stream",
     "text": [
      "Moviepy - Building video word/word21/word_3.mp4.\n",
      "Moviepy - Writing video word/word21/word_3.mp4\n",
      "\n"
     ]
    },
    {
     "name": "stderr",
     "output_type": "stream",
     "text": [
      "                                                                                                                       \r"
     ]
    },
    {
     "name": "stdout",
     "output_type": "stream",
     "text": [
      "Moviepy - Done !\n",
      "Moviepy - video ready word/word21/word_3.mp4\n"
     ]
    },
    {
     "name": "stderr",
     "output_type": "stream",
     "text": [
      "\r",
      "t:   0%|                                                                              | 0/60 [00:00<?, ?it/s, now=None]"
     ]
    },
    {
     "name": "stdout",
     "output_type": "stream",
     "text": [
      "Moviepy - Building video word/word21/word_4.mp4.\n",
      "Moviepy - Writing video word/word21/word_4.mp4\n",
      "\n"
     ]
    },
    {
     "name": "stderr",
     "output_type": "stream",
     "text": [
      "                                                                                                                       \r"
     ]
    },
    {
     "name": "stdout",
     "output_type": "stream",
     "text": [
      "Moviepy - Done !\n",
      "Moviepy - video ready word/word21/word_4.mp4\n",
      "['word/word21\\\\word_0.mp4', 'word/word21\\\\word_1.mp4', 'word/word21\\\\word_2.mp4', 'word/word21\\\\word_3.mp4', 'word/word21\\\\word_4.mp4']\n"
     ]
    },
    {
     "name": "stderr",
     "output_type": "stream",
     "text": [
      "t:   1%|▉                                                                    | 2/143 [00:00<00:09, 15.35it/s, now=None]"
     ]
    },
    {
     "name": "stdout",
     "output_type": "stream",
     "text": [
      "final:  10.0\n",
      "비율 :  4.2\n",
      "Moviepy - Building video sentence/sentence_21.mp4.\n",
      "Moviepy - Writing video sentence/sentence_21.mp4\n",
      "\n"
     ]
    },
    {
     "name": "stderr",
     "output_type": "stream",
     "text": [
      "                                                                                                                       \r"
     ]
    },
    {
     "name": "stdout",
     "output_type": "stream",
     "text": [
      "Moviepy - Done !\n",
      "Moviepy - video ready sentence/sentence_21.mp4\n"
     ]
    }
   ],
   "source": [
    "import os\n",
    "import urllib.request\n",
    "import glob\n",
    "from moviepy.editor import VideoFileClip, concatenate_videoclips\n",
    "import shutil\n",
    "import re\n",
    "import cv2\n",
    "from moviepy.video.io.ffmpeg_tools import *\n",
    "from moviepy.video.fx.crop import *\n",
    "from moviepy.editor import *\n",
    "import shutil\n",
    "\n",
    "# clip = VideoFileClip(#파일경로)\n",
    "# print(clip.duration)\n",
    "\n",
    "def save_signlanguage_video(href,name, num):  #일치하는 수화영상을 크롭하여 저장\n",
    "    output_location = f'word/word{num}/' + 'word_'+str(name)+ '.mp4'\n",
    "    clip = VideoFileClip(href).subclip(1,3).resize((560,360))    #수화영상의 1~3초만 잘라냄 > 크기 조절\n",
    "\n",
    "    new_clip = crop(clip, x1=70, y1=0, x2=490, y2=270)   #가슴까지 보이도록 crop\n",
    "    new_clip.write_videofile(output_location)\n",
    "\n",
    "    return output_location\n",
    "\n",
    "def speedx(file_list,n):   # 수화영상들을 병합해서 배속\n",
    "    clip_list = []\n",
    "    for i in file_list:\n",
    "        clip_list.append(VideoFileClip(i))\n",
    "    final_clip = concatenate_videoclips(clip_list)\n",
    "    print(\"final: \", final_clip.duration)\n",
    "#     t=ans[n][2]/final_clip.duration\n",
    "    t=round(final_clip.duration/ans[n][2],1)\n",
    "\n",
    "    print(\"비율 : \", t)\n",
    "    final_clip.speedx(t).write_videofile(f\"sentence/sentence_{n}.mp4\")\n",
    "    \n",
    "\n",
    "    \n",
    "num = 0 #0   #줄 몇갠지\n",
    "for i in link:\n",
    "    n=0   #한 줄안에 들어갈 영상 몇갠지\n",
    "    os.mkdir(f\"word/word{num}\")\n",
    "    for j in i:\n",
    "        href =j\n",
    "        save_signlanguage_video(href, n, num)\n",
    "        n+=1\n",
    "    file_list = sorted(glob.glob(f'word/word{num}/*.mp4'),key=os.path.getctime)\n",
    "    \n",
    "    print(file_list)\n",
    "    speedx(file_list, num)    \n",
    "    num+=1\n",
    "\n",
    " \n",
    "\n",
    "\n"
   ]
  },
  {
   "cell_type": "code",
   "execution_count": 18,
   "id": "061d456d",
   "metadata": {},
   "outputs": [
    {
     "name": "stderr",
     "output_type": "stream",
     "text": [
      "\r",
      "t:   0%|                                                                            | 0/5104 [00:00<?, ?it/s, now=None]"
     ]
    },
    {
     "name": "stdout",
     "output_type": "stream",
     "text": [
      "Moviepy - Building video total_demo2.mp4.\n",
      "Moviepy - Writing video total_demo2.mp4\n",
      "\n"
     ]
    },
    {
     "name": "stderr",
     "output_type": "stream",
     "text": [
      "                                                                                                                       \r"
     ]
    },
    {
     "name": "stdout",
     "output_type": "stream",
     "text": [
      "Moviepy - Done !\n",
      "Moviepy - video ready total_demo2.mp4\n"
     ]
    }
   ],
   "source": [
    "file_tot_list = sorted(glob.glob('sentence/*.mp4'), key=os.path.getctime)\n",
    "clip_tot_list = []\n",
    "\n",
    "\n",
    "\n",
    "for i in file_tot_list:\n",
    "    clip_tot_list.append(VideoFileClip(i))\n",
    "    \n",
    "final_tot_clip = concatenate_videoclips(clip_tot_list)\n",
    "final_tot_clip.write_videofile(\"total_demo2.mp4\")"
   ]
  },
  {
   "cell_type": "code",
   "execution_count": null,
   "id": "ebba310b",
   "metadata": {},
   "outputs": [],
   "source": []
  },
  {
   "cell_type": "code",
   "execution_count": null,
   "id": "6dbcc1c4",
   "metadata": {},
   "outputs": [],
   "source": []
  },
  {
   "cell_type": "code",
   "execution_count": null,
   "id": "0f599924",
   "metadata": {},
   "outputs": [],
   "source": []
  },
  {
   "cell_type": "code",
   "execution_count": null,
   "id": "614b98c8",
   "metadata": {},
   "outputs": [],
   "source": []
  }
 ],
 "metadata": {
  "kernelspec": {
   "display_name": "Python 3",
   "language": "python",
   "name": "python3"
  },
  "language_info": {
   "codemirror_mode": {
    "name": "ipython",
    "version": 3
   },
   "file_extension": ".py",
   "mimetype": "text/x-python",
   "name": "python",
   "nbconvert_exporter": "python",
   "pygments_lexer": "ipython3",
   "version": "3.8.8"
  }
 },
 "nbformat": 4,
 "nbformat_minor": 5
}
